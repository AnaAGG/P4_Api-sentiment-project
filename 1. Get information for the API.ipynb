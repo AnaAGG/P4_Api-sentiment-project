{
 "cells": [
  {
   "cell_type": "code",
   "execution_count": 2,
   "id": "demonstrated-medication",
   "metadata": {},
   "outputs": [],
   "source": [
    "import requests\n",
    "import re\n",
    "from bs4 import BeautifulSoup\n",
    "import pandas as pd\n",
    "import json"
   ]
  },
  {
   "cell_type": "markdown",
   "id": "cultural-complexity",
   "metadata": {},
   "source": [
    "## Referencias de ciencia"
   ]
  },
  {
   "cell_type": "code",
   "execution_count": null,
   "id": "awful-trigger",
   "metadata": {},
   "outputs": [],
   "source": [
    "url =' https://www.famousscientists.org/brilliant-biology-quotes/'"
   ]
  },
  {
   "cell_type": "code",
   "execution_count": 86,
   "id": "variable-receptor",
   "metadata": {},
   "outputs": [],
   "source": [
    "def biologist (url):\n",
    "    \n",
    "    name_list = []\n",
    "    sector_list = []\n",
    "    text_list = []\n",
    "    \n",
    "    page = requests.get(url)\n",
    "    print(response.status_code)\n",
    "    soup = BeautifulSoup(page.content, 'html.parser')\n",
    "    \n",
    "    #to get names\n",
    "    quotes = soup.find_all(\"div\", class_=\"quotename\")\n",
    "    for name in quotes:\n",
    "        name_list.append(name.get_text())\n",
    "        \n",
    "    #to get sector:\n",
    "    quotes = soup.find_all(\"div\", class_=\"quoto\")\n",
    "    for name in quotes:\n",
    "        sector_list.append(name.get_text())\n",
    "    \n",
    "    #to get phrase:\n",
    "    quotes = soup.find_all(\"div\", class_ = \"quoteblue\")\n",
    "    for name in quotes:\n",
    "        text_list.append(name.get_text('noscript'))\n",
    "        \n",
    "    #To get a dataframe\n",
    "    L = [list(row) for row in zip(name_list, sector_list, text_list)]\n",
    "    df = pd.DataFrame(L, columns = ['name_list', 'sector_list', 'text_list'])\n",
    "        \n",
    "    return df"
   ]
  },
  {
   "cell_type": "code",
   "execution_count": 87,
   "id": "framed-mayor",
   "metadata": {},
   "outputs": [
    {
     "name": "stdout",
     "output_type": "stream",
     "text": [
      "200\n"
     ]
    }
   ],
   "source": [
    "biologist = biologist(' https://www.famousscientists.org/brilliant-biology-quotes/')"
   ]
  },
  {
   "cell_type": "code",
   "execution_count": 88,
   "id": "fourth-strain",
   "metadata": {},
   "outputs": [
    {
     "data": {
      "text/html": [
       "<div>\n",
       "<style scoped>\n",
       "    .dataframe tbody tr th:only-of-type {\n",
       "        vertical-align: middle;\n",
       "    }\n",
       "\n",
       "    .dataframe tbody tr th {\n",
       "        vertical-align: top;\n",
       "    }\n",
       "\n",
       "    .dataframe thead th {\n",
       "        text-align: right;\n",
       "    }\n",
       "</style>\n",
       "<table border=\"1\" class=\"dataframe\">\n",
       "  <thead>\n",
       "    <tr style=\"text-align: right;\">\n",
       "      <th></th>\n",
       "      <th>name_list</th>\n",
       "      <th>sector_list</th>\n",
       "      <th>text_list</th>\n",
       "    </tr>\n",
       "  </thead>\n",
       "  <tbody>\n",
       "    <tr>\n",
       "      <th>0</th>\n",
       "      <td>Victor Scheffer, 1906 to 2011</td>\n",
       "      <td>Biologist</td>\n",
       "      <td>Although Nature needs thousands or millions of...</td>\n",
       "    </tr>\n",
       "    <tr>\n",
       "      <th>1</th>\n",
       "      <td>Antonie van Leeuwenhoek, 1632 to 1723</td>\n",
       "      <td>Biologist</td>\n",
       "      <td>I believe that thirty million of these animalc...</td>\n",
       "    </tr>\n",
       "    <tr>\n",
       "      <th>2</th>\n",
       "      <td>Richard Dawkins, 1941 – present</td>\n",
       "      <td>Evolutionary Biologist</td>\n",
       "      <td>Biology is the study of the complex things in ...</td>\n",
       "    </tr>\n",
       "    <tr>\n",
       "      <th>3</th>\n",
       "      <td>J. B. S. Haldane, 1892 to 1964</td>\n",
       "      <td>Biologist</td>\n",
       "      <td>If physics and biology one day meet, and one o...</td>\n",
       "    </tr>\n",
       "    <tr>\n",
       "      <th>4</th>\n",
       "      <td>Aristotle, 384 BC to 322 BC</td>\n",
       "      <td>Scientist, Philosopher</td>\n",
       "      <td>By ‘life,’ we mean a thing that can nourish it...</td>\n",
       "    </tr>\n",
       "  </tbody>\n",
       "</table>\n",
       "</div>"
      ],
      "text/plain": [
       "                               name_list             sector_list  \\\n",
       "0          Victor Scheffer, 1906 to 2011               Biologist   \n",
       "1  Antonie van Leeuwenhoek, 1632 to 1723               Biologist   \n",
       "2        Richard Dawkins, 1941 – present  Evolutionary Biologist   \n",
       "3         J. B. S. Haldane, 1892 to 1964               Biologist   \n",
       "4           Aristotle, 384 BC to 322 BC   Scientist, Philosopher   \n",
       "\n",
       "                                           text_list  \n",
       "0  Although Nature needs thousands or millions of...  \n",
       "1  I believe that thirty million of these animalc...  \n",
       "2  Biology is the study of the complex things in ...  \n",
       "3  If physics and biology one day meet, and one o...  \n",
       "4  By ‘life,’ we mean a thing that can nourish it...  "
      ]
     },
     "execution_count": 88,
     "metadata": {},
     "output_type": "execute_result"
    }
   ],
   "source": [
    "biologist.head()"
   ]
  },
  {
   "cell_type": "markdown",
   "id": "dangerous-laptop",
   "metadata": {},
   "source": [
    "## Referencias de literatura"
   ]
  },
  {
   "cell_type": "code",
   "execution_count": 89,
   "id": "realistic-roots",
   "metadata": {},
   "outputs": [],
   "source": [
    "def literature (url):\n",
    "    response = requests.get(url)\n",
    "    print(response.status_code)\n",
    "    \n",
    "    soup = BeautifulSoup(response.content, 'html.parser')\n",
    "    quotes = soup.find_all(\"h3\")\n",
    "    \n",
    "    #get literature quotes\n",
    "    literature = []\n",
    "    for text in quotes:\n",
    "        literature.append(text.get_text())\n",
    "        \n",
    "    #get author\n",
    "    quotes = soup.find_all(\"p\")\n",
    "    authors = []\n",
    "    for i in quotes[9:-7]:\n",
    "        authors.append(i.get_text())\n",
    "        a = authors[::2]\n",
    "                    \n",
    "    #To get a dataframe\n",
    "    L = [list(row) for row in zip(literature, a)]\n",
    "    df = pd.DataFrame(L, columns = ['phrase', 'author'])\n",
    "    df = df.drop(50)\n",
    "    df[['Author','Book']] = df['author'].str.split(\",\",expand=True,)\n",
    "    df = df.drop(['author'], axis = 1)\n",
    "    df['Section'] = 'literature'\n",
    "    \n",
    "    \n",
    "    return df"
   ]
  },
  {
   "cell_type": "code",
   "execution_count": 90,
   "id": "saved-waterproof",
   "metadata": {
    "scrolled": true
   },
   "outputs": [
    {
     "name": "stdout",
     "output_type": "stream",
     "text": [
      "200\n"
     ]
    }
   ],
   "source": [
    "literature = literature('https://www.headstuff.org/culture/literature/50-quotes-50-classics/')"
   ]
  },
  {
   "cell_type": "code",
   "execution_count": 91,
   "id": "eligible-musician",
   "metadata": {},
   "outputs": [
    {
     "data": {
      "text/html": [
       "<div>\n",
       "<style scoped>\n",
       "    .dataframe tbody tr th:only-of-type {\n",
       "        vertical-align: middle;\n",
       "    }\n",
       "\n",
       "    .dataframe tbody tr th {\n",
       "        vertical-align: top;\n",
       "    }\n",
       "\n",
       "    .dataframe thead th {\n",
       "        text-align: right;\n",
       "    }\n",
       "</style>\n",
       "<table border=\"1\" class=\"dataframe\">\n",
       "  <thead>\n",
       "    <tr style=\"text-align: right;\">\n",
       "      <th></th>\n",
       "      <th>phrase</th>\n",
       "      <th>Author</th>\n",
       "      <th>Book</th>\n",
       "      <th>Section</th>\n",
       "    </tr>\n",
       "  </thead>\n",
       "  <tbody>\n",
       "    <tr>\n",
       "      <th>0</th>\n",
       "      <td>Most of life is so dull that there is nothing ...</td>\n",
       "      <td>E. M. Forster</td>\n",
       "      <td>A Passage to India</td>\n",
       "      <td>literature</td>\n",
       "    </tr>\n",
       "    <tr>\n",
       "      <th>1</th>\n",
       "      <td>That is the one unforgivable sin in any societ...</td>\n",
       "      <td>Margaret Mitchell</td>\n",
       "      <td>Gone with the Wind</td>\n",
       "      <td>literature</td>\n",
       "    </tr>\n",
       "    <tr>\n",
       "      <th>2</th>\n",
       "      <td>Six months ago I had never been to England, an...</td>\n",
       "      <td>Ford Madox Ford</td>\n",
       "      <td>The Good Soldier</td>\n",
       "      <td>literature</td>\n",
       "    </tr>\n",
       "    <tr>\n",
       "      <th>3</th>\n",
       "      <td>The whole mad swirl of everything that was to ...</td>\n",
       "      <td>Jack Kerouac</td>\n",
       "      <td>On the Road</td>\n",
       "      <td>literature</td>\n",
       "    </tr>\n",
       "    <tr>\n",
       "      <th>4</th>\n",
       "      <td>In his Petersburg world, all people were divid...</td>\n",
       "      <td>Leo Tolstoy</td>\n",
       "      <td>Anna Karenina</td>\n",
       "      <td>literature</td>\n",
       "    </tr>\n",
       "    <tr>\n",
       "      <th>...</th>\n",
       "      <td>...</td>\n",
       "      <td>...</td>\n",
       "      <td>...</td>\n",
       "      <td>...</td>\n",
       "    </tr>\n",
       "    <tr>\n",
       "      <th>59</th>\n",
       "      <td>Time is the River on which the leaves of our t...</td>\n",
       "      <td>Gabriel García Márquez</td>\n",
       "      <td>One Hundred Years of Solitude</td>\n",
       "      <td>literature</td>\n",
       "    </tr>\n",
       "    <tr>\n",
       "      <th>60</th>\n",
       "      <td>I told Terry I was leaving. She had been think...</td>\n",
       "      <td>Mark Twain</td>\n",
       "      <td>The Adventures of Huckleberry Finn</td>\n",
       "      <td>literature</td>\n",
       "    </tr>\n",
       "    <tr>\n",
       "      <th>61</th>\n",
       "      <td>Babies, babies, babies. Why did God make so ma...</td>\n",
       "      <td>George Eliot</td>\n",
       "      <td>Middlemarch</td>\n",
       "      <td>literature</td>\n",
       "    </tr>\n",
       "    <tr>\n",
       "      <th>62</th>\n",
       "      <td>Her heart of compressed ash, which had resiste...</td>\n",
       "      <td>Geoffrey Chaucer</td>\n",
       "      <td>The Canterbury Tales</td>\n",
       "      <td>literature</td>\n",
       "    </tr>\n",
       "    <tr>\n",
       "      <th>63</th>\n",
       "      <td>Jim said that bees won’t sting idiots, but I d...</td>\n",
       "      <td>Dante Alighieri</td>\n",
       "      <td>The Divine Comedy</td>\n",
       "      <td>literature</td>\n",
       "    </tr>\n",
       "  </tbody>\n",
       "</table>\n",
       "<p>63 rows × 4 columns</p>\n",
       "</div>"
      ],
      "text/plain": [
       "                                               phrase                  Author  \\\n",
       "0   Most of life is so dull that there is nothing ...           E. M. Forster   \n",
       "1   That is the one unforgivable sin in any societ...       Margaret Mitchell   \n",
       "2   Six months ago I had never been to England, an...         Ford Madox Ford   \n",
       "3   The whole mad swirl of everything that was to ...            Jack Kerouac   \n",
       "4   In his Petersburg world, all people were divid...             Leo Tolstoy   \n",
       "..                                                ...                     ...   \n",
       "59  Time is the River on which the leaves of our t...  Gabriel García Márquez   \n",
       "60  I told Terry I was leaving. She had been think...              Mark Twain   \n",
       "61  Babies, babies, babies. Why did God make so ma...            George Eliot   \n",
       "62  Her heart of compressed ash, which had resiste...        Geoffrey Chaucer   \n",
       "63  Jim said that bees won’t sting idiots, but I d...         Dante Alighieri   \n",
       "\n",
       "                                   Book     Section  \n",
       "0                    A Passage to India  literature  \n",
       "1                    Gone with the Wind  literature  \n",
       "2                      The Good Soldier  literature  \n",
       "3                           On the Road  literature  \n",
       "4                         Anna Karenina  literature  \n",
       "..                                  ...         ...  \n",
       "59        One Hundred Years of Solitude  literature  \n",
       "60   The Adventures of Huckleberry Finn  literature  \n",
       "61                          Middlemarch  literature  \n",
       "62                 The Canterbury Tales  literature  \n",
       "63                    The Divine Comedy  literature  \n",
       "\n",
       "[63 rows x 4 columns]"
      ]
     },
     "execution_count": 91,
     "metadata": {},
     "output_type": "execute_result"
    }
   ],
   "source": [
    "literature"
   ]
  },
  {
   "cell_type": "markdown",
   "id": "adjustable-peripheral",
   "metadata": {},
   "source": [
    "## Referencias filosofia"
   ]
  },
  {
   "cell_type": "code",
   "execution_count": 3,
   "id": "incorrect-lobby",
   "metadata": {},
   "outputs": [],
   "source": [
    "url3 = ('https://www.philosophybasics.com/general_quotes.html')"
   ]
  },
  {
   "cell_type": "code",
   "execution_count": 7,
   "id": "accompanied-intro",
   "metadata": {},
   "outputs": [],
   "source": [
    "def philosophy(url):\n",
    "    response3 = requests.get(url)\n",
    "    print(response3.status_code)\n",
    "    \n",
    "    soup3 = BeautifulSoup(response3.content, 'html.parser')\n",
    "    quotes3 = soup3.find_all('li')\n",
    "    \n",
    "    text_list3 = []\n",
    "    for name in quotes3:\n",
    "        text_list3.append(name.get_text())\n",
    "        \n",
    "    lines = []\n",
    "    for i in text_list3:\n",
    "        lines.append(re.sub('[“”]', '', i))\n",
    "    print(type(lines))\n",
    "        \n",
    "    #Get dataframe\n",
    "    data = pd.DataFrame(lines)\n",
    "    data[['Phrase','Author']] = data[0].str.split(\"–\",expand=True,)\n",
    "    data = data.drop(0, axis = 1)\n",
    "    \n",
    "    return data"
   ]
  },
  {
   "cell_type": "code",
   "execution_count": 8,
   "id": "retired-newark",
   "metadata": {},
   "outputs": [
    {
     "name": "stdout",
     "output_type": "stream",
     "text": [
      "200\n",
      "<class 'list'>\n"
     ]
    }
   ],
   "source": [
    "philosophy_data = philosophy(url3)"
   ]
  },
  {
   "cell_type": "code",
   "execution_count": 9,
   "id": "physical-slovenia",
   "metadata": {},
   "outputs": [
    {
     "data": {
      "text/html": [
       "<div>\n",
       "<style scoped>\n",
       "    .dataframe tbody tr th:only-of-type {\n",
       "        vertical-align: middle;\n",
       "    }\n",
       "\n",
       "    .dataframe tbody tr th {\n",
       "        vertical-align: top;\n",
       "    }\n",
       "\n",
       "    .dataframe thead th {\n",
       "        text-align: right;\n",
       "    }\n",
       "</style>\n",
       "<table border=\"1\" class=\"dataframe\">\n",
       "  <thead>\n",
       "    <tr style=\"text-align: right;\">\n",
       "      <th></th>\n",
       "      <th>Phrase</th>\n",
       "      <th>Author</th>\n",
       "    </tr>\n",
       "  </thead>\n",
       "  <tbody>\n",
       "    <tr>\n",
       "      <th>0</th>\n",
       "      <td>The unexamined life is not worth living</td>\n",
       "      <td>Socrates</td>\n",
       "    </tr>\n",
       "    <tr>\n",
       "      <th>1</th>\n",
       "      <td>Whereof one cannot speak, thereof one must be ...</td>\n",
       "      <td>Ludwig Wittgenstein</td>\n",
       "    </tr>\n",
       "    <tr>\n",
       "      <th>2</th>\n",
       "      <td>Entities should not be multiplied unnecessarily</td>\n",
       "      <td>William of Ockham</td>\n",
       "    </tr>\n",
       "    <tr>\n",
       "      <th>3</th>\n",
       "      <td>The life of man (in a state of nature) is soli...</td>\n",
       "      <td>Thomas Hobbes</td>\n",
       "    </tr>\n",
       "    <tr>\n",
       "      <th>4</th>\n",
       "      <td>I think therefore I am (Cogito, ergo sum)</td>\n",
       "      <td>René Descartes</td>\n",
       "    </tr>\n",
       "    <tr>\n",
       "      <th>...</th>\n",
       "      <td>...</td>\n",
       "      <td>...</td>\n",
       "    </tr>\n",
       "    <tr>\n",
       "      <th>66</th>\n",
       "      <td>To do as one would be done by, and to love one...</td>\n",
       "      <td>John Stuart Mill</td>\n",
       "    </tr>\n",
       "    <tr>\n",
       "      <th>67</th>\n",
       "      <td>Everything that exists is born for no reason, ...</td>\n",
       "      <td>Jean-Paul Sartre</td>\n",
       "    </tr>\n",
       "    <tr>\n",
       "      <th>68</th>\n",
       "      <td>Man is the measure of all things</td>\n",
       "      <td>Protagoras</td>\n",
       "    </tr>\n",
       "    <tr>\n",
       "      <th>69</th>\n",
       "      <td>We are too weak to discover the truth by reaso...</td>\n",
       "      <td>St. Augustine</td>\n",
       "    </tr>\n",
       "    <tr>\n",
       "      <th>70</th>\n",
       "      <td>The mind is furnished with ideas by experience...</td>\n",
       "      <td>John Locke</td>\n",
       "    </tr>\n",
       "  </tbody>\n",
       "</table>\n",
       "<p>71 rows × 2 columns</p>\n",
       "</div>"
      ],
      "text/plain": [
       "                                               Phrase                Author\n",
       "0            The unexamined life is not worth living               Socrates\n",
       "1   Whereof one cannot speak, thereof one must be ...   Ludwig Wittgenstein\n",
       "2    Entities should not be multiplied unnecessarily      William of Ockham\n",
       "3   The life of man (in a state of nature) is soli...         Thomas Hobbes\n",
       "4          I think therefore I am (Cogito, ergo sum)         René Descartes\n",
       "..                                                ...                   ...\n",
       "66  To do as one would be done by, and to love one...      John Stuart Mill\n",
       "67  Everything that exists is born for no reason, ...      Jean-Paul Sartre\n",
       "68                  Man is the measure of all things             Protagoras\n",
       "69  We are too weak to discover the truth by reaso...         St. Augustine\n",
       "70  The mind is furnished with ideas by experience...            John Locke\n",
       "\n",
       "[71 rows x 2 columns]"
      ]
     },
     "execution_count": 9,
     "metadata": {},
     "output_type": "execute_result"
    }
   ],
   "source": [
    "philosophy_data"
   ]
  },
  {
   "cell_type": "code",
   "execution_count": null,
   "id": "funky-stroke",
   "metadata": {},
   "outputs": [],
   "source": [
    "sfad"
   ]
  }
 ],
 "metadata": {
  "kernelspec": {
   "display_name": "Python 3",
   "language": "python",
   "name": "python3"
  },
  "language_info": {
   "codemirror_mode": {
    "name": "ipython",
    "version": 3
   },
   "file_extension": ".py",
   "mimetype": "text/x-python",
   "name": "python",
   "nbconvert_exporter": "python",
   "pygments_lexer": "ipython3",
   "version": "3.8.5"
  },
  "toc": {
   "base_numbering": 1,
   "nav_menu": {},
   "number_sections": true,
   "sideBar": true,
   "skip_h1_title": false,
   "title_cell": "Table of Contents",
   "title_sidebar": "Contents",
   "toc_cell": false,
   "toc_position": {},
   "toc_section_display": true,
   "toc_window_display": false
  },
  "varInspector": {
   "cols": {
    "lenName": 16,
    "lenType": 16,
    "lenVar": 40
   },
   "kernels_config": {
    "python": {
     "delete_cmd_postfix": "",
     "delete_cmd_prefix": "del ",
     "library": "var_list.py",
     "varRefreshCmd": "print(var_dic_list())"
    },
    "r": {
     "delete_cmd_postfix": ") ",
     "delete_cmd_prefix": "rm(",
     "library": "var_list.r",
     "varRefreshCmd": "cat(var_dic_list()) "
    }
   },
   "position": {
    "height": "434px",
    "left": "1230px",
    "right": "20px",
    "top": "120px",
    "width": "350px"
   },
   "types_to_exclude": [
    "module",
    "function",
    "builtin_function_or_method",
    "instance",
    "_Feature"
   ],
   "window_display": false
  }
 },
 "nbformat": 4,
 "nbformat_minor": 5
}
