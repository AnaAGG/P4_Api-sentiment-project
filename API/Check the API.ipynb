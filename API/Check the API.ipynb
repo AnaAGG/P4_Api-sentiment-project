{
 "cells": [
  {
   "cell_type": "code",
   "execution_count": 7,
   "id": "isolated-journalism",
   "metadata": {},
   "outputs": [],
   "source": [
    "from helpers import mongoConnections as mc\n",
    "from pymongo import MongoClient\n",
    "from bson.objectid import ObjectId"
   ]
  },
  {
   "cell_type": "code",
   "execution_count": 3,
   "id": "willing-advance",
   "metadata": {},
   "outputs": [
    {
     "name": "stdout",
     "output_type": "stream",
     "text": [
      "/mnt/c/Users/agarc/Bootcamp_IronHack/Proyectos/P4_Api-sentiment-project/API\r\n"
     ]
    }
   ],
   "source": [
    "!pwd"
   ]
  },
  {
   "cell_type": "code",
   "execution_count": 4,
   "id": "tested-finger",
   "metadata": {},
   "outputs": [
    {
     "data": {
      "text/plain": [
       "Database(MongoClient(host=['localhost:27017'], document_class=dict, tz_aware=False, connect=True), 'QuoteAPI')"
      ]
     },
     "execution_count": 4,
     "metadata": {},
     "output_type": "execute_result"
    }
   ],
   "source": [
    "client = MongoClient()\n",
    "db = client.QuoteAPI\n",
    "db"
   ]
  },
  {
   "cell_type": "code",
   "execution_count": null,
   "id": "processed-candy",
   "metadata": {},
   "outputs": [],
   "source": [
    "mc.insert_data(a, \"dgrdgd\")"
   ]
  },
  {
   "cell_type": "code",
   "execution_count": 5,
   "id": "veterinary-secretary",
   "metadata": {},
   "outputs": [
    {
     "data": {
      "text/plain": [
       "{'_id': ObjectId('6030da7990d716e995d1c1fe'),\n",
       " 'Author': 'Antonie van Leeuwenhoek, 1632 to 1723',\n",
       " 'Subcategory': 'Biologist',\n",
       " 'Quote': 'I believe that thirty million of these animalcules together would not take up as much room, or be as big, as a coarse grain of sand.noscript\\nnoscriptAntonie van Leeuwenhoek, 1632 to 1723noscript\\nnoscriptBiologistnoscript\\n',\n",
       " 'Section': 'science'}"
      ]
     },
     "execution_count": 5,
     "metadata": {},
     "output_type": "execute_result"
    }
   ],
   "source": [
    "biology_quotes = mc.read_data({}, \"Biology\") #ESTO FUNCIONA!\n",
    "biology_quotes[1]"
   ]
  },
  {
   "cell_type": "code",
   "execution_count": null,
   "id": "impossible-providence",
   "metadata": {},
   "outputs": [],
   "source": [
    "url = "
   ]
  },
  {
   "cell_type": "code",
   "execution_count": null,
   "id": "alike-salvation",
   "metadata": {},
   "outputs": [],
   "source": [
    "response = requests.get(url)\n",
    "print(response.status_code)"
   ]
  },
  {
   "cell_type": "code",
   "execution_count": 8,
   "id": "disabled-wallpaper",
   "metadata": {},
   "outputs": [
    {
     "name": "stderr",
     "output_type": "stream",
     "text": [
      "<ipython-input-8-62a2f72ee66c>:1: DeprecationWarning: remove is deprecated. Use delete_one or delete_many instead.\n",
      "  db.Literature.remove({\"_id\": ObjectId(\"6030da7990d716e995d1c216\")})\n"
     ]
    },
    {
     "data": {
      "text/plain": [
       "{'n': 1, 'ok': 1.0}"
      ]
     },
     "execution_count": 8,
     "metadata": {},
     "output_type": "execute_result"
    }
   ],
   "source": [
    "db.Literature.remove({\"_id\": ObjectId(\"6030da7990d716e995d1c216\")})"
   ]
  },
  {
   "cell_type": "code",
   "execution_count": 9,
   "id": "systematic-discount",
   "metadata": {},
   "outputs": [],
   "source": [
    "def delete_data (coll, query, database = db):\n",
    "    deletion = database[coll].remove(query)\n",
    "    return deletion\n"
   ]
  },
  {
   "cell_type": "code",
   "execution_count": 10,
   "id": "threaded-china",
   "metadata": {},
   "outputs": [
    {
     "name": "stderr",
     "output_type": "stream",
     "text": [
      "<ipython-input-9-601f080bfb21>:2: DeprecationWarning: remove is deprecated. Use delete_one or delete_many instead.\n",
      "  deletion = database[coll].remove(query)\n"
     ]
    },
    {
     "data": {
      "text/plain": [
       "{'n': 1, 'ok': 1.0}"
      ]
     },
     "execution_count": 10,
     "metadata": {},
     "output_type": "execute_result"
    }
   ],
   "source": [
    "delete_data(\"Biology\",{\"_id\": ObjectId(\"6030da7990d716e995d1c1fd\")} )"
   ]
  },
  {
   "cell_type": "code",
   "execution_count": null,
   "id": "frank-match",
   "metadata": {},
   "outputs": [],
   "source": []
  }
 ],
 "metadata": {
  "kernelspec": {
   "display_name": "Python 3",
   "language": "python",
   "name": "python3"
  },
  "language_info": {
   "codemirror_mode": {
    "name": "ipython",
    "version": 3
   },
   "file_extension": ".py",
   "mimetype": "text/x-python",
   "name": "python",
   "nbconvert_exporter": "python",
   "pygments_lexer": "ipython3",
   "version": "3.8.5"
  },
  "toc": {
   "base_numbering": 1,
   "nav_menu": {},
   "number_sections": true,
   "sideBar": true,
   "skip_h1_title": false,
   "title_cell": "Table of Contents",
   "title_sidebar": "Contents",
   "toc_cell": false,
   "toc_position": {},
   "toc_section_display": true,
   "toc_window_display": false
  },
  "varInspector": {
   "cols": {
    "lenName": 16,
    "lenType": 16,
    "lenVar": 40
   },
   "kernels_config": {
    "python": {
     "delete_cmd_postfix": "",
     "delete_cmd_prefix": "del ",
     "library": "var_list.py",
     "varRefreshCmd": "print(var_dic_list())"
    },
    "r": {
     "delete_cmd_postfix": ") ",
     "delete_cmd_prefix": "rm(",
     "library": "var_list.r",
     "varRefreshCmd": "cat(var_dic_list()) "
    }
   },
   "types_to_exclude": [
    "module",
    "function",
    "builtin_function_or_method",
    "instance",
    "_Feature"
   ],
   "window_display": false
  }
 },
 "nbformat": 4,
 "nbformat_minor": 5
}
