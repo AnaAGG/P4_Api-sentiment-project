{
 "cells": [
  {
   "cell_type": "markdown",
   "id": "secret-recovery",
   "metadata": {
    "toc": true
   },
   "source": [
    "<h1>Table of Contents<span class=\"tocSkip\"></span></h1>\n",
    "<div class=\"toc\"><ul class=\"toc-item\"><li><span><a href=\"#Libraries\" data-toc-modified-id=\"Libraries-1\"><span class=\"toc-item-num\">1&nbsp;&nbsp;</span>Libraries</a></span></li><li><span><a href=\"#Cheking-the-endpoints\" data-toc-modified-id=\"Cheking-the-endpoints-2\"><span class=\"toc-item-num\">2&nbsp;&nbsp;</span>Cheking the endpoints</a></span><ul class=\"toc-item\"><li><span><a href=\"#All-Data\" data-toc-modified-id=\"All-Data-2.1\"><span class=\"toc-item-num\">2.1&nbsp;&nbsp;</span>All Data</a></span></li><li><span><a href=\"#Home-API\" data-toc-modified-id=\"Home-API-2.2\"><span class=\"toc-item-num\">2.2&nbsp;&nbsp;</span>Home API</a></span></li><li><span><a href=\"#All-Authors-in-the-DDBB\" data-toc-modified-id=\"All-Authors-in-the-DDBB-2.3\"><span class=\"toc-item-num\">2.3&nbsp;&nbsp;</span>All Authors in the DDBB</a></span></li><li><span><a href=\"#All-Quotes-in-the-DDBB\" data-toc-modified-id=\"All-Quotes-in-the-DDBB-2.4\"><span class=\"toc-item-num\">2.4&nbsp;&nbsp;</span>All Quotes in the DDBB</a></span></li><li><span><a href=\"#Quotes-for-each-collection\" data-toc-modified-id=\"Quotes-for-each-collection-2.5\"><span class=\"toc-item-num\">2.5&nbsp;&nbsp;</span>Quotes for each collection</a></span><ul class=\"toc-item\"><li><span><a href=\"#Biology\" data-toc-modified-id=\"Biology-2.5.1\"><span class=\"toc-item-num\">2.5.1&nbsp;&nbsp;</span>Biology</a></span></li><li><span><a href=\"#Literature\" data-toc-modified-id=\"Literature-2.5.2\"><span class=\"toc-item-num\">2.5.2&nbsp;&nbsp;</span>Literature</a></span></li></ul></li><li><span><a href=\"#Author-per-collection\" data-toc-modified-id=\"Author-per-collection-2.6\"><span class=\"toc-item-num\">2.6&nbsp;&nbsp;</span>Author per collection</a></span><ul class=\"toc-item\"><li><span><a href=\"#Biology\" data-toc-modified-id=\"Biology-2.6.1\"><span class=\"toc-item-num\">2.6.1&nbsp;&nbsp;</span>Biology</a></span></li><li><span><a href=\"#Literature\" data-toc-modified-id=\"Literature-2.6.2\"><span class=\"toc-item-num\">2.6.2&nbsp;&nbsp;</span>Literature</a></span></li></ul></li><li><span><a href=\"#Delete-objects-in-each-collection\" data-toc-modified-id=\"Delete-objects-in-each-collection-2.7\"><span class=\"toc-item-num\">2.7&nbsp;&nbsp;</span>Delete objects in each collection</a></span><ul class=\"toc-item\"><li><span><a href=\"#Biology\" data-toc-modified-id=\"Biology-2.7.1\"><span class=\"toc-item-num\">2.7.1&nbsp;&nbsp;</span>Biology</a></span></li><li><span><a href=\"#Literature\" data-toc-modified-id=\"Literature-2.7.2\"><span class=\"toc-item-num\">2.7.2&nbsp;&nbsp;</span>Literature</a></span></li></ul></li><li><span><a href=\"#Insert-objects-in-each-collection\" data-toc-modified-id=\"Insert-objects-in-each-collection-2.8\"><span class=\"toc-item-num\">2.8&nbsp;&nbsp;</span>Insert objects in each collection</a></span><ul class=\"toc-item\"><li><span><a href=\"#Biology\" data-toc-modified-id=\"Biology-2.8.1\"><span class=\"toc-item-num\">2.8.1&nbsp;&nbsp;</span>Biology</a></span></li><li><span><a href=\"#Literature\" data-toc-modified-id=\"Literature-2.8.2\"><span class=\"toc-item-num\">2.8.2&nbsp;&nbsp;</span>Literature</a></span></li></ul></li></ul></li></ul></div>"
   ]
  },
  {
   "cell_type": "markdown",
   "id": "incorrect-circle",
   "metadata": {},
   "source": [
    "##  Libraries"
   ]
  },
  {
   "cell_type": "code",
   "execution_count": 12,
   "id": "linear-buffer",
   "metadata": {},
   "outputs": [],
   "source": [
    "import sys\n",
    "sys.path.append('../')"
   ]
  },
  {
   "cell_type": "code",
   "execution_count": 4,
   "id": "harmful-viking",
   "metadata": {},
   "outputs": [],
   "source": [
    "from flask import Flask, request, jsonify\n",
    "import requests\n",
    "from bson import json_util, ObjectId\n",
    "from pymongo import MongoClient\n",
    "from biology import  list_authors_bio, delete_biology, insert_quote_bio\n",
    "from mongo import read_data, delete_data, get_authors, get_quotes, update_general\n"
   ]
  },
  {
   "cell_type": "markdown",
   "id": "sexual-fitness",
   "metadata": {},
   "source": [
    "##  Cheking the endpoints"
   ]
  },
  {
   "cell_type": "markdown",
   "id": "hazardous-combat",
   "metadata": {},
   "source": [
    "### Home API "
   ]
  },
  {
   "cell_type": "code",
   "execution_count": 14,
   "id": "informative-stress",
   "metadata": {},
   "outputs": [],
   "source": [
    "url = (\"http://127.0.0.1:5000/\")"
   ]
  },
  {
   "cell_type": "code",
   "execution_count": 17,
   "id": "literary-withdrawal",
   "metadata": {},
   "outputs": [
    {
     "data": {
      "text/plain": [
       "200"
      ]
     },
     "execution_count": 17,
     "metadata": {},
     "output_type": "execute_result"
    }
   ],
   "source": [
    "response = requests.get(url)\n",
    "response.status_code"
   ]
  },
  {
   "cell_type": "code",
   "execution_count": 34,
   "id": "entire-vision",
   "metadata": {},
   "outputs": [
    {
     "data": {
      "text/plain": [
       "<bound method Response.json of <Response [200]>>"
      ]
     },
     "execution_count": 34,
     "metadata": {},
     "output_type": "execute_result"
    }
   ],
   "source": [
    "response.json"
   ]
  },
  {
   "cell_type": "markdown",
   "id": "sporting-fashion",
   "metadata": {},
   "source": [
    "### All Data"
   ]
  },
  {
   "cell_type": "code",
   "execution_count": 2,
   "id": "silent-evolution",
   "metadata": {},
   "outputs": [],
   "source": [
    "url_data = (\"http://127.0.0.1:5000/Data\")"
   ]
  },
  {
   "cell_type": "code",
   "execution_count": 5,
   "id": "annoying-mapping",
   "metadata": {},
   "outputs": [
    {
     "data": {
      "text/plain": [
       "200"
      ]
     },
     "execution_count": 5,
     "metadata": {},
     "output_type": "execute_result"
    }
   ],
   "source": [
    "res = requests.get(url_data)\n",
    "res.status_code"
   ]
  },
  {
   "cell_type": "code",
   "execution_count": 7,
   "id": "meaning-access",
   "metadata": {},
   "outputs": [
    {
     "data": {
      "text/plain": [
       "[{'Author': 'Victor Scheffer, 1906 to 2011',\n",
       "  'Category': 'science',\n",
       "  'Quote': 'Although Nature needs thousands or millions of years to create a new species, man needs only a few dozen years to destroy one.noscript\\nnoscriptVictor Scheffer, 1906 to 2011noscript\\nnoscriptBiologistnoscript\\n'},\n",
       " {'Author': 'Antonie van Leeuwenhoek, 1632 to 1723',\n",
       "  'Category': 'science',\n",
       "  'Quote': 'I believe that thirty million of these animalcules together would not take up as much room, or be as big, as a coarse grain of sand.noscript\\nnoscriptAntonie van Leeuwenhoek, 1632 to 1723noscript\\nnoscriptBiologistnoscript\\n'}]"
      ]
     },
     "execution_count": 7,
     "metadata": {},
     "output_type": "execute_result"
    }
   ],
   "source": [
    "res.json()[:2]"
   ]
  },
  {
   "cell_type": "markdown",
   "id": "pharmaceutical-constant",
   "metadata": {},
   "source": [
    "### All Authors in the DDBB"
   ]
  },
  {
   "cell_type": "code",
   "execution_count": 22,
   "id": "tropical-census",
   "metadata": {},
   "outputs": [],
   "source": [
    "url_all_aut = (\"http://127.0.0.1:5000/Authors\")"
   ]
  },
  {
   "cell_type": "code",
   "execution_count": 30,
   "id": "placed-senate",
   "metadata": {},
   "outputs": [
    {
     "data": {
      "text/plain": [
       "200"
      ]
     },
     "execution_count": 30,
     "metadata": {},
     "output_type": "execute_result"
    }
   ],
   "source": [
    "all_aut =  requests.get(url_all_aut)\n",
    "all_aut.status_code"
   ]
  },
  {
   "cell_type": "code",
   "execution_count": 35,
   "id": "american-beaver",
   "metadata": {},
   "outputs": [
    {
     "data": {
      "text/plain": [
       "[{'Author': 'Aristotle, 384 BC to 322 BC '},\n",
       " {'Author': 'Har Gobind Khorana, 1922 – 2011 '},\n",
       " {'Author': 'Fred Hoyle, 1915 to 2001'},\n",
       " {'Author': 'James Watson, 1928 – Present'},\n",
       " {'Author': 'Francis Crick, 1916 – 2004'}]"
      ]
     },
     "execution_count": 35,
     "metadata": {},
     "output_type": "execute_result"
    }
   ],
   "source": [
    "all_aut.json()[:5]"
   ]
  },
  {
   "cell_type": "markdown",
   "id": "special-residence",
   "metadata": {},
   "source": [
    "###  All Quotes in the DDBB"
   ]
  },
  {
   "cell_type": "code",
   "execution_count": 36,
   "id": "disturbed-conversion",
   "metadata": {},
   "outputs": [],
   "source": [
    "url_all_quot = (\"http://127.0.0.1:5000/Quotes\")"
   ]
  },
  {
   "cell_type": "code",
   "execution_count": 39,
   "id": "endless-organ",
   "metadata": {},
   "outputs": [
    {
     "data": {
      "text/plain": [
       "200"
      ]
     },
     "execution_count": 39,
     "metadata": {},
     "output_type": "execute_result"
    }
   ],
   "source": [
    "all_quot= requests.get(url_all_quot)\n",
    "all_quot.status_code"
   ]
  },
  {
   "cell_type": "code",
   "execution_count": 41,
   "id": "creative-cotton",
   "metadata": {},
   "outputs": [
    {
     "data": {
      "text/plain": [
       "[{'Quote': 'By ‘life,’ we mean a thing that can nourish itself and grow and decay.noscript\\nnoscriptAristotle, 384 BC to 322 BC noscript\\nnoscriptScientist, Philosophernoscript\\n'},\n",
       " {'Quote': 'Everything that human beings or living animals do is done by protein molecules. And therefore the kind of proteins that one has and therefore the ability one has is determined by the genes that one has.noscript\\nnoscriptHar Gobind Khorana, 1922 – 2011 noscript\\nnoscriptMolecular Biologistnoscript\\n'},\n",
       " {'Quote': 'Instead of being the biological center of the Universe, I believe our planet is just an assembly station, but one with a major advantage over most other places. The constant presence of liquid water almost everywhere on the Earth is a huge advantage for life, especially for assembling life into complex forms by the process we call ‘evolution.’noscript\\nnoscriptFred Hoyle, 1915 to 2001noscript\\nnoscriptAstrophysicistnoscript\\n'},\n",
       " {'Quote': 'The finding of the double helix thus brought us not only joy but great relief. It was unbelievably interesting and immediately allowed us to make a serious proposal for the mechanism of gene duplication.noscript\\nnoscriptJames Watson, 1928 – Presentnoscript\\nnoscriptGeneticistnoscript\\n'},\n",
       " {'Quote': 'The development of biology is going to destroy to some extent our traditional grounds for ethical belief and it is not easy to see what to put in their place.noscript\\nnoscriptFrancis Crick, 1916 – 2004noscript\\nnoscriptMolecular Biologistnoscript\\n'}]"
      ]
     },
     "execution_count": 41,
     "metadata": {},
     "output_type": "execute_result"
    }
   ],
   "source": [
    "all_quot.json()[:5]"
   ]
  },
  {
   "cell_type": "markdown",
   "id": "invalid-message",
   "metadata": {},
   "source": [
    "### Quotes for each collection"
   ]
  },
  {
   "cell_type": "markdown",
   "id": "sophisticated-right",
   "metadata": {},
   "source": [
    "#### Biology "
   ]
  },
  {
   "cell_type": "code",
   "execution_count": 42,
   "id": "compound-message",
   "metadata": {},
   "outputs": [],
   "source": [
    "url_bio_quot = (\"http://127.0.0.1:5000/Quotes/Biology\")"
   ]
  },
  {
   "cell_type": "code",
   "execution_count": 43,
   "id": "stuck-syndication",
   "metadata": {},
   "outputs": [
    {
     "data": {
      "text/plain": [
       "200"
      ]
     },
     "execution_count": 43,
     "metadata": {},
     "output_type": "execute_result"
    }
   ],
   "source": [
    "bio_quot= requests.get(url_bio_quot)\n",
    "bio_quot.status_code"
   ]
  },
  {
   "cell_type": "code",
   "execution_count": 48,
   "id": "similar-outside",
   "metadata": {},
   "outputs": [
    {
     "data": {
      "text/plain": [
       "[{'Quote': 'It is thus probable that germs of the lowest organisms known to us are continually being carried away from the earth and the other planets upon which they exist. As seeds in general, so most of these spores, thus carried away, will no doubt meet death in the cold infinite space of the universe. Yet a small number of spores will fall on some other world, and may there be able to spread life, if conditions be suitable.noscript\\nnoscriptSvante Arrhenius, 1859 to 1927noscript\\nnoscriptPhysical Chemistnoscript\\n'},\n",
       " {'Quote': 'Esto es agotador'},\n",
       " {'Quote': 'Esto es agotador!!!'},\n",
       " {'Quote': 'Esto es agotador!!!!!!!!!!'},\n",
       " {'Quote': 'Esto es agotador demonios!!!!!!!!!!'}]"
      ]
     },
     "execution_count": 48,
     "metadata": {},
     "output_type": "execute_result"
    }
   ],
   "source": [
    "bio_quot.json()[-5:]"
   ]
  },
  {
   "cell_type": "markdown",
   "id": "floating-douglas",
   "metadata": {},
   "source": [
    "#### Literature"
   ]
  },
  {
   "cell_type": "code",
   "execution_count": 49,
   "id": "aggregate-probe",
   "metadata": {},
   "outputs": [],
   "source": [
    "url_lit_quot = (\"http://127.0.0.1:5000/Quotes/Literature\")"
   ]
  },
  {
   "cell_type": "code",
   "execution_count": 50,
   "id": "previous-darkness",
   "metadata": {},
   "outputs": [
    {
     "data": {
      "text/plain": [
       "200"
      ]
     },
     "execution_count": 50,
     "metadata": {},
     "output_type": "execute_result"
    }
   ],
   "source": [
    "lit_quot = requests.get(url_lit_quot)\n",
    "lit_quot.status_code"
   ]
  },
  {
   "cell_type": "code",
   "execution_count": 52,
   "id": "advanced-techno",
   "metadata": {},
   "outputs": [
    {
     "data": {
      "text/plain": [
       "[{'Quote': 'In his Petersburg world, all people were divided into two completely opposite sorts. One was the inferior sort: the banal, stupid and, above all, ridiculous people who believed that one husband should live with one wife, whom he has married in a church, that a girl should be innocent, a woman modest, a man manly, temperate and firm, that one should raise children, earn one’s bread, pay one’s debts, and other such stupidities. This was an old-fashioned and ridiculous sort of people. But there was another sort of people, the real ones, to which they all belonged, and for whom one had, above all, to be elegant, handsome, magnanimous, bold, gay, to give oneself to every passion without blushing and laugh at everything else.'},\n",
       " {'Quote': 'I prefer unlucky things. Luck is vulgar. Who wants what luck would bring? I don’t.'},\n",
       " {'Quote': 'Human speech is like a cracked kettle on which we tap crude rhythms for bears to dance to, while we long to make music that will melt the stars.'},\n",
       " {'Quote': 'They looked at each other, baffled, in love and hate.'},\n",
       " {'Quote': 'I never liked to hunt, you know. There was always the danger of having a horse fall on you.'}]"
      ]
     },
     "execution_count": 52,
     "metadata": {},
     "output_type": "execute_result"
    }
   ],
   "source": [
    "lit_quot.json()[:5]"
   ]
  },
  {
   "cell_type": "markdown",
   "id": "purple-vulnerability",
   "metadata": {},
   "source": [
    "### Author per collection"
   ]
  },
  {
   "cell_type": "markdown",
   "id": "charged-option",
   "metadata": {},
   "source": [
    "#### Biology"
   ]
  },
  {
   "cell_type": "code",
   "execution_count": 54,
   "id": "smooth-explanation",
   "metadata": {},
   "outputs": [],
   "source": [
    "url_bio_aut = (\"http://127.0.0.1:5000/Biology\")"
   ]
  },
  {
   "cell_type": "code",
   "execution_count": 56,
   "id": "ancient-closer",
   "metadata": {},
   "outputs": [
    {
     "data": {
      "text/plain": [
       "200"
      ]
     },
     "execution_count": 56,
     "metadata": {},
     "output_type": "execute_result"
    }
   ],
   "source": [
    "bio_aut = requests.get(url_bio_aut)\n",
    "bio_aut.status_code"
   ]
  },
  {
   "cell_type": "code",
   "execution_count": 58,
   "id": "wicked-climb",
   "metadata": {},
   "outputs": [
    {
     "data": {
      "text/plain": [
       "[{'Author': 'Fred Hoyle, 1915 to 2001'},\n",
       " {'Author': 'James Watson, 1928 – Present'},\n",
       " {'Author': 'Francis Crick, 1916 – 2004'},\n",
       " {'Author': 'Stephen Jay Gould, 1941 to 2002'},\n",
       " {'Author': 'James Lovelock, 1919 – present'}]"
      ]
     },
     "execution_count": 58,
     "metadata": {},
     "output_type": "execute_result"
    }
   ],
   "source": [
    "bio_aut.json()[2:7]"
   ]
  },
  {
   "cell_type": "markdown",
   "id": "irish-camping",
   "metadata": {},
   "source": [
    "#### Literature"
   ]
  },
  {
   "cell_type": "code",
   "execution_count": 64,
   "id": "dried-words",
   "metadata": {},
   "outputs": [],
   "source": [
    "url_lit_aut = (\"http://127.0.0.1:5000/Literature\")"
   ]
  },
  {
   "cell_type": "code",
   "execution_count": 65,
   "id": "specific-serum",
   "metadata": {},
   "outputs": [
    {
     "data": {
      "text/plain": [
       "200"
      ]
     },
     "execution_count": 65,
     "metadata": {},
     "output_type": "execute_result"
    }
   ],
   "source": [
    "lit_aut = requests.get(url_lit_aut)\n",
    "lit_aut.status_code"
   ]
  },
  {
   "cell_type": "code",
   "execution_count": 66,
   "id": "current-circulation",
   "metadata": {},
   "outputs": [
    {
     "data": {
      "text/plain": [
       "[{'Author': 'Leo Tolstoy'},\n",
       " {'Author': 'D. H. Lawrence'},\n",
       " {'Author': 'Gustave Flaubert'},\n",
       " {'Author': 'William Golding'},\n",
       " {'Author': 'Ernest Hemingway'}]"
      ]
     },
     "execution_count": 66,
     "metadata": {},
     "output_type": "execute_result"
    }
   ],
   "source": [
    "lit_aut.json()[:5]"
   ]
  },
  {
   "cell_type": "markdown",
   "id": "medium-beast",
   "metadata": {},
   "source": [
    "### Delete objects in each collection\n"
   ]
  },
  {
   "cell_type": "markdown",
   "id": "proud-antique",
   "metadata": {},
   "source": [
    "#### Biology"
   ]
  },
  {
   "cell_type": "code",
   "execution_count": 91,
   "id": "golden-knitting",
   "metadata": {},
   "outputs": [],
   "source": [
    "url_del_bio = (\"http://127.0.0.1:5000/Biology/delete?Author=Har Gobind Khorana, 1922 – 2011&Quote=Everything that human beings or living animals do is done by protein molecules. And therefore the kind of proteins that one has and therefore the ability one has is determined by the genes that one has\")"
   ]
  },
  {
   "cell_type": "code",
   "execution_count": 92,
   "id": "honest-coach",
   "metadata": {},
   "outputs": [
    {
     "data": {
      "text/plain": [
       "200"
      ]
     },
     "execution_count": 92,
     "metadata": {},
     "output_type": "execute_result"
    }
   ],
   "source": [
    "bio_del = requests.get(url_del_bio)\n",
    "bio_del.status_code"
   ]
  },
  {
   "cell_type": "code",
   "execution_count": 93,
   "id": "breathing-jerusalem",
   "metadata": {},
   "outputs": [
    {
     "data": {
      "text/plain": [
       "<bound method Response.json of <Response [200]>>"
      ]
     },
     "execution_count": 93,
     "metadata": {},
     "output_type": "execute_result"
    }
   ],
   "source": [
    "lit_del.json"
   ]
  },
  {
   "cell_type": "markdown",
   "id": "minus-assurance",
   "metadata": {},
   "source": [
    "#### Literature"
   ]
  },
  {
   "cell_type": "code",
   "execution_count": 70,
   "id": "missing-hunger",
   "metadata": {},
   "outputs": [],
   "source": [
    "parameters = {\"Author\": \"Lucas\",\n",
    "             \"Quote\" : \"LocoLoquito\"}"
   ]
  },
  {
   "cell_type": "code",
   "execution_count": 82,
   "id": "quick-cookbook",
   "metadata": {},
   "outputs": [],
   "source": [
    "url_del_lit = (\"http://127.0.0.1:5000/Literature/delete?Author=Leo Tolstoy&Quote=In his Petersburg world, all people were divided into two completely opposite sorts. One was the inferior sort: the banal, stupid and, above all, ridiculous people who believed that one husband should live with one wife, whom he has married in a church, that a girl should be innocent, a woman modest, a man manly, temperate and firm, that one should raise children, earn one’s bread, pay one’s debts, and other such stupidities. This was an old-fashioned and ridiculous sort of people. But there was another sort of people, the real ones, to which they all belonged, and for whom one had, above all, to be elegant, handsome, magnanimous, bold, gay, to give oneself to every passion without blushing and laugh at everything else.\")"
   ]
  },
  {
   "cell_type": "code",
   "execution_count": 83,
   "id": "considered-given",
   "metadata": {},
   "outputs": [
    {
     "data": {
      "text/plain": [
       "200"
      ]
     },
     "execution_count": 83,
     "metadata": {},
     "output_type": "execute_result"
    }
   ],
   "source": [
    "lit_del = requests.get(url_del_lit)\n",
    "lit_del.status_code"
   ]
  },
  {
   "cell_type": "code",
   "execution_count": 97,
   "id": "silent-start",
   "metadata": {},
   "outputs": [
    {
     "data": {
      "text/plain": [
       "<bound method Response.json of <Response [200]>>"
      ]
     },
     "execution_count": 97,
     "metadata": {},
     "output_type": "execute_result"
    }
   ],
   "source": [
    "lit_del.json"
   ]
  },
  {
   "cell_type": "markdown",
   "id": "olive-mission",
   "metadata": {},
   "source": [
    "### Insert objects in each collection"
   ]
  },
  {
   "cell_type": "markdown",
   "id": "consistent-weekend",
   "metadata": {},
   "source": [
    "#### Biology"
   ]
  },
  {
   "cell_type": "code",
   "execution_count": 101,
   "id": "resident-deficit",
   "metadata": {},
   "outputs": [],
   "source": [
    "url_ins_bio = (\"http://127.0.0.1:5000/Biology/new?Author=Lucas&Quote=Loco\")"
   ]
  },
  {
   "cell_type": "code",
   "execution_count": 102,
   "id": "chubby-fraud",
   "metadata": {},
   "outputs": [
    {
     "data": {
      "text/plain": [
       "200"
      ]
     },
     "execution_count": 102,
     "metadata": {},
     "output_type": "execute_result"
    }
   ],
   "source": [
    "bio_ins = requests.get(url_ins_bio)\n",
    "bio_ins.status_code"
   ]
  },
  {
   "cell_type": "code",
   "execution_count": 103,
   "id": "wrong-hurricane",
   "metadata": {},
   "outputs": [
    {
     "data": {
      "text/plain": [
       "<bound method Response.json of <Response [200]>>"
      ]
     },
     "execution_count": 103,
     "metadata": {},
     "output_type": "execute_result"
    }
   ],
   "source": [
    "bio_ins.json"
   ]
  },
  {
   "cell_type": "markdown",
   "id": "wanted-yugoslavia",
   "metadata": {},
   "source": [
    "#### Literature "
   ]
  },
  {
   "cell_type": "code",
   "execution_count": 109,
   "id": "lightweight-assessment",
   "metadata": {},
   "outputs": [],
   "source": [
    "url_ins_lit = (\"http://127.0.0.1:5000/Literature/new?Author=Alberto&Quote=que duras son las APIs\")"
   ]
  },
  {
   "cell_type": "code",
   "execution_count": 110,
   "id": "better-multiple",
   "metadata": {},
   "outputs": [
    {
     "data": {
      "text/plain": [
       "200"
      ]
     },
     "execution_count": 110,
     "metadata": {},
     "output_type": "execute_result"
    }
   ],
   "source": [
    "lit_ins = requests.get(url_ins_lit)\n",
    "lit_ins.status_code"
   ]
  },
  {
   "cell_type": "code",
   "execution_count": 111,
   "id": "retained-child",
   "metadata": {},
   "outputs": [
    {
     "data": {
      "text/plain": [
       "<bound method Response.json of <Response [200]>>"
      ]
     },
     "execution_count": 111,
     "metadata": {},
     "output_type": "execute_result"
    }
   ],
   "source": [
    "lit_ins.json"
   ]
  },
  {
   "cell_type": "code",
   "execution_count": null,
   "id": "nutritional-tracy",
   "metadata": {},
   "outputs": [],
   "source": []
  }
 ],
 "metadata": {
  "kernelspec": {
   "display_name": "Python 3",
   "language": "python",
   "name": "python3"
  },
  "language_info": {
   "codemirror_mode": {
    "name": "ipython",
    "version": 3
   },
   "file_extension": ".py",
   "mimetype": "text/x-python",
   "name": "python",
   "nbconvert_exporter": "python",
   "pygments_lexer": "ipython3",
   "version": "3.8.5"
  },
  "toc": {
   "base_numbering": 1,
   "nav_menu": {},
   "number_sections": true,
   "sideBar": true,
   "skip_h1_title": false,
   "title_cell": "Table of Contents",
   "title_sidebar": "Contents",
   "toc_cell": true,
   "toc_position": {
    "height": "calc(100% - 180px)",
    "left": "10px",
    "top": "150px",
    "width": "384px"
   },
   "toc_section_display": true,
   "toc_window_display": false
  },
  "varInspector": {
   "cols": {
    "lenName": 16,
    "lenType": 16,
    "lenVar": 40
   },
   "kernels_config": {
    "python": {
     "delete_cmd_postfix": "",
     "delete_cmd_prefix": "del ",
     "library": "var_list.py",
     "varRefreshCmd": "print(var_dic_list())"
    },
    "r": {
     "delete_cmd_postfix": ") ",
     "delete_cmd_prefix": "rm(",
     "library": "var_list.r",
     "varRefreshCmd": "cat(var_dic_list()) "
    }
   },
   "types_to_exclude": [
    "module",
    "function",
    "builtin_function_or_method",
    "instance",
    "_Feature"
   ],
   "window_display": false
  }
 },
 "nbformat": 4,
 "nbformat_minor": 5
}
