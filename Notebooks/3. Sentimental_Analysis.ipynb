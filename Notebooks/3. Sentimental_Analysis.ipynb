{
 "cells": [
  {
   "cell_type": "markdown",
   "id": "natural-maximum",
   "metadata": {
    "toc": true
   },
   "source": [
    "<h1>Table of Contents<span class=\"tocSkip\"></span></h1>\n",
    "<div class=\"toc\"><ul class=\"toc-item\"><li><span><a href=\"#Libraries\" data-toc-modified-id=\"Libraries-1\"><span class=\"toc-item-num\">1&nbsp;&nbsp;</span>Libraries</a></span></li><li><span><a href=\"#Get-the-information-from-the-QUOTEAPI\" data-toc-modified-id=\"Get-the-information-from-the-QUOTEAPI-2\"><span class=\"toc-item-num\">2&nbsp;&nbsp;</span>Get the information from the QUOTEAPI</a></span></li><li><span><a href=\"#Tokenization\" data-toc-modified-id=\"Tokenization-3\"><span class=\"toc-item-num\">3&nbsp;&nbsp;</span>Tokenization</a></span></li><li><span><a href=\"#Translating\" data-toc-modified-id=\"Translating-4\"><span class=\"toc-item-num\">4&nbsp;&nbsp;</span>Translating</a></span></li><li><span><a href=\"#Stop-words\" data-toc-modified-id=\"Stop-words-5\"><span class=\"toc-item-num\">5&nbsp;&nbsp;</span>Stop words</a></span></li><li><span><a href=\"#Sentiment-Analysis\" data-toc-modified-id=\"Sentiment-Analysis-6\"><span class=\"toc-item-num\">6&nbsp;&nbsp;</span>Sentiment Analysis</a></span><ul class=\"toc-item\"><li><span><a href=\"#Sentimental-Analysis-II\" data-toc-modified-id=\"Sentimental-Analysis-II-6.1\"><span class=\"toc-item-num\">6.1&nbsp;&nbsp;</span>Sentimental Analysis II</a></span></li></ul></li></ul></div>"
   ]
  },
  {
   "cell_type": "markdown",
   "id": "dried-argument",
   "metadata": {},
   "source": [
    "## Libraries"
   ]
  },
  {
   "cell_type": "code",
   "execution_count": 3,
   "id": "dutch-infrared",
   "metadata": {},
   "outputs": [],
   "source": [
    "import pandas as pd\n",
    "import requests\n",
    "#NLTK\n",
    "import nltk\n",
    "from nltk.sentiment.vader import SentimentIntensityAnalyzer\n",
    "from nltk.tokenize import RegexpTokenizer\n",
    "from nltk.corpus import stopwords\n",
    "\n",
    "#TextBlob\n",
    "from textblob import TextBlob\n",
    "\n",
    "#SpaCy\n",
    "import spacy\n",
    "from spacy import displacy\n",
    "\n",
    "from langdetect import detect\n",
    "import seaborn as sns"
   ]
  },
  {
   "cell_type": "markdown",
   "id": "single-premiere",
   "metadata": {},
   "source": [
    "## Get the information from the QUOTEAPI "
   ]
  },
  {
   "cell_type": "code",
   "execution_count": null,
   "id": "smoking-surname",
   "metadata": {},
   "outputs": [],
   "source": [
    "url = (\"http://127.0.0.1:5000/Data\")"
   ]
  },
  {
   "cell_type": "code",
   "execution_count": null,
   "id": "mexican-depression",
   "metadata": {},
   "outputs": [],
   "source": [
    "all_aut =  requests.get(url)\n",
    "all_aut.status_code"
   ]
  },
  {
   "cell_type": "code",
   "execution_count": null,
   "id": "architectural-monthly",
   "metadata": {},
   "outputs": [],
   "source": [
    "data = all_aut.json()"
   ]
  },
  {
   "cell_type": "code",
   "execution_count": null,
   "id": "unsigned-wednesday",
   "metadata": {},
   "outputs": [],
   "source": [
    "df = pd.DataFrame(data)\n",
    "df"
   ]
  },
  {
   "cell_type": "code",
   "execution_count": null,
   "id": "german-offering",
   "metadata": {},
   "outputs": [],
   "source": [
    "df.to_csv('Data_SA.csv',index = False) "
   ]
  },
  {
   "cell_type": "code",
   "execution_count": null,
   "id": "impossible-hardware",
   "metadata": {},
   "outputs": [],
   "source": [
    "df = pd.read_csv(\"Data_SA.csv\")"
   ]
  },
  {
   "cell_type": "markdown",
   "id": "respiratory-storm",
   "metadata": {},
   "source": [
    "## Tokenization "
   ]
  },
  {
   "cell_type": "code",
   "execution_count": 4,
   "id": "ahead-mumbai",
   "metadata": {},
   "outputs": [],
   "source": [
    "def tokenize (string):\n",
    "    tokenizer = RegexpTokenizer(r'\\w+')\n",
    "    tokens = tokenizer.tokenize(string)\n",
    "    return tokens"
   ]
  },
  {
   "cell_type": "code",
   "execution_count": null,
   "id": "deluxe-damage",
   "metadata": {},
   "outputs": [],
   "source": [
    "df[\"Quote_tok\"] = df[\"Quote\"].apply(tokenize)"
   ]
  },
  {
   "cell_type": "code",
   "execution_count": null,
   "id": "matched-curtis",
   "metadata": {},
   "outputs": [],
   "source": [
    "df.head()"
   ]
  },
  {
   "cell_type": "code",
   "execution_count": null,
   "id": "realistic-interaction",
   "metadata": {},
   "outputs": [],
   "source": [
    "df['Quote_tok'] = df['Quote_tok'].apply(lambda x: \" \".join(x))\n",
    "df.head()"
   ]
  },
  {
   "cell_type": "markdown",
   "id": "honey-comparative",
   "metadata": {},
   "source": [
    "## Translating"
   ]
  },
  {
   "cell_type": "code",
   "execution_count": 5,
   "id": "upset-context",
   "metadata": {},
   "outputs": [],
   "source": [
    "def intoEnglish(string):\n",
    "    spanish_string = TextBlob(string)\n",
    "    try:\n",
    "        english_blob=spanish_string.translate(from_lang='es',to='en')\n",
    "        return \"\".join(list(english_blob))\n",
    "    except:\n",
    "        return string"
   ]
  },
  {
   "cell_type": "code",
   "execution_count": null,
   "id": "affecting-textbook",
   "metadata": {},
   "outputs": [],
   "source": [
    "df['Quote_tok'] = df[\"Quote_tok\"].apply(intoEnglish)"
   ]
  },
  {
   "cell_type": "code",
   "execution_count": null,
   "id": "addressed-kinase",
   "metadata": {},
   "outputs": [],
   "source": [
    "df.head()"
   ]
  },
  {
   "cell_type": "markdown",
   "id": "professional-chamber",
   "metadata": {},
   "source": [
    "## Stop words"
   ]
  },
  {
   "cell_type": "code",
   "execution_count": null,
   "id": "separated-karaoke",
   "metadata": {
    "scrolled": true
   },
   "outputs": [],
   "source": [
    "nltk.download('stopwords')"
   ]
  },
  {
   "cell_type": "code",
   "execution_count": null,
   "id": "superior-calendar",
   "metadata": {},
   "outputs": [],
   "source": [
    "nltk.downloader.download('vader_lexicon')"
   ]
  },
  {
   "cell_type": "code",
   "execution_count": null,
   "id": "brutal-shelf",
   "metadata": {},
   "outputs": [],
   "source": [
    "stop_words = set(stopwords.words('english'))"
   ]
  },
  {
   "cell_type": "code",
   "execution_count": null,
   "id": "neither-hamilton",
   "metadata": {},
   "outputs": [],
   "source": [
    "df[\"Quote_tok\"] = df[\"Quote_tok\"].apply(lambda x: x.split(\" \"))"
   ]
  },
  {
   "cell_type": "code",
   "execution_count": 6,
   "id": "accomplished-minnesota",
   "metadata": {},
   "outputs": [],
   "source": [
    "def stop_words (lista):\n",
    "    stop_words = set(stopwords.words('english'))\n",
    "    nueva_lista = []\n",
    "    for string in lista:\n",
    "        if string not in stop_words:\n",
    "            nueva_lista.append(string)\n",
    "    return \" \".join(nueva_lista)"
   ]
  },
  {
   "cell_type": "code",
   "execution_count": null,
   "id": "consistent-equity",
   "metadata": {},
   "outputs": [],
   "source": [
    "df[\"Quote_tok\"] = df[\"Quote_tok\"].apply(stop_words)"
   ]
  },
  {
   "cell_type": "code",
   "execution_count": null,
   "id": "resident-shift",
   "metadata": {},
   "outputs": [],
   "source": [
    "df.head()"
   ]
  },
  {
   "cell_type": "markdown",
   "id": "silver-bruce",
   "metadata": {},
   "source": [
    "## Sentiment Analysis"
   ]
  },
  {
   "cell_type": "code",
   "execution_count": 7,
   "id": "artificial-extreme",
   "metadata": {},
   "outputs": [],
   "source": [
    "def sentimentAnalysis(sentence):\n",
    "    sia = SentimentIntensityAnalyzer()\n",
    "    polarity = sia.polarity_scores(sentence)\n",
    "    pol = polarity['compound']\n",
    "    return pol"
   ]
  },
  {
   "cell_type": "code",
   "execution_count": null,
   "id": "intellectual-hypothetical",
   "metadata": {},
   "outputs": [],
   "source": [
    "df['SA'] = df[\"Quote_tok\"].apply(sentimentAnalysis)\n",
    "df.head(5)"
   ]
  },
  {
   "cell_type": "code",
   "execution_count": null,
   "id": "resistant-conditions",
   "metadata": {},
   "outputs": [],
   "source": [
    "df2 = df.groupby(['Category','Gender'], as_index=False).mean()\n",
    "df2"
   ]
  },
  {
   "cell_type": "code",
   "execution_count": null,
   "id": "composed-stake",
   "metadata": {},
   "outputs": [],
   "source": [
    "fig = sns.catplot(x=\"Category\", y=\"SA\", hue=\"Gender\", kind=\"bar\", palette = \"viridis\", data=df2)"
   ]
  },
  {
   "cell_type": "code",
   "execution_count": null,
   "id": "sealed-question",
   "metadata": {},
   "outputs": [],
   "source": [
    "fig.savefig(\"Sentimental_Analysis.png\")"
   ]
  },
  {
   "cell_type": "markdown",
   "id": "native-portable",
   "metadata": {},
   "source": [
    "###  Sentimental Analysis II\n",
    "Finally I have selected those authors who had more than two citations in the API and I will do a sentiment analysis by author"
   ]
  },
  {
   "cell_type": "code",
   "execution_count": 33,
   "id": "stock-karma",
   "metadata": {},
   "outputs": [],
   "source": [
    "df2 = pd.read_csv(\"Data_SA.csv\")"
   ]
  },
  {
   "cell_type": "code",
   "execution_count": 34,
   "id": "smooth-position",
   "metadata": {},
   "outputs": [
    {
     "data": {
      "text/html": [
       "<div>\n",
       "<style scoped>\n",
       "    .dataframe tbody tr th:only-of-type {\n",
       "        vertical-align: middle;\n",
       "    }\n",
       "\n",
       "    .dataframe tbody tr th {\n",
       "        vertical-align: top;\n",
       "    }\n",
       "\n",
       "    .dataframe thead th {\n",
       "        text-align: right;\n",
       "    }\n",
       "</style>\n",
       "<table border=\"1\" class=\"dataframe\">\n",
       "  <thead>\n",
       "    <tr style=\"text-align: right;\">\n",
       "      <th></th>\n",
       "      <th>Author</th>\n",
       "      <th>Category</th>\n",
       "      <th>Gender</th>\n",
       "      <th>Quote</th>\n",
       "      <th>counts</th>\n",
       "    </tr>\n",
       "  </thead>\n",
       "  <tbody>\n",
       "    <tr>\n",
       "      <th>24</th>\n",
       "      <td>Margarita Salas</td>\n",
       "      <td>NaN</td>\n",
       "      <td>F</td>\n",
       "      <td>La mujer ocupará en el mundo científico el pue...</td>\n",
       "      <td>4</td>\n",
       "    </tr>\n",
       "    <tr>\n",
       "      <th>25</th>\n",
       "      <td>Margarita Salas</td>\n",
       "      <td>NaN</td>\n",
       "      <td>F</td>\n",
       "      <td>Si los jóvenes se van de España, su vuelta es ...</td>\n",
       "      <td>4</td>\n",
       "    </tr>\n",
       "    <tr>\n",
       "      <th>26</th>\n",
       "      <td>Margarita Salas</td>\n",
       "      <td>NaN</td>\n",
       "      <td>F</td>\n",
       "      <td>Si se van es imposible que vuelvan</td>\n",
       "      <td>4</td>\n",
       "    </tr>\n",
       "    <tr>\n",
       "      <th>29</th>\n",
       "      <td>Margarita Salas</td>\n",
       "      <td>NaN</td>\n",
       "      <td>F</td>\n",
       "      <td>Lo importante es no tener arrugas en el cerebro</td>\n",
       "      <td>4</td>\n",
       "    </tr>\n",
       "    <tr>\n",
       "      <th>30</th>\n",
       "      <td>Socrates</td>\n",
       "      <td>philosophy</td>\n",
       "      <td>M</td>\n",
       "      <td>The unexamined life is not worth living</td>\n",
       "      <td>3</td>\n",
       "    </tr>\n",
       "  </tbody>\n",
       "</table>\n",
       "</div>"
      ],
      "text/plain": [
       "             Author    Category Gender  \\\n",
       "24  Margarita Salas         NaN      F   \n",
       "25  Margarita Salas         NaN      F   \n",
       "26  Margarita Salas         NaN      F   \n",
       "29  Margarita Salas         NaN      F   \n",
       "30         Socrates  philosophy      M   \n",
       "\n",
       "                                                Quote  counts  \n",
       "24  La mujer ocupará en el mundo científico el pue...       4  \n",
       "25  Si los jóvenes se van de España, su vuelta es ...       4  \n",
       "26                 Si se van es imposible que vuelvan       4  \n",
       "29    Lo importante es no tener arrugas en el cerebro       4  \n",
       "30           The unexamined life is not worth living        3  "
      ]
     },
     "execution_count": 34,
     "metadata": {},
     "output_type": "execute_result"
    }
   ],
   "source": [
    "df2['counts'] = df2.groupby('Author')['Author'].transform('count')\n",
    "df2_rep = df2[df2.counts >2]\n",
    "df2_rep.head()"
   ]
  },
  {
   "cell_type": "code",
   "execution_count": 35,
   "id": "natural-boxing",
   "metadata": {},
   "outputs": [
    {
     "name": "stderr",
     "output_type": "stream",
     "text": [
      "<ipython-input-35-17426357c6cc>:1: SettingWithCopyWarning: \n",
      "A value is trying to be set on a copy of a slice from a DataFrame.\n",
      "Try using .loc[row_indexer,col_indexer] = value instead\n",
      "\n",
      "See the caveats in the documentation: https://pandas.pydata.org/pandas-docs/stable/user_guide/indexing.html#returning-a-view-versus-a-copy\n",
      "  df2_rep[\"Quote_tok\"] = df2_rep[\"Quote\"].apply(tokenize)\n"
     ]
    }
   ],
   "source": [
    "df2_rep[\"Quote_tok\"] = df2_rep[\"Quote\"].apply(tokenize)"
   ]
  },
  {
   "cell_type": "code",
   "execution_count": 36,
   "id": "specific-maria",
   "metadata": {},
   "outputs": [
    {
     "name": "stderr",
     "output_type": "stream",
     "text": [
      "<ipython-input-36-2d9d8812cb9e>:1: SettingWithCopyWarning: \n",
      "A value is trying to be set on a copy of a slice from a DataFrame.\n",
      "Try using .loc[row_indexer,col_indexer] = value instead\n",
      "\n",
      "See the caveats in the documentation: https://pandas.pydata.org/pandas-docs/stable/user_guide/indexing.html#returning-a-view-versus-a-copy\n",
      "  df2_rep['Quote_tok'] = df2_rep['Quote_tok'].apply(lambda x: \" \".join(x))\n"
     ]
    }
   ],
   "source": [
    "df2_rep['Quote_tok'] = df2_rep['Quote_tok'].apply(lambda x: \" \".join(x))\n"
   ]
  },
  {
   "cell_type": "code",
   "execution_count": 37,
   "id": "early-communications",
   "metadata": {},
   "outputs": [
    {
     "name": "stderr",
     "output_type": "stream",
     "text": [
      "<ipython-input-37-455e5fedfd7e>:1: SettingWithCopyWarning: \n",
      "A value is trying to be set on a copy of a slice from a DataFrame.\n",
      "Try using .loc[row_indexer,col_indexer] = value instead\n",
      "\n",
      "See the caveats in the documentation: https://pandas.pydata.org/pandas-docs/stable/user_guide/indexing.html#returning-a-view-versus-a-copy\n",
      "  df2_rep['Quote_tok'] = df2_rep[\"Quote_tok\"].apply(intoEnglish)\n"
     ]
    }
   ],
   "source": [
    "df2_rep['Quote_tok'] = df2_rep[\"Quote_tok\"].apply(intoEnglish)"
   ]
  },
  {
   "cell_type": "code",
   "execution_count": 38,
   "id": "wrong-rhythm",
   "metadata": {},
   "outputs": [
    {
     "name": "stderr",
     "output_type": "stream",
     "text": [
      "<ipython-input-38-90c788b7f70e>:1: SettingWithCopyWarning: \n",
      "A value is trying to be set on a copy of a slice from a DataFrame.\n",
      "Try using .loc[row_indexer,col_indexer] = value instead\n",
      "\n",
      "See the caveats in the documentation: https://pandas.pydata.org/pandas-docs/stable/user_guide/indexing.html#returning-a-view-versus-a-copy\n",
      "  df2_rep['SA'] = df2_rep[\"Quote_tok\"].apply(sentimentAnalysis)\n"
     ]
    }
   ],
   "source": [
    "df2_rep['SA'] = df2_rep[\"Quote_tok\"].apply(sentimentAnalysis)"
   ]
  },
  {
   "cell_type": "code",
   "execution_count": 41,
   "id": "scheduled-savings",
   "metadata": {},
   "outputs": [
    {
     "data": {
      "text/html": [
       "<div>\n",
       "<style scoped>\n",
       "    .dataframe tbody tr th:only-of-type {\n",
       "        vertical-align: middle;\n",
       "    }\n",
       "\n",
       "    .dataframe tbody tr th {\n",
       "        vertical-align: top;\n",
       "    }\n",
       "\n",
       "    .dataframe thead th {\n",
       "        text-align: right;\n",
       "    }\n",
       "</style>\n",
       "<table border=\"1\" class=\"dataframe\">\n",
       "  <thead>\n",
       "    <tr style=\"text-align: right;\">\n",
       "      <th></th>\n",
       "      <th>Author</th>\n",
       "      <th>counts</th>\n",
       "      <th>SA</th>\n",
       "    </tr>\n",
       "  </thead>\n",
       "  <tbody>\n",
       "    <tr>\n",
       "      <th>0</th>\n",
       "      <td>Aristotle</td>\n",
       "      <td>4</td>\n",
       "      <td>0.508750</td>\n",
       "    </tr>\n",
       "    <tr>\n",
       "      <th>1</th>\n",
       "      <td>Bertrand Russell</td>\n",
       "      <td>4</td>\n",
       "      <td>0.076800</td>\n",
       "    </tr>\n",
       "    <tr>\n",
       "      <th>2</th>\n",
       "      <td>G. W. F. Hegel</td>\n",
       "      <td>3</td>\n",
       "      <td>0.226933</td>\n",
       "    </tr>\n",
       "    <tr>\n",
       "      <th>3</th>\n",
       "      <td>Immanuel Kant</td>\n",
       "      <td>3</td>\n",
       "      <td>0.189200</td>\n",
       "    </tr>\n",
       "    <tr>\n",
       "      <th>4</th>\n",
       "      <td>John Locke</td>\n",
       "      <td>5</td>\n",
       "      <td>-0.229740</td>\n",
       "    </tr>\n",
       "    <tr>\n",
       "      <th>5</th>\n",
       "      <td>Ludwig Wittgenstein</td>\n",
       "      <td>3</td>\n",
       "      <td>0.346300</td>\n",
       "    </tr>\n",
       "    <tr>\n",
       "      <th>6</th>\n",
       "      <td>Rene Descartes</td>\n",
       "      <td>3</td>\n",
       "      <td>-0.128100</td>\n",
       "    </tr>\n",
       "    <tr>\n",
       "      <th>7</th>\n",
       "      <td>Socrates</td>\n",
       "      <td>3</td>\n",
       "      <td>-0.260633</td>\n",
       "    </tr>\n",
       "    <tr>\n",
       "      <th>8</th>\n",
       "      <td>Edith Wharton</td>\n",
       "      <td>3</td>\n",
       "      <td>-0.234233</td>\n",
       "    </tr>\n",
       "    <tr>\n",
       "      <th>9</th>\n",
       "      <td>Jane Austen</td>\n",
       "      <td>6</td>\n",
       "      <td>0.459883</td>\n",
       "    </tr>\n",
       "    <tr>\n",
       "      <th>10</th>\n",
       "      <td>Margarita Salas</td>\n",
       "      <td>4</td>\n",
       "      <td>-0.148000</td>\n",
       "    </tr>\n",
       "  </tbody>\n",
       "</table>\n",
       "</div>"
      ],
      "text/plain": [
       "                  Author  counts        SA\n",
       "0              Aristotle       4  0.508750\n",
       "1       Bertrand Russell       4  0.076800\n",
       "2         G. W. F. Hegel       3  0.226933\n",
       "3          Immanuel Kant       3  0.189200\n",
       "4             John Locke       5 -0.229740\n",
       "5    Ludwig Wittgenstein       3  0.346300\n",
       "6         Rene Descartes       3 -0.128100\n",
       "7               Socrates       3 -0.260633\n",
       "8          Edith Wharton       3 -0.234233\n",
       "9            Jane Austen       6  0.459883\n",
       "10       Margarita Salas       4 -0.148000"
      ]
     },
     "execution_count": 41,
     "metadata": {},
     "output_type": "execute_result"
    }
   ],
   "source": [
    "df2_rep.groupby(('Author'), as_index=False).mean()"
   ]
  },
  {
   "cell_type": "code",
   "execution_count": 53,
   "id": "flexible-vitamin",
   "metadata": {},
   "outputs": [
    {
     "name": "stderr",
     "output_type": "stream",
     "text": [
      "/home/anagarcia/anaconda3/envs/ironhack/lib/python3.8/site-packages/seaborn/categorical.py:3747: UserWarning: The `size` parameter has been renamed to `height`; please update your code.\n",
      "  warnings.warn(msg, UserWarning)\n"
     ]
    },
    {
     "data": {
      "image/png": "[encoded data removed]",
      "text/plain": [
       "<Figure size 2160x720 with 1 Axes>"
      ]
     },
     "metadata": {
      "needs_background": "light"
     },
     "output_type": "display_data"
    }
   ],
   "source": [
    "fig2 = sns.catplot(x=\"Author\", y=\"SA\",  kind=\"bar\", palette = \"viridis\",size=10, aspect=3, data=df2_rep)"
   ]
  },
  {
   "cell_type": "code",
   "execution_count": 54,
   "id": "express-pittsburgh",
   "metadata": {},
   "outputs": [],
   "source": [
    "fig2.savefig(\"Sentimental_Analysis_MostPopular.png\")"
   ]
  },
  {
   "cell_type": "code",
   "execution_count": null,
   "id": "extreme-graph",
   "metadata": {},
   "outputs": [],
   "source": []
  },
  {
   "cell_type": "code",
   "execution_count": null,
   "id": "champion-visitor",
   "metadata": {},
   "outputs": [],
   "source": []
  },
  {
   "cell_type": "code",
   "execution_count": null,
   "id": "behind-holmes",
   "metadata": {},
   "outputs": [],
   "source": []
  }
 ],
 "metadata": {
  "kernelspec": {
   "display_name": "Python 3",
   "language": "python",
   "name": "python3"
  },
  "language_info": {
   "codemirror_mode": {
    "name": "ipython",
    "version": 3
   },
   "file_extension": ".py",
   "mimetype": "text/x-python",
   "name": "python",
   "nbconvert_exporter": "python",
   "pygments_lexer": "ipython3",
   "version": "3.8.5"
  },
  "toc": {
   "base_numbering": 1,
   "nav_menu": {},
   "number_sections": true,
   "sideBar": true,
   "skip_h1_title": false,
   "title_cell": "Table of Contents",
   "title_sidebar": "Contents",
   "toc_cell": true,
   "toc_position": {},
   "toc_section_display": true,
   "toc_window_display": false
  },
  "varInspector": {
   "cols": {
    "lenName": 16,
    "lenType": 16,
    "lenVar": 40
   },
   "kernels_config": {
    "python": {
     "delete_cmd_postfix": "",
     "delete_cmd_prefix": "del ",
     "library": "var_list.py",
     "varRefreshCmd": "print(var_dic_list())"
    },
    "r": {
     "delete_cmd_postfix": ") ",
     "delete_cmd_prefix": "rm(",
     "library": "var_list.r",
     "varRefreshCmd": "cat(var_dic_list()) "
    }
   },
   "types_to_exclude": [
    "module",
    "function",
    "builtin_function_or_method",
    "instance",
    "_Feature"
   ],
   "window_display": false
  }
 },
 "nbformat": 4,
 "nbformat_minor": 5
}
