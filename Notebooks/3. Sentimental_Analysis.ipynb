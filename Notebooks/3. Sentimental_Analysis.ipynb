{
 "cells": [
  {
   "cell_type": "markdown",
   "id": "natural-maximum",
   "metadata": {
    "toc": true
   },
   "source": [
    "<h1>Table of Contents<span class=\"tocSkip\"></span></h1>\n",
    "<div class=\"toc\"><ul class=\"toc-item\"><li><span><a href=\"#Objectives\" data-toc-modified-id=\"Objectives-1\"><span class=\"toc-item-num\">1&nbsp;&nbsp;</span>Objectives</a></span></li><li><span><a href=\"#Libraries\" data-toc-modified-id=\"Libraries-2\"><span class=\"toc-item-num\">2&nbsp;&nbsp;</span>Libraries</a></span></li><li><span><a href=\"#Get-the-information-from-the-QUOTEAPI\" data-toc-modified-id=\"Get-the-information-from-the-QUOTEAPI-3\"><span class=\"toc-item-num\">3&nbsp;&nbsp;</span>Get the information from the QUOTEAPI</a></span></li><li><span><a href=\"#Tokenization\" data-toc-modified-id=\"Tokenization-4\"><span class=\"toc-item-num\">4&nbsp;&nbsp;</span>Tokenization</a></span></li><li><span><a href=\"#Translating\" data-toc-modified-id=\"Translating-5\"><span class=\"toc-item-num\">5&nbsp;&nbsp;</span>Translating</a></span></li><li><span><a href=\"#Stop-words\" data-toc-modified-id=\"Stop-words-6\"><span class=\"toc-item-num\">6&nbsp;&nbsp;</span>Stop words</a></span></li><li><span><a href=\"#Sentiment-Analysis\" data-toc-modified-id=\"Sentiment-Analysis-7\"><span class=\"toc-item-num\">7&nbsp;&nbsp;</span>Sentiment Analysis</a></span><ul class=\"toc-item\"><li><span><a href=\"#Sentimental-Analysis-II\" data-toc-modified-id=\"Sentimental-Analysis-II-7.1\"><span class=\"toc-item-num\">7.1&nbsp;&nbsp;</span>Sentimental Analysis II</a></span></li></ul></li></ul></div>"
   ]
  },
  {
   "cell_type": "markdown",
   "id": "requested-answer",
   "metadata": {},
   "source": [
    "## Objectives"
   ]
  },
  {
   "cell_type": "markdown",
   "id": "further-regular",
   "metadata": {},
   "source": [
    "In this jupyter two sentiment analyzes have been carried out based on the data obtained from the database of the QuoteAPI project:\n",
    "\n",
    "1. Evaluate if there are differences between categories and sex the citations in the database\n",
    "\n",
    "2. Select those authors who had the most citations in our API and evaluate the sensitivity of their citations"
   ]
  },
  {
   "cell_type": "markdown",
   "id": "dried-argument",
   "metadata": {},
   "source": [
    "## Libraries"
   ]
  },
  {
   "cell_type": "code",
   "execution_count": 8,
   "id": "seeing-cookbook",
   "metadata": {},
   "outputs": [],
   "source": [
    "import sys\n",
    "sys.path.append('../')"
   ]
  },
  {
   "cell_type": "code",
   "execution_count": 1,
   "id": "dutch-infrared",
   "metadata": {},
   "outputs": [],
   "source": [
    "import pandas as pd\n",
    "import requests\n",
    "#NLTK\n",
    "import nltk\n",
    "from nltk.sentiment.vader import SentimentIntensityAnalyzer\n",
    "from nltk.tokenize import RegexpTokenizer\n",
    "from nltk.corpus import stopwords\n",
    "\n",
    "#TextBlob\n",
    "from textblob import TextBlob\n",
    "\n",
    "#SpaCy\n",
    "import spacy\n",
    "from spacy import displacy\n",
    "\n",
    "from langdetect import detect\n",
    "import seaborn as sns"
   ]
  },
  {
   "cell_type": "markdown",
   "id": "single-premiere",
   "metadata": {},
   "source": [
    "## Get the information from the QUOTEAPI "
   ]
  },
  {
   "cell_type": "code",
   "execution_count": 24,
   "id": "smoking-surname",
   "metadata": {},
   "outputs": [],
   "source": [
    "url = (\"http://127.0.0.1:5000/Data\")"
   ]
  },
  {
   "cell_type": "code",
   "execution_count": 25,
   "id": "mexican-depression",
   "metadata": {},
   "outputs": [
    {
     "data": {
      "text/plain": [
       "200"
      ]
     },
     "execution_count": 25,
     "metadata": {},
     "output_type": "execute_result"
    }
   ],
   "source": [
    "all_aut =  requests.get(url)\n",
    "all_aut.status_code"
   ]
  },
  {
   "cell_type": "code",
   "execution_count": 26,
   "id": "architectural-monthly",
   "metadata": {},
   "outputs": [],
   "source": [
    "data = all_aut.json()"
   ]
  },
  {
   "cell_type": "code",
   "execution_count": 27,
   "id": "unsigned-wednesday",
   "metadata": {},
   "outputs": [
    {
     "data": {
      "text/html": [
       "<div>\n",
       "<style scoped>\n",
       "    .dataframe tbody tr th:only-of-type {\n",
       "        vertical-align: middle;\n",
       "    }\n",
       "\n",
       "    .dataframe tbody tr th {\n",
       "        vertical-align: top;\n",
       "    }\n",
       "\n",
       "    .dataframe thead th {\n",
       "        text-align: right;\n",
       "    }\n",
       "</style>\n",
       "<table border=\"1\" class=\"dataframe\">\n",
       "  <thead>\n",
       "    <tr style=\"text-align: right;\">\n",
       "      <th></th>\n",
       "      <th>Author</th>\n",
       "      <th>Category</th>\n",
       "      <th>Gender</th>\n",
       "      <th>Quote</th>\n",
       "    </tr>\n",
       "  </thead>\n",
       "  <tbody>\n",
       "    <tr>\n",
       "      <th>0</th>\n",
       "      <td>Antonie van Leeuwenhoek</td>\n",
       "      <td>science</td>\n",
       "      <td>M</td>\n",
       "      <td>I believe that thirty million of these animalc...</td>\n",
       "    </tr>\n",
       "    <tr>\n",
       "      <th>1</th>\n",
       "      <td>Richard Dawkins</td>\n",
       "      <td>science</td>\n",
       "      <td>M</td>\n",
       "      <td>Biology is the study of the complex things in ...</td>\n",
       "    </tr>\n",
       "    <tr>\n",
       "      <th>2</th>\n",
       "      <td>J. B. S. Haldane</td>\n",
       "      <td>science</td>\n",
       "      <td>M</td>\n",
       "      <td>If physics and biology one day meet, and one o...</td>\n",
       "    </tr>\n",
       "    <tr>\n",
       "      <th>3</th>\n",
       "      <td>Aristotle</td>\n",
       "      <td>science</td>\n",
       "      <td>M</td>\n",
       "      <td>By �life,� we mean a thing that can nourish it...</td>\n",
       "    </tr>\n",
       "    <tr>\n",
       "      <th>4</th>\n",
       "      <td>Har Gobind Khorana</td>\n",
       "      <td>science</td>\n",
       "      <td>M</td>\n",
       "      <td>Everything that human beings or living animals...</td>\n",
       "    </tr>\n",
       "    <tr>\n",
       "      <th>...</th>\n",
       "      <td>...</td>\n",
       "      <td>...</td>\n",
       "      <td>...</td>\n",
       "      <td>...</td>\n",
       "    </tr>\n",
       "    <tr>\n",
       "      <th>195</th>\n",
       "      <td>George Eliot</td>\n",
       "      <td>literature</td>\n",
       "      <td>M</td>\n",
       "      <td>Babies, babies, babies. Why did God make so ma...</td>\n",
       "    </tr>\n",
       "    <tr>\n",
       "      <th>196</th>\n",
       "      <td>Geoffrey Chaucer</td>\n",
       "      <td>literature</td>\n",
       "      <td>M</td>\n",
       "      <td>Her heart of compressed ash, which had resiste...</td>\n",
       "    </tr>\n",
       "    <tr>\n",
       "      <th>197</th>\n",
       "      <td>Dante Alighieri</td>\n",
       "      <td>literature</td>\n",
       "      <td>M</td>\n",
       "      <td>Jim said that bees won�t sting idiots, but I d...</td>\n",
       "    </tr>\n",
       "    <tr>\n",
       "      <th>198</th>\n",
       "      <td>Alberto</td>\n",
       "      <td>NaN</td>\n",
       "      <td>M</td>\n",
       "      <td>que duras son las APIs</td>\n",
       "    </tr>\n",
       "    <tr>\n",
       "      <th>199</th>\n",
       "      <td>Margarita Salas</td>\n",
       "      <td>NaN</td>\n",
       "      <td>F</td>\n",
       "      <td>De joven era discriminada por ser mujer; hoy p...</td>\n",
       "    </tr>\n",
       "  </tbody>\n",
       "</table>\n",
       "<p>200 rows × 4 columns</p>\n",
       "</div>"
      ],
      "text/plain": [
       "                      Author    Category Gender  \\\n",
       "0    Antonie van Leeuwenhoek     science      M   \n",
       "1            Richard Dawkins     science      M   \n",
       "2           J. B. S. Haldane     science      M   \n",
       "3                  Aristotle     science      M   \n",
       "4         Har Gobind Khorana     science      M   \n",
       "..                       ...         ...    ...   \n",
       "195             George Eliot  literature      M   \n",
       "196         Geoffrey Chaucer  literature      M   \n",
       "197          Dante Alighieri  literature      M   \n",
       "198                  Alberto         NaN      M   \n",
       "199          Margarita Salas         NaN      F   \n",
       "\n",
       "                                                 Quote  \n",
       "0    I believe that thirty million of these animalc...  \n",
       "1    Biology is the study of the complex things in ...  \n",
       "2    If physics and biology one day meet, and one o...  \n",
       "3    By �life,� we mean a thing that can nourish it...  \n",
       "4    Everything that human beings or living animals...  \n",
       "..                                                 ...  \n",
       "195  Babies, babies, babies. Why did God make so ma...  \n",
       "196  Her heart of compressed ash, which had resiste...  \n",
       "197  Jim said that bees won�t sting idiots, but I d...  \n",
       "198                             que duras son las APIs  \n",
       "199  De joven era discriminada por ser mujer; hoy p...  \n",
       "\n",
       "[200 rows x 4 columns]"
      ]
     },
     "execution_count": 27,
     "metadata": {},
     "output_type": "execute_result"
    }
   ],
   "source": [
    "df = pd.DataFrame(data)\n",
    "df"
   ]
  },
  {
   "cell_type": "code",
   "execution_count": 28,
   "id": "german-offering",
   "metadata": {},
   "outputs": [],
   "source": [
    "df.to_csv('Data_SA.csv',index = False) "
   ]
  },
  {
   "cell_type": "code",
   "execution_count": 29,
   "id": "impossible-hardware",
   "metadata": {},
   "outputs": [],
   "source": [
    "df = pd.read_csv(\"Data_SA.csv\")"
   ]
  },
  {
   "cell_type": "markdown",
   "id": "respiratory-storm",
   "metadata": {},
   "source": [
    "## Tokenization "
   ]
  },
  {
   "cell_type": "code",
   "execution_count": 30,
   "id": "ahead-mumbai",
   "metadata": {},
   "outputs": [],
   "source": [
    "def tokenize (string):\n",
    "    tokenizer = RegexpTokenizer(r'\\w+')\n",
    "    tokens = tokenizer.tokenize(string)\n",
    "    return tokens"
   ]
  },
  {
   "cell_type": "code",
   "execution_count": 31,
   "id": "deluxe-damage",
   "metadata": {},
   "outputs": [],
   "source": [
    "df[\"Quote_tok\"] = df[\"Quote\"].apply(tokenize)"
   ]
  },
  {
   "cell_type": "code",
   "execution_count": 32,
   "id": "matched-curtis",
   "metadata": {},
   "outputs": [
    {
     "data": {
      "text/html": [
       "<div>\n",
       "<style scoped>\n",
       "    .dataframe tbody tr th:only-of-type {\n",
       "        vertical-align: middle;\n",
       "    }\n",
       "\n",
       "    .dataframe tbody tr th {\n",
       "        vertical-align: top;\n",
       "    }\n",
       "\n",
       "    .dataframe thead th {\n",
       "        text-align: right;\n",
       "    }\n",
       "</style>\n",
       "<table border=\"1\" class=\"dataframe\">\n",
       "  <thead>\n",
       "    <tr style=\"text-align: right;\">\n",
       "      <th></th>\n",
       "      <th>Author</th>\n",
       "      <th>Category</th>\n",
       "      <th>Gender</th>\n",
       "      <th>Quote</th>\n",
       "      <th>Quote_tok</th>\n",
       "    </tr>\n",
       "  </thead>\n",
       "  <tbody>\n",
       "    <tr>\n",
       "      <th>0</th>\n",
       "      <td>Antonie van Leeuwenhoek</td>\n",
       "      <td>science</td>\n",
       "      <td>M</td>\n",
       "      <td>I believe that thirty million of these animalc...</td>\n",
       "      <td>[I, believe, that, thirty, million, of, these,...</td>\n",
       "    </tr>\n",
       "    <tr>\n",
       "      <th>1</th>\n",
       "      <td>Richard Dawkins</td>\n",
       "      <td>science</td>\n",
       "      <td>M</td>\n",
       "      <td>Biology is the study of the complex things in ...</td>\n",
       "      <td>[Biology, is, the, study, of, the, complex, th...</td>\n",
       "    </tr>\n",
       "    <tr>\n",
       "      <th>2</th>\n",
       "      <td>J. B. S. Haldane</td>\n",
       "      <td>science</td>\n",
       "      <td>M</td>\n",
       "      <td>If physics and biology one day meet, and one o...</td>\n",
       "      <td>[If, physics, and, biology, one, day, meet, an...</td>\n",
       "    </tr>\n",
       "    <tr>\n",
       "      <th>3</th>\n",
       "      <td>Aristotle</td>\n",
       "      <td>science</td>\n",
       "      <td>M</td>\n",
       "      <td>By �life,� we mean a thing that can nourish it...</td>\n",
       "      <td>[By, life, we, mean, a, thing, that, can, nour...</td>\n",
       "    </tr>\n",
       "    <tr>\n",
       "      <th>4</th>\n",
       "      <td>Har Gobind Khorana</td>\n",
       "      <td>science</td>\n",
       "      <td>M</td>\n",
       "      <td>Everything that human beings or living animals...</td>\n",
       "      <td>[Everything, that, human, beings, or, living, ...</td>\n",
       "    </tr>\n",
       "  </tbody>\n",
       "</table>\n",
       "</div>"
      ],
      "text/plain": [
       "                    Author Category Gender  \\\n",
       "0  Antonie van Leeuwenhoek  science      M   \n",
       "1          Richard Dawkins  science      M   \n",
       "2         J. B. S. Haldane  science      M   \n",
       "3                Aristotle  science      M   \n",
       "4       Har Gobind Khorana  science      M   \n",
       "\n",
       "                                               Quote  \\\n",
       "0  I believe that thirty million of these animalc...   \n",
       "1  Biology is the study of the complex things in ...   \n",
       "2  If physics and biology one day meet, and one o...   \n",
       "3  By �life,� we mean a thing that can nourish it...   \n",
       "4  Everything that human beings or living animals...   \n",
       "\n",
       "                                           Quote_tok  \n",
       "0  [I, believe, that, thirty, million, of, these,...  \n",
       "1  [Biology, is, the, study, of, the, complex, th...  \n",
       "2  [If, physics, and, biology, one, day, meet, an...  \n",
       "3  [By, life, we, mean, a, thing, that, can, nour...  \n",
       "4  [Everything, that, human, beings, or, living, ...  "
      ]
     },
     "execution_count": 32,
     "metadata": {},
     "output_type": "execute_result"
    }
   ],
   "source": [
    "df.head()"
   ]
  },
  {
   "cell_type": "code",
   "execution_count": 33,
   "id": "realistic-interaction",
   "metadata": {},
   "outputs": [
    {
     "data": {
      "text/html": [
       "<div>\n",
       "<style scoped>\n",
       "    .dataframe tbody tr th:only-of-type {\n",
       "        vertical-align: middle;\n",
       "    }\n",
       "\n",
       "    .dataframe tbody tr th {\n",
       "        vertical-align: top;\n",
       "    }\n",
       "\n",
       "    .dataframe thead th {\n",
       "        text-align: right;\n",
       "    }\n",
       "</style>\n",
       "<table border=\"1\" class=\"dataframe\">\n",
       "  <thead>\n",
       "    <tr style=\"text-align: right;\">\n",
       "      <th></th>\n",
       "      <th>Author</th>\n",
       "      <th>Category</th>\n",
       "      <th>Gender</th>\n",
       "      <th>Quote</th>\n",
       "      <th>Quote_tok</th>\n",
       "    </tr>\n",
       "  </thead>\n",
       "  <tbody>\n",
       "    <tr>\n",
       "      <th>0</th>\n",
       "      <td>Antonie van Leeuwenhoek</td>\n",
       "      <td>science</td>\n",
       "      <td>M</td>\n",
       "      <td>I believe that thirty million of these animalc...</td>\n",
       "      <td>I believe that thirty million of these animalc...</td>\n",
       "    </tr>\n",
       "    <tr>\n",
       "      <th>1</th>\n",
       "      <td>Richard Dawkins</td>\n",
       "      <td>science</td>\n",
       "      <td>M</td>\n",
       "      <td>Biology is the study of the complex things in ...</td>\n",
       "      <td>Biology is the study of the complex things in ...</td>\n",
       "    </tr>\n",
       "    <tr>\n",
       "      <th>2</th>\n",
       "      <td>J. B. S. Haldane</td>\n",
       "      <td>science</td>\n",
       "      <td>M</td>\n",
       "      <td>If physics and biology one day meet, and one o...</td>\n",
       "      <td>If physics and biology one day meet and one of...</td>\n",
       "    </tr>\n",
       "    <tr>\n",
       "      <th>3</th>\n",
       "      <td>Aristotle</td>\n",
       "      <td>science</td>\n",
       "      <td>M</td>\n",
       "      <td>By �life,� we mean a thing that can nourish it...</td>\n",
       "      <td>By life we mean a thing that can nourish itsel...</td>\n",
       "    </tr>\n",
       "    <tr>\n",
       "      <th>4</th>\n",
       "      <td>Har Gobind Khorana</td>\n",
       "      <td>science</td>\n",
       "      <td>M</td>\n",
       "      <td>Everything that human beings or living animals...</td>\n",
       "      <td>Everything that human beings or living animals...</td>\n",
       "    </tr>\n",
       "  </tbody>\n",
       "</table>\n",
       "</div>"
      ],
      "text/plain": [
       "                    Author Category Gender  \\\n",
       "0  Antonie van Leeuwenhoek  science      M   \n",
       "1          Richard Dawkins  science      M   \n",
       "2         J. B. S. Haldane  science      M   \n",
       "3                Aristotle  science      M   \n",
       "4       Har Gobind Khorana  science      M   \n",
       "\n",
       "                                               Quote  \\\n",
       "0  I believe that thirty million of these animalc...   \n",
       "1  Biology is the study of the complex things in ...   \n",
       "2  If physics and biology one day meet, and one o...   \n",
       "3  By �life,� we mean a thing that can nourish it...   \n",
       "4  Everything that human beings or living animals...   \n",
       "\n",
       "                                           Quote_tok  \n",
       "0  I believe that thirty million of these animalc...  \n",
       "1  Biology is the study of the complex things in ...  \n",
       "2  If physics and biology one day meet and one of...  \n",
       "3  By life we mean a thing that can nourish itsel...  \n",
       "4  Everything that human beings or living animals...  "
      ]
     },
     "execution_count": 33,
     "metadata": {},
     "output_type": "execute_result"
    }
   ],
   "source": [
    "df['Quote_tok'] = df['Quote_tok'].apply(lambda x: \" \".join(x))\n",
    "df.head()"
   ]
  },
  {
   "cell_type": "markdown",
   "id": "honey-comparative",
   "metadata": {},
   "source": [
    "## Translating"
   ]
  },
  {
   "cell_type": "code",
   "execution_count": 34,
   "id": "upset-context",
   "metadata": {},
   "outputs": [],
   "source": [
    "def intoEnglish(string):\n",
    "    spanish_string = TextBlob(string)\n",
    "    try:\n",
    "        english_blob=spanish_string.translate(from_lang='es',to='en')\n",
    "        return \"\".join(list(english_blob))\n",
    "    except:\n",
    "        return string"
   ]
  },
  {
   "cell_type": "code",
   "execution_count": 35,
   "id": "affecting-textbook",
   "metadata": {},
   "outputs": [],
   "source": [
    "df['Quote_tok'] = df[\"Quote_tok\"].apply(intoEnglish)"
   ]
  },
  {
   "cell_type": "code",
   "execution_count": 36,
   "id": "addressed-kinase",
   "metadata": {},
   "outputs": [
    {
     "data": {
      "text/html": [
       "<div>\n",
       "<style scoped>\n",
       "    .dataframe tbody tr th:only-of-type {\n",
       "        vertical-align: middle;\n",
       "    }\n",
       "\n",
       "    .dataframe tbody tr th {\n",
       "        vertical-align: top;\n",
       "    }\n",
       "\n",
       "    .dataframe thead th {\n",
       "        text-align: right;\n",
       "    }\n",
       "</style>\n",
       "<table border=\"1\" class=\"dataframe\">\n",
       "  <thead>\n",
       "    <tr style=\"text-align: right;\">\n",
       "      <th></th>\n",
       "      <th>Author</th>\n",
       "      <th>Category</th>\n",
       "      <th>Gender</th>\n",
       "      <th>Quote</th>\n",
       "      <th>Quote_tok</th>\n",
       "    </tr>\n",
       "  </thead>\n",
       "  <tbody>\n",
       "    <tr>\n",
       "      <th>0</th>\n",
       "      <td>Antonie van Leeuwenhoek</td>\n",
       "      <td>science</td>\n",
       "      <td>M</td>\n",
       "      <td>I believe that thirty million of these animalc...</td>\n",
       "      <td>I believe that thirty million of these animalc...</td>\n",
       "    </tr>\n",
       "    <tr>\n",
       "      <th>1</th>\n",
       "      <td>Richard Dawkins</td>\n",
       "      <td>science</td>\n",
       "      <td>M</td>\n",
       "      <td>Biology is the study of the complex things in ...</td>\n",
       "      <td>Biology is the study of the complex things in ...</td>\n",
       "    </tr>\n",
       "    <tr>\n",
       "      <th>2</th>\n",
       "      <td>J. B. S. Haldane</td>\n",
       "      <td>science</td>\n",
       "      <td>M</td>\n",
       "      <td>If physics and biology one day meet, and one o...</td>\n",
       "      <td>If physics and biology one day meet and one of...</td>\n",
       "    </tr>\n",
       "    <tr>\n",
       "      <th>3</th>\n",
       "      <td>Aristotle</td>\n",
       "      <td>science</td>\n",
       "      <td>M</td>\n",
       "      <td>By �life,� we mean a thing that can nourish it...</td>\n",
       "      <td>By life we mean a thing that can nourish itsel...</td>\n",
       "    </tr>\n",
       "    <tr>\n",
       "      <th>4</th>\n",
       "      <td>Har Gobind Khorana</td>\n",
       "      <td>science</td>\n",
       "      <td>M</td>\n",
       "      <td>Everything that human beings or living animals...</td>\n",
       "      <td>Everything that human beings or living animals...</td>\n",
       "    </tr>\n",
       "  </tbody>\n",
       "</table>\n",
       "</div>"
      ],
      "text/plain": [
       "                    Author Category Gender  \\\n",
       "0  Antonie van Leeuwenhoek  science      M   \n",
       "1          Richard Dawkins  science      M   \n",
       "2         J. B. S. Haldane  science      M   \n",
       "3                Aristotle  science      M   \n",
       "4       Har Gobind Khorana  science      M   \n",
       "\n",
       "                                               Quote  \\\n",
       "0  I believe that thirty million of these animalc...   \n",
       "1  Biology is the study of the complex things in ...   \n",
       "2  If physics and biology one day meet, and one o...   \n",
       "3  By �life,� we mean a thing that can nourish it...   \n",
       "4  Everything that human beings or living animals...   \n",
       "\n",
       "                                           Quote_tok  \n",
       "0  I believe that thirty million of these animalc...  \n",
       "1  Biology is the study of the complex things in ...  \n",
       "2  If physics and biology one day meet and one of...  \n",
       "3  By life we mean a thing that can nourish itsel...  \n",
       "4  Everything that human beings or living animals...  "
      ]
     },
     "execution_count": 36,
     "metadata": {},
     "output_type": "execute_result"
    }
   ],
   "source": [
    "df.head()"
   ]
  },
  {
   "cell_type": "markdown",
   "id": "professional-chamber",
   "metadata": {},
   "source": [
    "## Stop words"
   ]
  },
  {
   "cell_type": "code",
   "execution_count": 37,
   "id": "separated-karaoke",
   "metadata": {
    "scrolled": true
   },
   "outputs": [
    {
     "name": "stdout",
     "output_type": "stream",
     "text": [
      "[nltk_data] Downloading package stopwords to\n",
      "[nltk_data]     /home/anagarcia/nltk_data...\n",
      "[nltk_data]   Package stopwords is already up-to-date!\n"
     ]
    },
    {
     "data": {
      "text/plain": [
       "True"
      ]
     },
     "execution_count": 37,
     "metadata": {},
     "output_type": "execute_result"
    }
   ],
   "source": [
    "nltk.download('stopwords')"
   ]
  },
  {
   "cell_type": "code",
   "execution_count": 38,
   "id": "superior-calendar",
   "metadata": {},
   "outputs": [
    {
     "name": "stdout",
     "output_type": "stream",
     "text": [
      "[nltk_data] Downloading package vader_lexicon to\n",
      "[nltk_data]     /home/anagarcia/nltk_data...\n",
      "[nltk_data]   Package vader_lexicon is already up-to-date!\n"
     ]
    },
    {
     "data": {
      "text/plain": [
       "True"
      ]
     },
     "execution_count": 38,
     "metadata": {},
     "output_type": "execute_result"
    }
   ],
   "source": [
    "nltk.downloader.download('vader_lexicon')"
   ]
  },
  {
   "cell_type": "code",
   "execution_count": 39,
   "id": "brutal-shelf",
   "metadata": {},
   "outputs": [],
   "source": [
    "stop_words = set(stopwords.words('english'))"
   ]
  },
  {
   "cell_type": "code",
   "execution_count": 40,
   "id": "neither-hamilton",
   "metadata": {},
   "outputs": [],
   "source": [
    "df[\"Quote_tok\"] = df[\"Quote_tok\"].apply(lambda x: x.split(\" \"))"
   ]
  },
  {
   "cell_type": "code",
   "execution_count": 41,
   "id": "accomplished-minnesota",
   "metadata": {},
   "outputs": [],
   "source": [
    "def stop_words (lista):\n",
    "    stop_words = set(stopwords.words('english'))\n",
    "    nueva_lista = []\n",
    "    for string in lista:\n",
    "        if string not in stop_words:\n",
    "            nueva_lista.append(string)\n",
    "    return \" \".join(nueva_lista)"
   ]
  },
  {
   "cell_type": "code",
   "execution_count": 42,
   "id": "consistent-equity",
   "metadata": {},
   "outputs": [],
   "source": [
    "df[\"Quote_tok\"] = df[\"Quote_tok\"].apply(stop_words)"
   ]
  },
  {
   "cell_type": "code",
   "execution_count": 43,
   "id": "resident-shift",
   "metadata": {},
   "outputs": [
    {
     "data": {
      "text/html": [
       "<div>\n",
       "<style scoped>\n",
       "    .dataframe tbody tr th:only-of-type {\n",
       "        vertical-align: middle;\n",
       "    }\n",
       "\n",
       "    .dataframe tbody tr th {\n",
       "        vertical-align: top;\n",
       "    }\n",
       "\n",
       "    .dataframe thead th {\n",
       "        text-align: right;\n",
       "    }\n",
       "</style>\n",
       "<table border=\"1\" class=\"dataframe\">\n",
       "  <thead>\n",
       "    <tr style=\"text-align: right;\">\n",
       "      <th></th>\n",
       "      <th>Author</th>\n",
       "      <th>Category</th>\n",
       "      <th>Gender</th>\n",
       "      <th>Quote</th>\n",
       "      <th>Quote_tok</th>\n",
       "    </tr>\n",
       "  </thead>\n",
       "  <tbody>\n",
       "    <tr>\n",
       "      <th>0</th>\n",
       "      <td>Antonie van Leeuwenhoek</td>\n",
       "      <td>science</td>\n",
       "      <td>M</td>\n",
       "      <td>I believe that thirty million of these animalc...</td>\n",
       "      <td>I believe thirty million animalcules together ...</td>\n",
       "    </tr>\n",
       "    <tr>\n",
       "      <th>1</th>\n",
       "      <td>Richard Dawkins</td>\n",
       "      <td>science</td>\n",
       "      <td>M</td>\n",
       "      <td>Biology is the study of the complex things in ...</td>\n",
       "      <td>Biology study complex things Universe Physics ...</td>\n",
       "    </tr>\n",
       "    <tr>\n",
       "      <th>2</th>\n",
       "      <td>J. B. S. Haldane</td>\n",
       "      <td>science</td>\n",
       "      <td>M</td>\n",
       "      <td>If physics and biology one day meet, and one o...</td>\n",
       "      <td>If physics biology one day meet one two swallo...</td>\n",
       "    </tr>\n",
       "    <tr>\n",
       "      <th>3</th>\n",
       "      <td>Aristotle</td>\n",
       "      <td>science</td>\n",
       "      <td>M</td>\n",
       "      <td>By �life,� we mean a thing that can nourish it...</td>\n",
       "      <td>By life mean thing nourish grow decay</td>\n",
       "    </tr>\n",
       "    <tr>\n",
       "      <th>4</th>\n",
       "      <td>Har Gobind Khorana</td>\n",
       "      <td>science</td>\n",
       "      <td>M</td>\n",
       "      <td>Everything that human beings or living animals...</td>\n",
       "      <td>Everything human beings living animals done pr...</td>\n",
       "    </tr>\n",
       "  </tbody>\n",
       "</table>\n",
       "</div>"
      ],
      "text/plain": [
       "                    Author Category Gender  \\\n",
       "0  Antonie van Leeuwenhoek  science      M   \n",
       "1          Richard Dawkins  science      M   \n",
       "2         J. B. S. Haldane  science      M   \n",
       "3                Aristotle  science      M   \n",
       "4       Har Gobind Khorana  science      M   \n",
       "\n",
       "                                               Quote  \\\n",
       "0  I believe that thirty million of these animalc...   \n",
       "1  Biology is the study of the complex things in ...   \n",
       "2  If physics and biology one day meet, and one o...   \n",
       "3  By �life,� we mean a thing that can nourish it...   \n",
       "4  Everything that human beings or living animals...   \n",
       "\n",
       "                                           Quote_tok  \n",
       "0  I believe thirty million animalcules together ...  \n",
       "1  Biology study complex things Universe Physics ...  \n",
       "2  If physics biology one day meet one two swallo...  \n",
       "3              By life mean thing nourish grow decay  \n",
       "4  Everything human beings living animals done pr...  "
      ]
     },
     "execution_count": 43,
     "metadata": {},
     "output_type": "execute_result"
    }
   ],
   "source": [
    "df.head()"
   ]
  },
  {
   "cell_type": "markdown",
   "id": "silver-bruce",
   "metadata": {},
   "source": [
    "## Sentiment Analysis"
   ]
  },
  {
   "cell_type": "code",
   "execution_count": 44,
   "id": "artificial-extreme",
   "metadata": {},
   "outputs": [],
   "source": [
    "def sentimentAnalysis(sentence):\n",
    "    sia = SentimentIntensityAnalyzer()\n",
    "    polarity = sia.polarity_scores(sentence)\n",
    "    pol = polarity['compound']\n",
    "    return pol"
   ]
  },
  {
   "cell_type": "code",
   "execution_count": 45,
   "id": "intellectual-hypothetical",
   "metadata": {},
   "outputs": [
    {
     "data": {
      "text/html": [
       "<div>\n",
       "<style scoped>\n",
       "    .dataframe tbody tr th:only-of-type {\n",
       "        vertical-align: middle;\n",
       "    }\n",
       "\n",
       "    .dataframe tbody tr th {\n",
       "        vertical-align: top;\n",
       "    }\n",
       "\n",
       "    .dataframe thead th {\n",
       "        text-align: right;\n",
       "    }\n",
       "</style>\n",
       "<table border=\"1\" class=\"dataframe\">\n",
       "  <thead>\n",
       "    <tr style=\"text-align: right;\">\n",
       "      <th></th>\n",
       "      <th>Author</th>\n",
       "      <th>Category</th>\n",
       "      <th>Gender</th>\n",
       "      <th>Quote</th>\n",
       "      <th>Quote_tok</th>\n",
       "      <th>SA</th>\n",
       "    </tr>\n",
       "  </thead>\n",
       "  <tbody>\n",
       "    <tr>\n",
       "      <th>0</th>\n",
       "      <td>Antonie van Leeuwenhoek</td>\n",
       "      <td>science</td>\n",
       "      <td>M</td>\n",
       "      <td>I believe that thirty million of these animalc...</td>\n",
       "      <td>I believe thirty million animalcules together ...</td>\n",
       "      <td>0.0000</td>\n",
       "    </tr>\n",
       "    <tr>\n",
       "      <th>1</th>\n",
       "      <td>Richard Dawkins</td>\n",
       "      <td>science</td>\n",
       "      <td>M</td>\n",
       "      <td>Biology is the study of the complex things in ...</td>\n",
       "      <td>Biology study complex things Universe Physics ...</td>\n",
       "      <td>0.0000</td>\n",
       "    </tr>\n",
       "    <tr>\n",
       "      <th>2</th>\n",
       "      <td>J. B. S. Haldane</td>\n",
       "      <td>science</td>\n",
       "      <td>M</td>\n",
       "      <td>If physics and biology one day meet, and one o...</td>\n",
       "      <td>If physics biology one day meet one two swallo...</td>\n",
       "      <td>0.0000</td>\n",
       "    </tr>\n",
       "    <tr>\n",
       "      <th>3</th>\n",
       "      <td>Aristotle</td>\n",
       "      <td>science</td>\n",
       "      <td>M</td>\n",
       "      <td>By �life,� we mean a thing that can nourish it...</td>\n",
       "      <td>By life mean thing nourish grow decay</td>\n",
       "      <td>-0.4019</td>\n",
       "    </tr>\n",
       "    <tr>\n",
       "      <th>4</th>\n",
       "      <td>Har Gobind Khorana</td>\n",
       "      <td>science</td>\n",
       "      <td>M</td>\n",
       "      <td>Everything that human beings or living animals...</td>\n",
       "      <td>Everything human beings living animals done pr...</td>\n",
       "      <td>0.7964</td>\n",
       "    </tr>\n",
       "  </tbody>\n",
       "</table>\n",
       "</div>"
      ],
      "text/plain": [
       "                    Author Category Gender  \\\n",
       "0  Antonie van Leeuwenhoek  science      M   \n",
       "1          Richard Dawkins  science      M   \n",
       "2         J. B. S. Haldane  science      M   \n",
       "3                Aristotle  science      M   \n",
       "4       Har Gobind Khorana  science      M   \n",
       "\n",
       "                                               Quote  \\\n",
       "0  I believe that thirty million of these animalc...   \n",
       "1  Biology is the study of the complex things in ...   \n",
       "2  If physics and biology one day meet, and one o...   \n",
       "3  By �life,� we mean a thing that can nourish it...   \n",
       "4  Everything that human beings or living animals...   \n",
       "\n",
       "                                           Quote_tok      SA  \n",
       "0  I believe thirty million animalcules together ...  0.0000  \n",
       "1  Biology study complex things Universe Physics ...  0.0000  \n",
       "2  If physics biology one day meet one two swallo...  0.0000  \n",
       "3              By life mean thing nourish grow decay -0.4019  \n",
       "4  Everything human beings living animals done pr...  0.7964  "
      ]
     },
     "execution_count": 45,
     "metadata": {},
     "output_type": "execute_result"
    }
   ],
   "source": [
    "df['SA'] = df[\"Quote_tok\"].apply(sentimentAnalysis)\n",
    "df.head(5)"
   ]
  },
  {
   "cell_type": "code",
   "execution_count": 63,
   "id": "resistant-conditions",
   "metadata": {},
   "outputs": [
    {
     "data": {
      "text/html": [
       "<div>\n",
       "<style scoped>\n",
       "    .dataframe tbody tr th:only-of-type {\n",
       "        vertical-align: middle;\n",
       "    }\n",
       "\n",
       "    .dataframe tbody tr th {\n",
       "        vertical-align: top;\n",
       "    }\n",
       "\n",
       "    .dataframe thead th {\n",
       "        text-align: right;\n",
       "    }\n",
       "</style>\n",
       "<table border=\"1\" class=\"dataframe\">\n",
       "  <thead>\n",
       "    <tr style=\"text-align: right;\">\n",
       "      <th></th>\n",
       "      <th>Category</th>\n",
       "      <th>Gender</th>\n",
       "      <th>SA</th>\n",
       "    </tr>\n",
       "  </thead>\n",
       "  <tbody>\n",
       "    <tr>\n",
       "      <th>0</th>\n",
       "      <td>Literature</td>\n",
       "      <td>F</td>\n",
       "      <td>0.283856</td>\n",
       "    </tr>\n",
       "    <tr>\n",
       "      <th>1</th>\n",
       "      <td>Literature</td>\n",
       "      <td>M</td>\n",
       "      <td>0.000000</td>\n",
       "    </tr>\n",
       "    <tr>\n",
       "      <th>2</th>\n",
       "      <td>literature</td>\n",
       "      <td>F</td>\n",
       "      <td>0.230853</td>\n",
       "    </tr>\n",
       "    <tr>\n",
       "      <th>3</th>\n",
       "      <td>literature</td>\n",
       "      <td>M</td>\n",
       "      <td>0.015943</td>\n",
       "    </tr>\n",
       "    <tr>\n",
       "      <th>4</th>\n",
       "      <td>philosophy</td>\n",
       "      <td>F</td>\n",
       "      <td>-0.057160</td>\n",
       "    </tr>\n",
       "    <tr>\n",
       "      <th>5</th>\n",
       "      <td>philosophy</td>\n",
       "      <td>M</td>\n",
       "      <td>0.139058</td>\n",
       "    </tr>\n",
       "    <tr>\n",
       "      <th>6</th>\n",
       "      <td>science</td>\n",
       "      <td>F</td>\n",
       "      <td>0.114700</td>\n",
       "    </tr>\n",
       "    <tr>\n",
       "      <th>7</th>\n",
       "      <td>science</td>\n",
       "      <td>M</td>\n",
       "      <td>0.192505</td>\n",
       "    </tr>\n",
       "  </tbody>\n",
       "</table>\n",
       "</div>"
      ],
      "text/plain": [
       "     Category Gender        SA\n",
       "0  Literature      F  0.283856\n",
       "1  Literature      M  0.000000\n",
       "2  literature      F  0.230853\n",
       "3  literature      M  0.015943\n",
       "4  philosophy      F -0.057160\n",
       "5  philosophy      M  0.139058\n",
       "6     science      F  0.114700\n",
       "7     science      M  0.192505"
      ]
     },
     "execution_count": 63,
     "metadata": {},
     "output_type": "execute_result"
    }
   ],
   "source": [
    "df2 = df.groupby(['Category','Gender'], as_index=False).mean()\n",
    "df2"
   ]
  },
  {
   "cell_type": "code",
   "execution_count": 64,
   "id": "composed-stake",
   "metadata": {},
   "outputs": [
    {
     "data": {
      "image/png": "[encoded data removed]",
      "text/plain": [
       "<Figure size 465.975x360 with 1 Axes>"
      ]
     },
     "metadata": {},
     "output_type": "display_data"
    }
   ],
   "source": [
    "fig = sns.catplot(x=\"Category\", y=\"SA\", hue=\"Gender\", kind=\"bar\", palette = \"viridis\", data=df2)"
   ]
  },
  {
   "cell_type": "code",
   "execution_count": 48,
   "id": "sealed-question",
   "metadata": {},
   "outputs": [],
   "source": [
    "fig.savefig(\"Sentimental_Analysis.png\")"
   ]
  },
  {
   "cell_type": "markdown",
   "id": "native-portable",
   "metadata": {},
   "source": [
    "###  Sentimental Analysis II\n",
    "Finally I have selected those authors who had more than two citations in the API and I will do a sentiment analysis by author"
   ]
  },
  {
   "cell_type": "code",
   "execution_count": 54,
   "id": "stock-karma",
   "metadata": {},
   "outputs": [],
   "source": [
    "df2 = pd.read_csv(\"../Output/Data_SA.csv\")"
   ]
  },
  {
   "cell_type": "code",
   "execution_count": 55,
   "id": "smooth-position",
   "metadata": {},
   "outputs": [
    {
     "data": {
      "text/html": [
       "<div>\n",
       "<style scoped>\n",
       "    .dataframe tbody tr th:only-of-type {\n",
       "        vertical-align: middle;\n",
       "    }\n",
       "\n",
       "    .dataframe tbody tr th {\n",
       "        vertical-align: top;\n",
       "    }\n",
       "\n",
       "    .dataframe thead th {\n",
       "        text-align: right;\n",
       "    }\n",
       "</style>\n",
       "<table border=\"1\" class=\"dataframe\">\n",
       "  <thead>\n",
       "    <tr style=\"text-align: right;\">\n",
       "      <th></th>\n",
       "      <th>Author</th>\n",
       "      <th>Category</th>\n",
       "      <th>Gender</th>\n",
       "      <th>Quote</th>\n",
       "      <th>counts</th>\n",
       "    </tr>\n",
       "  </thead>\n",
       "  <tbody>\n",
       "    <tr>\n",
       "      <th>24</th>\n",
       "      <td>Margarita Salas</td>\n",
       "      <td>NaN</td>\n",
       "      <td>F</td>\n",
       "      <td>La mujer ocupará en el mundo científico el pue...</td>\n",
       "      <td>4</td>\n",
       "    </tr>\n",
       "    <tr>\n",
       "      <th>25</th>\n",
       "      <td>Margarita Salas</td>\n",
       "      <td>NaN</td>\n",
       "      <td>F</td>\n",
       "      <td>Si los jóvenes se van de España, su vuelta es ...</td>\n",
       "      <td>4</td>\n",
       "    </tr>\n",
       "    <tr>\n",
       "      <th>26</th>\n",
       "      <td>Margarita Salas</td>\n",
       "      <td>NaN</td>\n",
       "      <td>F</td>\n",
       "      <td>Si se van es imposible que vuelvan</td>\n",
       "      <td>4</td>\n",
       "    </tr>\n",
       "    <tr>\n",
       "      <th>29</th>\n",
       "      <td>Margarita Salas</td>\n",
       "      <td>NaN</td>\n",
       "      <td>F</td>\n",
       "      <td>Lo importante es no tener arrugas en el cerebro</td>\n",
       "      <td>4</td>\n",
       "    </tr>\n",
       "    <tr>\n",
       "      <th>30</th>\n",
       "      <td>Socrates</td>\n",
       "      <td>philosophy</td>\n",
       "      <td>M</td>\n",
       "      <td>The unexamined life is not worth living</td>\n",
       "      <td>3</td>\n",
       "    </tr>\n",
       "  </tbody>\n",
       "</table>\n",
       "</div>"
      ],
      "text/plain": [
       "             Author    Category Gender  \\\n",
       "24  Margarita Salas         NaN      F   \n",
       "25  Margarita Salas         NaN      F   \n",
       "26  Margarita Salas         NaN      F   \n",
       "29  Margarita Salas         NaN      F   \n",
       "30         Socrates  philosophy      M   \n",
       "\n",
       "                                                Quote  counts  \n",
       "24  La mujer ocupará en el mundo científico el pue...       4  \n",
       "25  Si los jóvenes se van de España, su vuelta es ...       4  \n",
       "26                 Si se van es imposible que vuelvan       4  \n",
       "29    Lo importante es no tener arrugas en el cerebro       4  \n",
       "30           The unexamined life is not worth living        3  "
      ]
     },
     "execution_count": 55,
     "metadata": {},
     "output_type": "execute_result"
    }
   ],
   "source": [
    "df2['counts'] = df2.groupby('Author')['Author'].transform('count')\n",
    "df2_rep = df2[df2.counts >2]\n",
    "df2_rep.head()"
   ]
  },
  {
   "cell_type": "code",
   "execution_count": 56,
   "id": "natural-boxing",
   "metadata": {},
   "outputs": [
    {
     "name": "stderr",
     "output_type": "stream",
     "text": [
      "<ipython-input-56-17426357c6cc>:1: SettingWithCopyWarning: \n",
      "A value is trying to be set on a copy of a slice from a DataFrame.\n",
      "Try using .loc[row_indexer,col_indexer] = value instead\n",
      "\n",
      "See the caveats in the documentation: https://pandas.pydata.org/pandas-docs/stable/user_guide/indexing.html#returning-a-view-versus-a-copy\n",
      "  df2_rep[\"Quote_tok\"] = df2_rep[\"Quote\"].apply(tokenize)\n"
     ]
    }
   ],
   "source": [
    "df2_rep[\"Quote_tok\"] = df2_rep[\"Quote\"].apply(tokenize)"
   ]
  },
  {
   "cell_type": "code",
   "execution_count": 57,
   "id": "specific-maria",
   "metadata": {},
   "outputs": [
    {
     "name": "stderr",
     "output_type": "stream",
     "text": [
      "<ipython-input-57-2d9d8812cb9e>:1: SettingWithCopyWarning: \n",
      "A value is trying to be set on a copy of a slice from a DataFrame.\n",
      "Try using .loc[row_indexer,col_indexer] = value instead\n",
      "\n",
      "See the caveats in the documentation: https://pandas.pydata.org/pandas-docs/stable/user_guide/indexing.html#returning-a-view-versus-a-copy\n",
      "  df2_rep['Quote_tok'] = df2_rep['Quote_tok'].apply(lambda x: \" \".join(x))\n"
     ]
    }
   ],
   "source": [
    "df2_rep['Quote_tok'] = df2_rep['Quote_tok'].apply(lambda x: \" \".join(x))\n"
   ]
  },
  {
   "cell_type": "code",
   "execution_count": 58,
   "id": "early-communications",
   "metadata": {},
   "outputs": [
    {
     "name": "stderr",
     "output_type": "stream",
     "text": [
      "<ipython-input-58-455e5fedfd7e>:1: SettingWithCopyWarning: \n",
      "A value is trying to be set on a copy of a slice from a DataFrame.\n",
      "Try using .loc[row_indexer,col_indexer] = value instead\n",
      "\n",
      "See the caveats in the documentation: https://pandas.pydata.org/pandas-docs/stable/user_guide/indexing.html#returning-a-view-versus-a-copy\n",
      "  df2_rep['Quote_tok'] = df2_rep[\"Quote_tok\"].apply(intoEnglish)\n"
     ]
    }
   ],
   "source": [
    "df2_rep['Quote_tok'] = df2_rep[\"Quote_tok\"].apply(intoEnglish)"
   ]
  },
  {
   "cell_type": "code",
   "execution_count": 59,
   "id": "wrong-rhythm",
   "metadata": {},
   "outputs": [
    {
     "name": "stderr",
     "output_type": "stream",
     "text": [
      "<ipython-input-59-90c788b7f70e>:1: SettingWithCopyWarning: \n",
      "A value is trying to be set on a copy of a slice from a DataFrame.\n",
      "Try using .loc[row_indexer,col_indexer] = value instead\n",
      "\n",
      "See the caveats in the documentation: https://pandas.pydata.org/pandas-docs/stable/user_guide/indexing.html#returning-a-view-versus-a-copy\n",
      "  df2_rep['SA'] = df2_rep[\"Quote_tok\"].apply(sentimentAnalysis)\n"
     ]
    }
   ],
   "source": [
    "df2_rep['SA'] = df2_rep[\"Quote_tok\"].apply(sentimentAnalysis)"
   ]
  },
  {
   "cell_type": "code",
   "execution_count": 60,
   "id": "scheduled-savings",
   "metadata": {},
   "outputs": [
    {
     "data": {
      "text/html": [
       "<div>\n",
       "<style scoped>\n",
       "    .dataframe tbody tr th:only-of-type {\n",
       "        vertical-align: middle;\n",
       "    }\n",
       "\n",
       "    .dataframe tbody tr th {\n",
       "        vertical-align: top;\n",
       "    }\n",
       "\n",
       "    .dataframe thead th {\n",
       "        text-align: right;\n",
       "    }\n",
       "</style>\n",
       "<table border=\"1\" class=\"dataframe\">\n",
       "  <thead>\n",
       "    <tr style=\"text-align: right;\">\n",
       "      <th></th>\n",
       "      <th>Author</th>\n",
       "      <th>counts</th>\n",
       "      <th>SA</th>\n",
       "    </tr>\n",
       "  </thead>\n",
       "  <tbody>\n",
       "    <tr>\n",
       "      <th>0</th>\n",
       "      <td>Aristotle</td>\n",
       "      <td>4</td>\n",
       "      <td>0.508750</td>\n",
       "    </tr>\n",
       "    <tr>\n",
       "      <th>1</th>\n",
       "      <td>Bertrand Russell</td>\n",
       "      <td>4</td>\n",
       "      <td>0.076800</td>\n",
       "    </tr>\n",
       "    <tr>\n",
       "      <th>2</th>\n",
       "      <td>G. W. F. Hegel</td>\n",
       "      <td>3</td>\n",
       "      <td>0.226933</td>\n",
       "    </tr>\n",
       "    <tr>\n",
       "      <th>3</th>\n",
       "      <td>Immanuel Kant</td>\n",
       "      <td>3</td>\n",
       "      <td>0.189200</td>\n",
       "    </tr>\n",
       "    <tr>\n",
       "      <th>4</th>\n",
       "      <td>John Locke</td>\n",
       "      <td>5</td>\n",
       "      <td>-0.229740</td>\n",
       "    </tr>\n",
       "    <tr>\n",
       "      <th>5</th>\n",
       "      <td>Ludwig Wittgenstein</td>\n",
       "      <td>3</td>\n",
       "      <td>0.346300</td>\n",
       "    </tr>\n",
       "    <tr>\n",
       "      <th>6</th>\n",
       "      <td>Rene Descartes</td>\n",
       "      <td>3</td>\n",
       "      <td>-0.128100</td>\n",
       "    </tr>\n",
       "    <tr>\n",
       "      <th>7</th>\n",
       "      <td>Socrates</td>\n",
       "      <td>3</td>\n",
       "      <td>-0.260633</td>\n",
       "    </tr>\n",
       "    <tr>\n",
       "      <th>8</th>\n",
       "      <td>Edith Wharton</td>\n",
       "      <td>3</td>\n",
       "      <td>-0.234233</td>\n",
       "    </tr>\n",
       "    <tr>\n",
       "      <th>9</th>\n",
       "      <td>Jane Austen</td>\n",
       "      <td>6</td>\n",
       "      <td>0.459883</td>\n",
       "    </tr>\n",
       "    <tr>\n",
       "      <th>10</th>\n",
       "      <td>Margarita Salas</td>\n",
       "      <td>4</td>\n",
       "      <td>-0.148000</td>\n",
       "    </tr>\n",
       "  </tbody>\n",
       "</table>\n",
       "</div>"
      ],
      "text/plain": [
       "                  Author  counts        SA\n",
       "0              Aristotle       4  0.508750\n",
       "1       Bertrand Russell       4  0.076800\n",
       "2         G. W. F. Hegel       3  0.226933\n",
       "3          Immanuel Kant       3  0.189200\n",
       "4             John Locke       5 -0.229740\n",
       "5    Ludwig Wittgenstein       3  0.346300\n",
       "6         Rene Descartes       3 -0.128100\n",
       "7               Socrates       3 -0.260633\n",
       "8          Edith Wharton       3 -0.234233\n",
       "9            Jane Austen       6  0.459883\n",
       "10       Margarita Salas       4 -0.148000"
      ]
     },
     "execution_count": 60,
     "metadata": {},
     "output_type": "execute_result"
    }
   ],
   "source": [
    "df2_rep.groupby(('Author'), as_index=False).mean()"
   ]
  },
  {
   "cell_type": "code",
   "execution_count": 61,
   "id": "flexible-vitamin",
   "metadata": {},
   "outputs": [
    {
     "name": "stderr",
     "output_type": "stream",
     "text": [
      "/home/anagarcia/anaconda3/envs/ironhack/lib/python3.8/site-packages/seaborn/categorical.py:3747: UserWarning: The `size` parameter has been renamed to `height`; please update your code.\n",
      "  warnings.warn(msg, UserWarning)\n"
     ]
    },
    {
     "data": {
      "image/png": "[encoded data removed]",
      "text/plain": [
       "<Figure size 2160x720 with 1 Axes>"
      ]
     },
     "metadata": {},
     "output_type": "display_data"
    }
   ],
   "source": [
    "sns.set(font_scale=2)\n",
    "fig2 = sns.catplot(x=\"Author\", y=\"SA\",  kind=\"bar\", palette = \"viridis\",size=10, aspect=3, data=df2_rep)"
   ]
  },
  {
   "cell_type": "code",
   "execution_count": 54,
   "id": "express-pittsburgh",
   "metadata": {},
   "outputs": [],
   "source": [
    "fig2.savefig(\"Sentimental_Analysis_MostPopular.png\")"
   ]
  },
  {
   "cell_type": "code",
   "execution_count": null,
   "id": "extreme-graph",
   "metadata": {},
   "outputs": [],
   "source": []
  },
  {
   "cell_type": "code",
   "execution_count": null,
   "id": "champion-visitor",
   "metadata": {},
   "outputs": [],
   "source": []
  },
  {
   "cell_type": "code",
   "execution_count": null,
   "id": "behind-holmes",
   "metadata": {},
   "outputs": [],
   "source": []
  }
 ],
 "metadata": {
  "kernelspec": {
   "display_name": "Python 3",
   "language": "python",
   "name": "python3"
  },
  "language_info": {
   "codemirror_mode": {
    "name": "ipython",
    "version": 3
   },
   "file_extension": ".py",
   "mimetype": "text/x-python",
   "name": "python",
   "nbconvert_exporter": "python",
   "pygments_lexer": "ipython3",
   "version": "3.8.5"
  },
  "toc": {
   "base_numbering": 1,
   "nav_menu": {},
   "number_sections": true,
   "sideBar": true,
   "skip_h1_title": false,
   "title_cell": "Table of Contents",
   "title_sidebar": "Contents",
   "toc_cell": true,
   "toc_position": {},
   "toc_section_display": true,
   "toc_window_display": false
  },
  "varInspector": {
   "cols": {
    "lenName": 16,
    "lenType": 16,
    "lenVar": 40
   },
   "kernels_config": {
    "python": {
     "delete_cmd_postfix": "",
     "delete_cmd_prefix": "del ",
     "library": "var_list.py",
     "varRefreshCmd": "print(var_dic_list())"
    },
    "r": {
     "delete_cmd_postfix": ") ",
     "delete_cmd_prefix": "rm(",
     "library": "var_list.r",
     "varRefreshCmd": "cat(var_dic_list()) "
    }
   },
   "types_to_exclude": [
    "module",
    "function",
    "builtin_function_or_method",
    "instance",
    "_Feature"
   ],
   "window_display": false
  }
 },
 "nbformat": 4,
 "nbformat_minor": 5
}
