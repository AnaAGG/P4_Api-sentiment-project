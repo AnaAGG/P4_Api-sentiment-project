{
 "cells": [
  {
   "cell_type": "code",
   "execution_count": 5,
   "id": "demonstrated-medication",
   "metadata": {},
   "outputs": [],
   "source": [
    "import requests\n",
    "import re\n",
    "from bs4 import BeautifulSoup\n",
    "import pandas as pd\n",
    "import json"
   ]
  },
  {
   "cell_type": "markdown",
   "id": "cultural-complexity",
   "metadata": {},
   "source": [
    "## Referencias de ciencia"
   ]
  },
  {
   "cell_type": "code",
   "execution_count": 15,
   "id": "awful-trigger",
   "metadata": {},
   "outputs": [],
   "source": [
    "url =' https://www.famousscientists.org/brilliant-biology-quotes/'"
   ]
  },
  {
   "cell_type": "code",
   "execution_count": 16,
   "id": "variable-receptor",
   "metadata": {},
   "outputs": [],
   "source": [
    "def biologist (url):\n",
    "    \n",
    "    name_list = []\n",
    "    sector_list = []\n",
    "    text_list = []\n",
    "    \n",
    "    response = requests.get(url)\n",
    "    print(response.status_code)\n",
    "    soup = BeautifulSoup(response.content, 'html.parser')\n",
    "    \n",
    "    #to get names\n",
    "    quotes = soup.find_all(\"div\", class_=\"quotename\")\n",
    "    for name in quotes:\n",
    "        name_list.append(name.get_text())\n",
    "        \n",
    "    #to get sector:\n",
    "    quotes = soup.find_all(\"div\", class_=\"quoto\")\n",
    "    for name in quotes:\n",
    "        sector_list.append(name.get_text())\n",
    "    \n",
    "    #to get phrase:\n",
    "    quotes = soup.find_all(\"div\", class_ = \"quoteblue\")\n",
    "    for name in quotes:\n",
    "        text_list.append(name.get_text('noscript'))\n",
    "        \n",
    "    #To get a dataframe\n",
    "    L = [list(row) for row in zip(name_list, sector_list, text_list)]\n",
    "    df = pd.DataFrame(L, columns = ['Author', 'Subcategory', 'Quote'])\n",
    "    df['Category'] = 'science'\n",
    "        \n",
    "    return df"
   ]
  },
  {
   "cell_type": "code",
   "execution_count": 17,
   "id": "framed-mayor",
   "metadata": {},
   "outputs": [
    {
     "name": "stdout",
     "output_type": "stream",
     "text": [
      "200\n"
     ]
    }
   ],
   "source": [
    "biologist = biologist(' https://www.famousscientists.org/brilliant-biology-quotes/')"
   ]
  },
  {
   "cell_type": "code",
   "execution_count": 18,
   "id": "technical-repeat",
   "metadata": {},
   "outputs": [],
   "source": [
    "biologist.to_csv(\"Biology.csv\",  index = False)"
   ]
  },
  {
   "cell_type": "markdown",
   "id": "dangerous-laptop",
   "metadata": {},
   "source": [
    "## Referencias de literatura"
   ]
  },
  {
   "cell_type": "code",
   "execution_count": 11,
   "id": "realistic-roots",
   "metadata": {},
   "outputs": [],
   "source": [
    "def literature (url):\n",
    "    response = requests.get(url)\n",
    "    print(response.status_code)\n",
    "    \n",
    "    soup = BeautifulSoup(response.content, 'html.parser')\n",
    "    quotes = soup.find_all(\"h3\")\n",
    "    \n",
    "    #get literature quotes\n",
    "    literature = []\n",
    "    for text in quotes:\n",
    "        literature.append(text.get_text())\n",
    "        \n",
    "    #get author\n",
    "    quotes = soup.find_all(\"p\")\n",
    "    authors = []\n",
    "    for i in quotes[9:-7]:\n",
    "        authors.append(i.get_text())\n",
    "        a = authors[::2]\n",
    "                    \n",
    "    #To get a dataframe\n",
    "    L = [list(row) for row in zip(literature, a)]\n",
    "    df = pd.DataFrame(L, columns = ['Quote', 'author'])\n",
    "    df = df.drop(50)\n",
    "    df[['Author','Book']] = df['author'].str.split(\",\",expand=True,)\n",
    "    df = df.drop(['author'], axis = 1)\n",
    "    df['Category'] = 'literature'\n",
    "    \n",
    "    \n",
    "    return df"
   ]
  },
  {
   "cell_type": "code",
   "execution_count": 12,
   "id": "saved-waterproof",
   "metadata": {
    "scrolled": true
   },
   "outputs": [
    {
     "name": "stdout",
     "output_type": "stream",
     "text": [
      "200\n"
     ]
    }
   ],
   "source": [
    "literature = literature('https://www.headstuff.org/culture/literature/50-quotes-50-classics/')"
   ]
  },
  {
   "cell_type": "code",
   "execution_count": 13,
   "id": "eligible-musician",
   "metadata": {},
   "outputs": [
    {
     "data": {
      "text/html": [
       "<div>\n",
       "<style scoped>\n",
       "    .dataframe tbody tr th:only-of-type {\n",
       "        vertical-align: middle;\n",
       "    }\n",
       "\n",
       "    .dataframe tbody tr th {\n",
       "        vertical-align: top;\n",
       "    }\n",
       "\n",
       "    .dataframe thead th {\n",
       "        text-align: right;\n",
       "    }\n",
       "</style>\n",
       "<table border=\"1\" class=\"dataframe\">\n",
       "  <thead>\n",
       "    <tr style=\"text-align: right;\">\n",
       "      <th></th>\n",
       "      <th>Quote</th>\n",
       "      <th>Author</th>\n",
       "      <th>Book</th>\n",
       "      <th>Category</th>\n",
       "    </tr>\n",
       "  </thead>\n",
       "  <tbody>\n",
       "    <tr>\n",
       "      <th>0</th>\n",
       "      <td>Most of life is so dull that there is nothing ...</td>\n",
       "      <td>E. M. Forster</td>\n",
       "      <td>A Passage to India</td>\n",
       "      <td>literature</td>\n",
       "    </tr>\n",
       "    <tr>\n",
       "      <th>1</th>\n",
       "      <td>That is the one unforgivable sin in any societ...</td>\n",
       "      <td>Margaret Mitchell</td>\n",
       "      <td>Gone with the Wind</td>\n",
       "      <td>literature</td>\n",
       "    </tr>\n",
       "    <tr>\n",
       "      <th>2</th>\n",
       "      <td>Six months ago I had never been to England, an...</td>\n",
       "      <td>Ford Madox Ford</td>\n",
       "      <td>The Good Soldier</td>\n",
       "      <td>literature</td>\n",
       "    </tr>\n",
       "    <tr>\n",
       "      <th>3</th>\n",
       "      <td>The whole mad swirl of everything that was to ...</td>\n",
       "      <td>Jack Kerouac</td>\n",
       "      <td>On the Road</td>\n",
       "      <td>literature</td>\n",
       "    </tr>\n",
       "    <tr>\n",
       "      <th>4</th>\n",
       "      <td>In his Petersburg world, all people were divid...</td>\n",
       "      <td>Leo Tolstoy</td>\n",
       "      <td>Anna Karenina</td>\n",
       "      <td>literature</td>\n",
       "    </tr>\n",
       "    <tr>\n",
       "      <th>...</th>\n",
       "      <td>...</td>\n",
       "      <td>...</td>\n",
       "      <td>...</td>\n",
       "      <td>...</td>\n",
       "    </tr>\n",
       "    <tr>\n",
       "      <th>59</th>\n",
       "      <td>Time is the River on which the leaves of our t...</td>\n",
       "      <td>Gabriel García Márquez</td>\n",
       "      <td>One Hundred Years of Solitude</td>\n",
       "      <td>literature</td>\n",
       "    </tr>\n",
       "    <tr>\n",
       "      <th>60</th>\n",
       "      <td>I told Terry I was leaving. She had been think...</td>\n",
       "      <td>Mark Twain</td>\n",
       "      <td>The Adventures of Huckleberry Finn</td>\n",
       "      <td>literature</td>\n",
       "    </tr>\n",
       "    <tr>\n",
       "      <th>61</th>\n",
       "      <td>Babies, babies, babies. Why did God make so ma...</td>\n",
       "      <td>George Eliot</td>\n",
       "      <td>Middlemarch</td>\n",
       "      <td>literature</td>\n",
       "    </tr>\n",
       "    <tr>\n",
       "      <th>62</th>\n",
       "      <td>Her heart of compressed ash, which had resiste...</td>\n",
       "      <td>Geoffrey Chaucer</td>\n",
       "      <td>The Canterbury Tales</td>\n",
       "      <td>literature</td>\n",
       "    </tr>\n",
       "    <tr>\n",
       "      <th>63</th>\n",
       "      <td>Jim said that bees won’t sting idiots, but I d...</td>\n",
       "      <td>Dante Alighieri</td>\n",
       "      <td>The Divine Comedy</td>\n",
       "      <td>literature</td>\n",
       "    </tr>\n",
       "  </tbody>\n",
       "</table>\n",
       "<p>63 rows × 4 columns</p>\n",
       "</div>"
      ],
      "text/plain": [
       "                                                Quote                  Author  \\\n",
       "0   Most of life is so dull that there is nothing ...           E. M. Forster   \n",
       "1   That is the one unforgivable sin in any societ...       Margaret Mitchell   \n",
       "2   Six months ago I had never been to England, an...         Ford Madox Ford   \n",
       "3   The whole mad swirl of everything that was to ...            Jack Kerouac   \n",
       "4   In his Petersburg world, all people were divid...             Leo Tolstoy   \n",
       "..                                                ...                     ...   \n",
       "59  Time is the River on which the leaves of our t...  Gabriel García Márquez   \n",
       "60  I told Terry I was leaving. She had been think...              Mark Twain   \n",
       "61  Babies, babies, babies. Why did God make so ma...            George Eliot   \n",
       "62  Her heart of compressed ash, which had resiste...        Geoffrey Chaucer   \n",
       "63  Jim said that bees won’t sting idiots, but I d...         Dante Alighieri   \n",
       "\n",
       "                                   Book    Category  \n",
       "0                    A Passage to India  literature  \n",
       "1                    Gone with the Wind  literature  \n",
       "2                      The Good Soldier  literature  \n",
       "3                           On the Road  literature  \n",
       "4                         Anna Karenina  literature  \n",
       "..                                  ...         ...  \n",
       "59        One Hundred Years of Solitude  literature  \n",
       "60   The Adventures of Huckleberry Finn  literature  \n",
       "61                          Middlemarch  literature  \n",
       "62                 The Canterbury Tales  literature  \n",
       "63                    The Divine Comedy  literature  \n",
       "\n",
       "[63 rows x 4 columns]"
      ]
     },
     "execution_count": 13,
     "metadata": {},
     "output_type": "execute_result"
    }
   ],
   "source": [
    "literature"
   ]
  },
  {
   "cell_type": "code",
   "execution_count": 14,
   "id": "processed-damage",
   "metadata": {},
   "outputs": [],
   "source": [
    "literature.to_csv(\"Literature.csv\",  index = False)"
   ]
  },
  {
   "cell_type": "markdown",
   "id": "adjustable-peripheral",
   "metadata": {},
   "source": [
    "## Referencias filosofia"
   ]
  },
  {
   "cell_type": "code",
   "execution_count": 29,
   "id": "incorrect-lobby",
   "metadata": {},
   "outputs": [],
   "source": [
    "url3 = ('https://www.philosophybasics.com/general_quotes.html')"
   ]
  },
  {
   "cell_type": "code",
   "execution_count": 30,
   "id": "accompanied-intro",
   "metadata": {},
   "outputs": [],
   "source": [
    "def philosophy(url):\n",
    "    response3 = requests.get(url)\n",
    "    print(response3.status_code)\n",
    "    \n",
    "    soup3 = BeautifulSoup(response3.content, 'html.parser')\n",
    "    quotes3 = soup3.find_all('li')\n",
    "    \n",
    "    text_list3 = []\n",
    "    for name in quotes3:\n",
    "        text_list3.append(name.get_text())\n",
    "        \n",
    "    lines = []\n",
    "    for i in text_list3:\n",
    "        lines.append(re.sub('[“”]', '', i))\n",
    "    \n",
    "        \n",
    "    #Get dataframe\n",
    "    data = pd.DataFrame(lines)\n",
    "    data[['Quote','Author']] = data[0].str.split(\"–\",expand=True,)\n",
    "    data = data.drop(0, axis = 1)\n",
    "    data['Category'] = 'philosophy'\n",
    "    \n",
    "    return data"
   ]
  },
  {
   "cell_type": "code",
   "execution_count": 31,
   "id": "retired-newark",
   "metadata": {},
   "outputs": [
    {
     "name": "stdout",
     "output_type": "stream",
     "text": [
      "200\n"
     ]
    }
   ],
   "source": [
    "philosophy = philosophy(url3)"
   ]
  },
  {
   "cell_type": "code",
   "execution_count": 32,
   "id": "physical-slovenia",
   "metadata": {},
   "outputs": [
    {
     "data": {
      "text/html": [
       "<div>\n",
       "<style scoped>\n",
       "    .dataframe tbody tr th:only-of-type {\n",
       "        vertical-align: middle;\n",
       "    }\n",
       "\n",
       "    .dataframe tbody tr th {\n",
       "        vertical-align: top;\n",
       "    }\n",
       "\n",
       "    .dataframe thead th {\n",
       "        text-align: right;\n",
       "    }\n",
       "</style>\n",
       "<table border=\"1\" class=\"dataframe\">\n",
       "  <thead>\n",
       "    <tr style=\"text-align: right;\">\n",
       "      <th></th>\n",
       "      <th>Quote</th>\n",
       "      <th>Author</th>\n",
       "      <th>Category</th>\n",
       "    </tr>\n",
       "  </thead>\n",
       "  <tbody>\n",
       "    <tr>\n",
       "      <th>0</th>\n",
       "      <td>The unexamined life is not worth living</td>\n",
       "      <td>Socrates</td>\n",
       "      <td>philosophy</td>\n",
       "    </tr>\n",
       "    <tr>\n",
       "      <th>1</th>\n",
       "      <td>Whereof one cannot speak, thereof one must be ...</td>\n",
       "      <td>Ludwig Wittgenstein</td>\n",
       "      <td>philosophy</td>\n",
       "    </tr>\n",
       "    <tr>\n",
       "      <th>2</th>\n",
       "      <td>Entities should not be multiplied unnecessarily</td>\n",
       "      <td>William of Ockham</td>\n",
       "      <td>philosophy</td>\n",
       "    </tr>\n",
       "    <tr>\n",
       "      <th>3</th>\n",
       "      <td>The life of man (in a state of nature) is soli...</td>\n",
       "      <td>Thomas Hobbes</td>\n",
       "      <td>philosophy</td>\n",
       "    </tr>\n",
       "    <tr>\n",
       "      <th>4</th>\n",
       "      <td>I think therefore I am (Cogito, ergo sum)</td>\n",
       "      <td>René Descartes</td>\n",
       "      <td>philosophy</td>\n",
       "    </tr>\n",
       "    <tr>\n",
       "      <th>...</th>\n",
       "      <td>...</td>\n",
       "      <td>...</td>\n",
       "      <td>...</td>\n",
       "    </tr>\n",
       "    <tr>\n",
       "      <th>66</th>\n",
       "      <td>To do as one would be done by, and to love one...</td>\n",
       "      <td>John Stuart Mill</td>\n",
       "      <td>philosophy</td>\n",
       "    </tr>\n",
       "    <tr>\n",
       "      <th>67</th>\n",
       "      <td>Everything that exists is born for no reason, ...</td>\n",
       "      <td>Jean-Paul Sartre</td>\n",
       "      <td>philosophy</td>\n",
       "    </tr>\n",
       "    <tr>\n",
       "      <th>68</th>\n",
       "      <td>Man is the measure of all things</td>\n",
       "      <td>Protagoras</td>\n",
       "      <td>philosophy</td>\n",
       "    </tr>\n",
       "    <tr>\n",
       "      <th>69</th>\n",
       "      <td>We are too weak to discover the truth by reaso...</td>\n",
       "      <td>St. Augustine</td>\n",
       "      <td>philosophy</td>\n",
       "    </tr>\n",
       "    <tr>\n",
       "      <th>70</th>\n",
       "      <td>The mind is furnished with ideas by experience...</td>\n",
       "      <td>John Locke</td>\n",
       "      <td>philosophy</td>\n",
       "    </tr>\n",
       "  </tbody>\n",
       "</table>\n",
       "<p>71 rows × 3 columns</p>\n",
       "</div>"
      ],
      "text/plain": [
       "                                                Quote                Author  \\\n",
       "0            The unexamined life is not worth living               Socrates   \n",
       "1   Whereof one cannot speak, thereof one must be ...   Ludwig Wittgenstein   \n",
       "2    Entities should not be multiplied unnecessarily      William of Ockham   \n",
       "3   The life of man (in a state of nature) is soli...         Thomas Hobbes   \n",
       "4          I think therefore I am (Cogito, ergo sum)         René Descartes   \n",
       "..                                                ...                   ...   \n",
       "66  To do as one would be done by, and to love one...      John Stuart Mill   \n",
       "67  Everything that exists is born for no reason, ...      Jean-Paul Sartre   \n",
       "68                  Man is the measure of all things             Protagoras   \n",
       "69  We are too weak to discover the truth by reaso...         St. Augustine   \n",
       "70  The mind is furnished with ideas by experience...            John Locke   \n",
       "\n",
       "      Category  \n",
       "0   philosophy  \n",
       "1   philosophy  \n",
       "2   philosophy  \n",
       "3   philosophy  \n",
       "4   philosophy  \n",
       "..         ...  \n",
       "66  philosophy  \n",
       "67  philosophy  \n",
       "68  philosophy  \n",
       "69  philosophy  \n",
       "70  philosophy  \n",
       "\n",
       "[71 rows x 3 columns]"
      ]
     },
     "execution_count": 32,
     "metadata": {},
     "output_type": "execute_result"
    }
   ],
   "source": [
    "philosophy"
   ]
  },
  {
   "cell_type": "code",
   "execution_count": 33,
   "id": "hollow-melbourne",
   "metadata": {},
   "outputs": [],
   "source": [
    "philosophy.to_csv(\"Philosophy.csv\",  index = False)"
   ]
  },
  {
   "cell_type": "code",
   "execution_count": null,
   "id": "expanded-turtle",
   "metadata": {},
   "outputs": [],
   "source": []
  }
 ],
 "metadata": {
  "kernelspec": {
   "display_name": "Python 3",
   "language": "python",
   "name": "python3"
  },
  "language_info": {
   "codemirror_mode": {
    "name": "ipython",
    "version": 3
   },
   "file_extension": ".py",
   "mimetype": "text/x-python",
   "name": "python",
   "nbconvert_exporter": "python",
   "pygments_lexer": "ipython3",
   "version": "3.8.5"
  },
  "toc": {
   "base_numbering": 1,
   "nav_menu": {},
   "number_sections": true,
   "sideBar": true,
   "skip_h1_title": false,
   "title_cell": "Table of Contents",
   "title_sidebar": "Contents",
   "toc_cell": false,
   "toc_position": {},
   "toc_section_display": true,
   "toc_window_display": false
  },
  "varInspector": {
   "cols": {
    "lenName": 16,
    "lenType": 16,
    "lenVar": 40
   },
   "kernels_config": {
    "python": {
     "delete_cmd_postfix": "",
     "delete_cmd_prefix": "del ",
     "library": "var_list.py",
     "varRefreshCmd": "print(var_dic_list())"
    },
    "r": {
     "delete_cmd_postfix": ") ",
     "delete_cmd_prefix": "rm(",
     "library": "var_list.r",
     "varRefreshCmd": "cat(var_dic_list()) "
    }
   },
   "position": {
    "height": "434px",
    "left": "1230px",
    "right": "20px",
    "top": "120px",
    "width": "350px"
   },
   "types_to_exclude": [
    "module",
    "function",
    "builtin_function_or_method",
    "instance",
    "_Feature"
   ],
   "window_display": false
  }
 },
 "nbformat": 4,
 "nbformat_minor": 5
}
