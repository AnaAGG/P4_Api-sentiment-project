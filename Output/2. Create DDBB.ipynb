{
 "cells": [
  {
   "cell_type": "markdown",
   "id": "violent-aircraft",
   "metadata": {},
   "source": [
    "## Libraries"
   ]
  },
  {
   "cell_type": "code",
   "execution_count": 50,
   "id": "western-salvation",
   "metadata": {},
   "outputs": [],
   "source": [
    "from pymongo import MongoClient\n",
    "from bson import ObjectId\n",
    "import pandas as pd\n",
    "import sys"
   ]
  },
  {
   "cell_type": "markdown",
   "id": "demographic-bunny",
   "metadata": {},
   "source": [
    "## Data for the collections"
   ]
  },
  {
   "cell_type": "code",
   "execution_count": 38,
   "id": "explicit-textbook",
   "metadata": {},
   "outputs": [],
   "source": [
    "literature = pd.read_csv(\"Literature.csv\", sep=';')\n",
    "biology = pd.read_csv(\"Biology.csv\", sep=';')\n",
    "philosophy = pd.read_csv(\"Philosophy.csv\", sep=';')"
   ]
  },
  {
   "cell_type": "code",
   "execution_count": 39,
   "id": "disciplinary-rates",
   "metadata": {},
   "outputs": [],
   "source": [
    "#df to dict\n",
    "biol = biology.to_dict(orient = \"records\")\n",
    "phil = philosophy.to_dict(orient = \"records\")\n",
    "lit = literature.to_dict(orient = \"records\")"
   ]
  },
  {
   "cell_type": "markdown",
   "id": "level-implementation",
   "metadata": {},
   "source": [
    "##  Connecting and creating the database and collections"
   ]
  },
  {
   "cell_type": "code",
   "execution_count": 40,
   "id": "pleased-liverpool",
   "metadata": {},
   "outputs": [],
   "source": [
    "client = MongoClient()\n",
    "db = client.QuoteAPI"
   ]
  },
  {
   "cell_type": "code",
   "execution_count": 41,
   "id": "offshore-maximum",
   "metadata": {},
   "outputs": [],
   "source": [
    "biology =  db.Biology\n",
    "philosophy =  db.Philosophy\n",
    "literature =  db.Literature"
   ]
  },
  {
   "cell_type": "code",
   "execution_count": 42,
   "id": "transsexual-carroll",
   "metadata": {
    "scrolled": true
   },
   "outputs": [
    {
     "data": {
      "text/plain": [
       "<pymongo.results.InsertManyResult at 0x7fb22707f400>"
      ]
     },
     "execution_count": 42,
     "metadata": {},
     "output_type": "execute_result"
    }
   ],
   "source": [
    "db.Biology.insert_many(biol)\n",
    "db.Philosophy.insert_many(phil)\n",
    "db.Literature.insert_many(lit)    "
   ]
  },
  {
   "cell_type": "code",
   "execution_count": 94,
   "id": "fluid-device",
   "metadata": {},
   "outputs": [],
   "source": [
    "#Para combinar todas las collecciones en una sola, donde solo tengamos la informacion de las frases y los autores\n",
    "y = db.Biology.aggregate( [\n",
    "   { '$unionWith': \"Philosophy\"},\n",
    "   { '$unionWith': \"Literature\"},   \n",
    "   { '$project': { '_id': 1, \"Quote\":1, \"Author\":1, \"Category\":1, \"Gender\":1}},\n",
    "   { '$out' : \"Quote_Author\" } ])"
   ]
  },
  {
   "cell_type": "code",
   "execution_count": 44,
   "id": "handy-methodology",
   "metadata": {},
   "outputs": [
    {
     "data": {
      "text/plain": [
       "[{'_id': ObjectId('6033b97d14687f7bb0232fa8'),\n",
       "  'Author': 'Aristotle',\n",
       "  'Gender': 'M',\n",
       "  'Quote': 'By �life,� we mean a thing that can nourish itself and grow and decay',\n",
       "  'Category': 'science'}]"
      ]
     },
     "execution_count": 44,
     "metadata": {},
     "output_type": "execute_result"
    }
   ],
   "source": [
    "list(db.Quote_Author.find({'Author': 'Aristotle' }))"
   ]
  },
  {
   "cell_type": "code",
   "execution_count": 64,
   "id": "figured-calgary",
   "metadata": {},
   "outputs": [],
   "source": [
    "a = db.Quote_Author.aggregate([\n",
    "  { \"$group\": {\n",
    "    \"_id\": \"$Author\",\n",
    "    \"Quotess\": {\n",
    "      \"$push\": {\n",
    "        \"Quote\": \"$$ROOT\"  #nos permite mantener todos los documentos dl\n",
    "      }\n",
    "    }\n",
    "  }}, { '$out' : \"Quotessss\" }\n",
    "])"
   ]
  },
  {
   "cell_type": "code",
   "execution_count": 75,
   "id": "headed-escape",
   "metadata": {},
   "outputs": [],
   "source": [
    "a = db.Quote_Author.aggregate([{ '$group' : {\n",
    "            '_id' : \"$Author\",\n",
    "            \"quotes\": { '$push' : \"$$ROOT\"} }\n",
    "        }, { '$out' : \"Quotessss33\" }])"
   ]
  },
  {
   "cell_type": "code",
   "execution_count": 95,
   "id": "answering-plain",
   "metadata": {},
   "outputs": [],
   "source": [
    "y = db.Biology.aggregate( [\n",
    "   { '$unionWith': \"Philosophy\"},\n",
    "   { '$unionWith': \"Literature\"},   \n",
    "   { \"$group\": {\n",
    "    \"_id\": \"$Author\",\n",
    "    \"Quotes\": {\n",
    "      \"$push\": {\n",
    "        \"Quote\": \"$$ROOT\"  #nos permite mantener todos los documentos dl\n",
    "      }\n",
    "    }\n",
    "  }}, \n",
    "   { '$out' : \"All_Quotes\" } ])"
   ]
  },
  {
   "cell_type": "code",
   "execution_count": 87,
   "id": "wicked-circular",
   "metadata": {},
   "outputs": [
    {
     "data": {
      "text/plain": [
       "[{'_id': ' Socrates',\n",
       "  'Quotes': [{'Quote': {'_id': ObjectId('6033b97d14687f7bb0232fbd'),\n",
       "     'Quote': 'The unexamined life is not worth living ',\n",
       "     'Author': ' Socrates',\n",
       "     'Gender': 'M',\n",
       "     'Category': 'philosophy'}},\n",
       "   {'Quote': {'_id': ObjectId('6033b97d14687f7bb0232fd0'),\n",
       "     'Quote': 'There is only one good, knowledge, and one evil, ignorance ',\n",
       "     'Author': ' Socrates',\n",
       "     'Gender': 'M',\n",
       "     'Category': 'philosophy'}},\n",
       "   {'Quote': {'_id': ObjectId('6033b97d14687f7bb0232fef'),\n",
       "     'Quote': 'The only thing I know is that I know nothing ',\n",
       "     'Author': ' Socrates',\n",
       "     'Gender': 'M',\n",
       "     'Category': 'philosophy'}}]}]"
      ]
     },
     "execution_count": 87,
     "metadata": {},
     "output_type": "execute_result"
    }
   ],
   "source": [
    "list(db.All_Quotes.find({'_id': ' Socrates'}))"
   ]
  },
  {
   "cell_type": "code",
   "execution_count": null,
   "id": "mechanical-skiing",
   "metadata": {},
   "outputs": [],
   "source": []
  }
 ],
 "metadata": {
  "kernelspec": {
   "display_name": "Python 3",
   "language": "python",
   "name": "python3"
  },
  "language_info": {
   "codemirror_mode": {
    "name": "ipython",
    "version": 3
   },
   "file_extension": ".py",
   "mimetype": "text/x-python",
   "name": "python",
   "nbconvert_exporter": "python",
   "pygments_lexer": "ipython3",
   "version": "3.8.5"
  },
  "toc": {
   "base_numbering": 1,
   "nav_menu": {},
   "number_sections": true,
   "sideBar": true,
   "skip_h1_title": false,
   "title_cell": "Table of Contents",
   "title_sidebar": "Contents",
   "toc_cell": false,
   "toc_position": {},
   "toc_section_display": true,
   "toc_window_display": false
  },
  "varInspector": {
   "cols": {
    "lenName": 16,
    "lenType": 16,
    "lenVar": 40
   },
   "kernels_config": {
    "python": {
     "delete_cmd_postfix": "",
     "delete_cmd_prefix": "del ",
     "library": "var_list.py",
     "varRefreshCmd": "print(var_dic_list())"
    },
    "r": {
     "delete_cmd_postfix": ") ",
     "delete_cmd_prefix": "rm(",
     "library": "var_list.r",
     "varRefreshCmd": "cat(var_dic_list()) "
    }
   },
   "types_to_exclude": [
    "module",
    "function",
    "builtin_function_or_method",
    "instance",
    "_Feature"
   ],
   "window_display": false
  }
 },
 "nbformat": 4,
 "nbformat_minor": 5
}
