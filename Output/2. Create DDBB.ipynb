{
 "cells": [
  {
   "cell_type": "markdown",
   "id": "violent-aircraft",
   "metadata": {},
   "source": [
    "## Libraries"
   ]
  },
  {
   "cell_type": "code",
   "execution_count": 1,
   "id": "western-salvation",
   "metadata": {},
   "outputs": [],
   "source": [
    "from pymongo import MongoClient\n",
    "import pandas as pd\n",
    "import sys"
   ]
  },
  {
   "cell_type": "markdown",
   "id": "demographic-bunny",
   "metadata": {},
   "source": [
    "## Data for the collections"
   ]
  },
  {
   "cell_type": "code",
   "execution_count": 4,
   "id": "gentle-personality",
   "metadata": {},
   "outputs": [
    {
     "name": "stdout",
     "output_type": "stream",
     "text": [
      "/mnt/c/Users/agarc/Bootcamp_IronHack/Proyectos/P4_Api-sentiment-project/Output\r\n"
     ]
    }
   ],
   "source": [
    "!pwd"
   ]
  },
  {
   "cell_type": "code",
   "execution_count": 9,
   "id": "phantom-magazine",
   "metadata": {},
   "outputs": [],
   "source": [
    "biology = pd.read_csv(\"Biology.csv\")\n",
    "philosophy = pd.read_csv(\"Philosophy.csv\")\n",
    "literature = pd.read_csv(\"Literature.csv\")"
   ]
  },
  {
   "cell_type": "code",
   "execution_count": 10,
   "id": "disciplinary-rates",
   "metadata": {},
   "outputs": [],
   "source": [
    "#df to dict\n",
    "data = biology.to_dict(orient = \"records\")\n",
    "phil = philosophy.to_dict(orient = \"records\")\n",
    "lit = literature.to_dict(orient = \"records\")"
   ]
  },
  {
   "cell_type": "markdown",
   "id": "level-implementation",
   "metadata": {},
   "source": [
    "##  Connecting and creating the database and collections"
   ]
  },
  {
   "cell_type": "code",
   "execution_count": 2,
   "id": "pleased-liverpool",
   "metadata": {},
   "outputs": [],
   "source": [
    "client = MongoClient()\n",
    "db = client.QuoteAPI"
   ]
  },
  {
   "cell_type": "code",
   "execution_count": 11,
   "id": "offshore-maximum",
   "metadata": {},
   "outputs": [],
   "source": [
    "biology =  db.Biology\n",
    "philosophy =  db.Philosophy\n",
    "literature =  db.Literature"
   ]
  },
  {
   "cell_type": "code",
   "execution_count": 12,
   "id": "transsexual-carroll",
   "metadata": {
    "scrolled": true
   },
   "outputs": [
    {
     "data": {
      "text/plain": [
       "<pymongo.results.InsertManyResult at 0x7f50d395c040>"
      ]
     },
     "execution_count": 12,
     "metadata": {},
     "output_type": "execute_result"
    }
   ],
   "source": [
    "db.Biology.insert_many(data)\n",
    "db.Philosophy.insert_many(phil)\n",
    "db.Literature.insert_many(lit)    "
   ]
  },
  {
   "cell_type": "code",
   "execution_count": 65,
   "id": "fluid-device",
   "metadata": {},
   "outputs": [],
   "source": [
    "#Para combinar todas las collecciones en una sola, donde solo tengamos la informacion de las frases y los autores\n",
    "y = db.Biology.aggregate( [\n",
    "   { '$unionWith': \"Philosophy\"},\n",
    "   { '$unionWith': \"Literature\"},   \n",
    "   { '$project': { '_id': 1, \"Quote\":1, \"Author\":1}},\n",
    "   { '$out' : \"Quote_Author\" } ])"
   ]
  },
  {
   "cell_type": "code",
   "execution_count": 69,
   "id": "southern-schedule",
   "metadata": {},
   "outputs": [
    {
     "data": {
      "text/plain": [
       "[{'Author': 'Victor Scheffer, 1906 to 2011'},\n",
       " {'Author': 'Antonie van Leeuwenhoek, 1632 to 1723'},\n",
       " {'Author': 'Richard Dawkins, 1941 – present'},\n",
       " {'Author': 'J. B. S. Haldane, 1892 to 1964'},\n",
       " {'Author': 'Aristotle, 384 BC to 322 BC '},\n",
       " {'Author': 'Har Gobind Khorana, 1922 – 2011 '},\n",
       " {'Author': 'Fred Hoyle, 1915 to 2001'},\n",
       " {'Author': 'James Watson, 1928 – Present'},\n",
       " {'Author': 'Francis Crick, 1916 – 2004'},\n",
       " {'Author': 'Stephen Jay Gould, 1941 to 2002'},\n",
       " {'Author': 'James Lovelock, 1919 – present'},\n",
       " {'Author': 'Rachel Carson, 1907 to 1964'},\n",
       " {'Author': 'Bertrand Russell, 1872 – 1970'},\n",
       " {'Author': 'Edmund Beecher Wilson, 1856 to 1939'},\n",
       " {'Author': 'Alfred Russel Wallace, 1823 to 1913'},\n",
       " {'Author': 'Susumu Ohno, 1928 to 2000'},\n",
       " {'Author': 'Auguste Compte, 1798 to 1857'},\n",
       " {'Author': 'Rita Levi-Montalcini, 1909 to 2012'},\n",
       " {'Author': 'Stan Ulam, 1909 – 1984'},\n",
       " {'Author': 'Shinya Yamanaka, 1962 to Present'},\n",
       " {'Author': 'Stephen Jay Gould, 1941 to 2002'},\n",
       " {'Author': 'Charles Darwin, 1809 to 1882'},\n",
       " {'Author': 'Carl Sagan, 1934 to 1996'},\n",
       " {'Author': 'Herbert Maule Richards, 1871 to 1928'},\n",
       " {'Author': 'Svante Arrhenius, 1859 to 1927'},\n",
       " {'Author': 'Victor Scheffer, 1906 to 2011'},\n",
       " {'Author': 'Antonie van Leeuwenhoek, 1632 to 1723'},\n",
       " {'Author': 'Richard Dawkins, 1941 – present'},\n",
       " {'Author': 'J. B. S. Haldane, 1892 to 1964'},\n",
       " {'Author': 'Aristotle, 384 BC to 322 BC '},\n",
       " {'Author': 'Har Gobind Khorana, 1922 – 2011 '},\n",
       " {'Author': 'Fred Hoyle, 1915 to 2001'},\n",
       " {'Author': 'James Watson, 1928 – Present'},\n",
       " {'Author': 'Francis Crick, 1916 – 2004'},\n",
       " {'Author': 'Stephen Jay Gould, 1941 to 2002'},\n",
       " {'Author': 'James Lovelock, 1919 – present'},\n",
       " {'Author': 'Rachel Carson, 1907 to 1964'},\n",
       " {'Author': 'Bertrand Russell, 1872 – 1970'},\n",
       " {'Author': 'Edmund Beecher Wilson, 1856 to 1939'},\n",
       " {'Author': 'Alfred Russel Wallace, 1823 to 1913'},\n",
       " {'Author': 'Susumu Ohno, 1928 to 2000'},\n",
       " {'Author': 'Auguste Compte, 1798 to 1857'},\n",
       " {'Author': 'Rita Levi-Montalcini, 1909 to 2012'},\n",
       " {'Author': 'Stan Ulam, 1909 – 1984'},\n",
       " {'Author': 'Shinya Yamanaka, 1962 to Present'},\n",
       " {'Author': 'Stephen Jay Gould, 1941 to 2002'},\n",
       " {'Author': 'Charles Darwin, 1809 to 1882'},\n",
       " {'Author': 'Carl Sagan, 1934 to 1996'},\n",
       " {'Author': 'Herbert Maule Richards, 1871 to 1928'},\n",
       " {'Author': 'Svante Arrhenius, 1859 to 1927'},\n",
       " {'Author': ' Socrates'},\n",
       " {'Author': ' Ludwig Wittgenstein'},\n",
       " {'Author': ' William of Ockham'},\n",
       " {'Author': ' Thomas Hobbes'},\n",
       " {'Author': ' René Descartes'},\n",
       " {'Author': ' Martin Heidegger'},\n",
       " {'Author': ' Gottfried Wilhelm Leibniz'},\n",
       " {'Author': ' G. W. F. Hegel'},\n",
       " {'Author': ' Friedrich Nietzsche'},\n",
       " {'Author': ' Albert Camus'},\n",
       " {'Author': ' Heraclitus'},\n",
       " {'Author': ' Jeremy Bentham'},\n",
       " {'Author': ' Bishop George Berkeley'},\n",
       " {'Author': ' Immanuel Kant'},\n",
       " {'Author': ' John Locke'},\n",
       " {'Author': ' Niccolo Machiavelli'},\n",
       " {'Author': ' John Stuart Mill'},\n",
       " {'Author': ' Bertrand Russell'},\n",
       " {'Author': ' Seneca the Younger'},\n",
       " {'Author': ' Socrates'},\n",
       " {'Author': ' Voltaire'},\n",
       " {'Author': ' Bertrand Russell'},\n",
       " {'Author': ' René Descartes'},\n",
       " {'Author': ' Thomas Hobbes'},\n",
       " {'Author': ' Ludwig Wittgenstein'},\n",
       " {'Author': ' William James'},\n",
       " {'Author': ' Aristotle'},\n",
       " {'Author': ' G. W. F. Hegel'},\n",
       " {'Author': ' John Locke'},\n",
       " {'Author': ' Søren Kierkegaard'},\n",
       " {'Author': ' Bertrand Russell'},\n",
       " {'Author': ' Immanuel Kant'},\n",
       " {'Author': ' William James'},\n",
       " {'Author': ' Thucydides'},\n",
       " {'Author': ' Aristotle'},\n",
       " {'Author': ' Plato'},\n",
       " {'Author': ' Francis Bacon'},\n",
       " {'Author': ' mistakenly attributed to Edmund Burke'},\n",
       " {'Author': ' Friedrich Nietzsche'},\n",
       " {'Author': ' Bertrand Russell'},\n",
       " {'Author': ' Karl Marx'},\n",
       " {'Author': ' Aristotle'},\n",
       " {'Author': ' Baruch Spinoza'},\n",
       " {'Author': ' Epicurus'},\n",
       " {'Author': ' G. W. F. Hegel'},\n",
       " {'Author': ' Immanuel Kant'},\n",
       " {'Author': ' Jean-Paul Sartre'},\n",
       " {'Author': ' John Locke'},\n",
       " {'Author': ' Ludwig Wittgenstein'},\n",
       " {'Author': ' Plato'},\n",
       " {'Author': ' Socrates'},\n",
       " {'Author': ' Voltaire (in parody of Leibniz)'},\n",
       " {'Author': ' Søren Kierkegaard'},\n",
       " {'Author': ' Jean-Jacques Rousseau'},\n",
       " {'Author': ' Denis Diderot'},\n",
       " {'Author': ' René Descartes'},\n",
       " {'Author': ' Aristotle'},\n",
       " {'Author': ' Spinoza'},\n",
       " {'Author': ' Karl Marx'},\n",
       " {'Author': ' W. K. Clifford'},\n",
       " {'Author': ' Seneca the Younger'},\n",
       " {'Author': ' Epictetus'},\n",
       " {'Author': ' Anaxagoras'},\n",
       " {'Author': ' Sir Francis Bacon'},\n",
       " {'Author': ' Democritus'},\n",
       " {'Author': ' John Locke'},\n",
       " {'Author': ' John Stuart Mill'},\n",
       " {'Author': ' Jean-Paul Sartre'},\n",
       " {'Author': ' Protagoras'},\n",
       " {'Author': ' St. Augustine'},\n",
       " {'Author': ' John Locke'},\n",
       " {'Author': ' Socrates'},\n",
       " {'Author': ' Ludwig Wittgenstein'},\n",
       " {'Author': ' William of Ockham'},\n",
       " {'Author': ' Thomas Hobbes'},\n",
       " {'Author': ' René Descartes'},\n",
       " {'Author': ' Martin Heidegger'},\n",
       " {'Author': ' Gottfried Wilhelm Leibniz'},\n",
       " {'Author': ' G. W. F. Hegel'},\n",
       " {'Author': ' Friedrich Nietzsche'},\n",
       " {'Author': ' Albert Camus'},\n",
       " {'Author': ' Heraclitus'},\n",
       " {'Author': ' Jeremy Bentham'},\n",
       " {'Author': ' Bishop George Berkeley'},\n",
       " {'Author': ' Immanuel Kant'},\n",
       " {'Author': ' John Locke'},\n",
       " {'Author': ' Niccolo Machiavelli'},\n",
       " {'Author': ' John Stuart Mill'},\n",
       " {'Author': ' Bertrand Russell'},\n",
       " {'Author': ' Seneca the Younger'},\n",
       " {'Author': ' Socrates'},\n",
       " {'Author': ' Voltaire'},\n",
       " {'Author': ' Bertrand Russell'},\n",
       " {'Author': ' René Descartes'},\n",
       " {'Author': ' Thomas Hobbes'},\n",
       " {'Author': ' Ludwig Wittgenstein'},\n",
       " {'Author': ' William James'},\n",
       " {'Author': ' Aristotle'},\n",
       " {'Author': ' G. W. F. Hegel'},\n",
       " {'Author': ' John Locke'},\n",
       " {'Author': ' Søren Kierkegaard'},\n",
       " {'Author': ' Bertrand Russell'},\n",
       " {'Author': ' Immanuel Kant'},\n",
       " {'Author': ' William James'},\n",
       " {'Author': ' Thucydides'},\n",
       " {'Author': ' Aristotle'},\n",
       " {'Author': ' Plato'},\n",
       " {'Author': ' Francis Bacon'},\n",
       " {'Author': ' mistakenly attributed to Edmund Burke'},\n",
       " {'Author': ' Friedrich Nietzsche'},\n",
       " {'Author': ' Bertrand Russell'},\n",
       " {'Author': ' Karl Marx'},\n",
       " {'Author': ' Aristotle'},\n",
       " {'Author': ' Baruch Spinoza'},\n",
       " {'Author': ' Epicurus'},\n",
       " {'Author': ' G. W. F. Hegel'},\n",
       " {'Author': ' Immanuel Kant'},\n",
       " {'Author': ' Jean-Paul Sartre'},\n",
       " {'Author': ' John Locke'},\n",
       " {'Author': ' Ludwig Wittgenstein'},\n",
       " {'Author': ' Plato'},\n",
       " {'Author': ' Socrates'},\n",
       " {'Author': ' Voltaire (in parody of Leibniz)'},\n",
       " {'Author': ' Søren Kierkegaard'},\n",
       " {'Author': ' Jean-Jacques Rousseau'},\n",
       " {'Author': ' Denis Diderot'},\n",
       " {'Author': ' René Descartes'},\n",
       " {'Author': ' Aristotle'},\n",
       " {'Author': ' Spinoza'},\n",
       " {'Author': ' Karl Marx'},\n",
       " {'Author': ' W. K. Clifford'},\n",
       " {'Author': ' Seneca the Younger'},\n",
       " {'Author': ' Epictetus'},\n",
       " {'Author': ' Anaxagoras'},\n",
       " {'Author': ' Sir Francis Bacon'},\n",
       " {'Author': ' Democritus'},\n",
       " {'Author': ' John Locke'},\n",
       " {'Author': ' John Stuart Mill'},\n",
       " {'Author': ' Jean-Paul Sartre'},\n",
       " {'Author': ' Protagoras'},\n",
       " {'Author': ' St. Augustine'},\n",
       " {'Author': ' John Locke'},\n",
       " {'Author': 'E. M. Forster'},\n",
       " {'Author': 'Margaret Mitchell'},\n",
       " {'Author': 'Ford Madox Ford'},\n",
       " {'Author': 'Jack Kerouac'},\n",
       " {'Author': 'Leo Tolstoy'},\n",
       " {'Author': 'D. H. Lawrence'},\n",
       " {'Author': 'Gustave Flaubert'},\n",
       " {'Author': 'William Golding'},\n",
       " {'Author': 'Ernest Hemingway'},\n",
       " {'Author': 'Lewis Carroll'},\n",
       " {'Author': 'Jane Austen'},\n",
       " {'Author': 'Joseph Conrad'},\n",
       " {'Author': 'Sophocles'},\n",
       " {'Author': 'Kate Chopin'},\n",
       " {'Author': 'J. D. Salinger'},\n",
       " {'Author': 'George Orwell'},\n",
       " {'Author': 'John Steinbeck'},\n",
       " {'Author': 'Kenneth Grahame'},\n",
       " {'Author': 'J. R. R. Tolkien'},\n",
       " {'Author': 'Kurt Vonnegut'},\n",
       " {'Author': 'Mary Shelley'},\n",
       " {'Author': 'Toni Morrison'},\n",
       " {'Author': 'Dante Alighieri'},\n",
       " {'Author': 'Virginia Woolf'},\n",
       " {'Author': 'Albert Camus'},\n",
       " {'Author': 'James Joyce'},\n",
       " {'Author': 'Jane Austen'},\n",
       " {'Author': 'Charlotte Brontë'},\n",
       " {'Author': 'Franz Kafka'},\n",
       " {'Author': 'Virginia Woolf'},\n",
       " {'Author': 'Geoffrey Chaucer'},\n",
       " {'Author': 'Jack London'},\n",
       " {'Author': 'Mark Twain'},\n",
       " {'Author': 'Zora Neale Hurston'},\n",
       " {'Author': 'F. Scott Fitzgerald'},\n",
       " {'Author': 'Pierre Choderlos de Laclos'},\n",
       " {'Author': 'Charles Dickens'},\n",
       " {'Author': 'William Shakespeare'},\n",
       " {'Author': 'Aldous Huxley'},\n",
       " {'Author': 'Nathaniel Hawthorne'},\n",
       " {'Author': 'George Eliot'},\n",
       " {'Author': 'Emily Brontë'},\n",
       " {'Author': 'William Faulkner'},\n",
       " {'Author': 'Edith Wharton'},\n",
       " {'Author': 'Virgil'},\n",
       " {'Author': 'William Makepeace Thackeray'},\n",
       " {'Author': 'Doris Lessing'},\n",
       " {'Author': 'Ralph Ellison'},\n",
       " {'Author': 'Harper Lee'},\n",
       " {'Author': 'Gabriel García Márquez'},\n",
       " {'Author': 'Virgil'},\n",
       " {'Author': 'Jane Austen'},\n",
       " {'Author': 'Kurt Vonnegut'},\n",
       " {'Author': 'D. H. Lawrence'},\n",
       " {'Author': 'Edith Wharton'},\n",
       " {'Author': 'Doris Lessing'},\n",
       " {'Author': 'Jack Kerouac'},\n",
       " {'Author': 'Margaret Mitchell'},\n",
       " {'Author': 'Gabriel García Márquez'},\n",
       " {'Author': 'Mark Twain'},\n",
       " {'Author': 'George Eliot'},\n",
       " {'Author': 'Geoffrey Chaucer'},\n",
       " {'Author': 'Dante Alighieri'}]"
      ]
     },
     "execution_count": 69,
     "metadata": {},
     "output_type": "execute_result"
    }
   ],
   "source": [
    "q = {}\n",
    "project= {\"Author\":1, \"_id\":0}\n",
    "\n",
    "list(db.Quote_Author.find(q,project))"
   ]
  },
  {
   "cell_type": "code",
   "execution_count": 72,
   "id": "olympic-ethics",
   "metadata": {},
   "outputs": [],
   "source": [
    "from flask_pretty import Prettify"
   ]
  },
  {
   "cell_type": "code",
   "execution_count": 71,
   "id": "tutorial-crossing",
   "metadata": {},
   "outputs": [
    {
     "name": "stdout",
     "output_type": "stream",
     "text": [
      "Collecting flask_pretty\n",
      "  Downloading Flask-Pretty-0.2.0.tar.gz (8.5 kB)\n",
      "Requirement already satisfied: beautifulsoup4 in /home/anagarcia/anaconda3/envs/ironhack/lib/python3.8/site-packages (from flask_pretty) (4.9.3)\n",
      "Requirement already satisfied: flask in /home/anagarcia/anaconda3/envs/ironhack/lib/python3.8/site-packages (from flask_pretty) (1.1.2)\n",
      "Requirement already satisfied: soupsieve>1.2 in /home/anagarcia/anaconda3/envs/ironhack/lib/python3.8/site-packages (from beautifulsoup4->flask_pretty) (2.1)\n",
      "Requirement already satisfied: Werkzeug>=0.15 in /home/anagarcia/anaconda3/envs/ironhack/lib/python3.8/site-packages (from flask->flask_pretty) (1.0.1)\n",
      "Requirement already satisfied: itsdangerous>=0.24 in /home/anagarcia/anaconda3/envs/ironhack/lib/python3.8/site-packages (from flask->flask_pretty) (1.1.0)\n",
      "Requirement already satisfied: click>=5.1 in /home/anagarcia/anaconda3/envs/ironhack/lib/python3.8/site-packages (from flask->flask_pretty) (7.1.2)\n",
      "Requirement already satisfied: Jinja2>=2.10.1 in /home/anagarcia/anaconda3/envs/ironhack/lib/python3.8/site-packages (from flask->flask_pretty) (2.11.2)\n",
      "Requirement already satisfied: MarkupSafe>=0.23 in /home/anagarcia/anaconda3/envs/ironhack/lib/python3.8/site-packages (from Jinja2>=2.10.1->flask->flask_pretty) (1.1.1)\n",
      "Building wheels for collected packages: flask-pretty\n",
      "  Building wheel for flask-pretty (setup.py) ... \u001b[?25ldone\n",
      "\u001b[?25h  Created wheel for flask-pretty: filename=Flask_Pretty-0.2.0-py3-none-any.whl size=3876 sha256=a1bb24752dcebbbac18ba2d38dfb36e38078d62fa7894697021e49d3e60d3fcf\n",
      "  Stored in directory: /home/anagarcia/.cache/pip/wheels/d5/77/16/28d8dc8f1781e295ceb6af58a40772b2362f639bb77413df95\n",
      "Successfully built flask-pretty\n",
      "Installing collected packages: flask-pretty\n",
      "Successfully installed flask-pretty-0.2.0\n"
     ]
    }
   ],
   "source": [
    "!pip3 install flask_pretty"
   ]
  },
  {
   "cell_type": "code",
   "execution_count": null,
   "id": "emerging-tonight",
   "metadata": {},
   "outputs": [],
   "source": []
  }
 ],
 "metadata": {
  "kernelspec": {
   "display_name": "Python 3",
   "language": "python",
   "name": "python3"
  },
  "language_info": {
   "codemirror_mode": {
    "name": "ipython",
    "version": 3
   },
   "file_extension": ".py",
   "mimetype": "text/x-python",
   "name": "python",
   "nbconvert_exporter": "python",
   "pygments_lexer": "ipython3",
   "version": "3.8.5"
  },
  "toc": {
   "base_numbering": 1,
   "nav_menu": {},
   "number_sections": true,
   "sideBar": true,
   "skip_h1_title": false,
   "title_cell": "Table of Contents",
   "title_sidebar": "Contents",
   "toc_cell": false,
   "toc_position": {},
   "toc_section_display": true,
   "toc_window_display": false
  },
  "varInspector": {
   "cols": {
    "lenName": 16,
    "lenType": 16,
    "lenVar": 40
   },
   "kernels_config": {
    "python": {
     "delete_cmd_postfix": "",
     "delete_cmd_prefix": "del ",
     "library": "var_list.py",
     "varRefreshCmd": "print(var_dic_list())"
    },
    "r": {
     "delete_cmd_postfix": ") ",
     "delete_cmd_prefix": "rm(",
     "library": "var_list.r",
     "varRefreshCmd": "cat(var_dic_list()) "
    }
   },
   "types_to_exclude": [
    "module",
    "function",
    "builtin_function_or_method",
    "instance",
    "_Feature"
   ],
   "window_display": false
  }
 },
 "nbformat": 4,
 "nbformat_minor": 5
}
