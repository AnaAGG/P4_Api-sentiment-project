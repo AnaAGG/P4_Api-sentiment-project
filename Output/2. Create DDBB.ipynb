{
 "cells": [
  {
   "cell_type": "markdown",
   "id": "violent-aircraft",
   "metadata": {},
   "source": [
    "## Libraries"
   ]
  },
  {
   "cell_type": "code",
   "execution_count": 24,
   "id": "western-salvation",
   "metadata": {},
   "outputs": [],
   "source": [
    "from pymongo import MongoClient\n",
    "import pandas as pd\n",
    "import sys"
   ]
  },
  {
   "cell_type": "markdown",
   "id": "demographic-bunny",
   "metadata": {},
   "source": [
    "## Data for the collections"
   ]
  },
  {
   "cell_type": "code",
   "execution_count": 25,
   "id": "phantom-magazine",
   "metadata": {},
   "outputs": [],
   "source": [
    "biology = pd.read_csv(\"Biology.csv\")\n",
    "philosophy = pd.read_csv(\"Philosophy.csv\")\n",
    "literature = pd.read_csv(\"Literature.csv\")"
   ]
  },
  {
   "cell_type": "code",
   "execution_count": 26,
   "id": "disciplinary-rates",
   "metadata": {},
   "outputs": [],
   "source": [
    "#df to dict\n",
    "data = biology.to_dict(orient = \"records\")\n",
    "phil = philosophy.to_dict(orient = \"records\")\n",
    "lit = literature.to_dict(orient = \"records\")"
   ]
  },
  {
   "cell_type": "markdown",
   "id": "level-implementation",
   "metadata": {},
   "source": [
    "##  Connecting and creating the database and collections"
   ]
  },
  {
   "cell_type": "code",
   "execution_count": 27,
   "id": "pleased-liverpool",
   "metadata": {},
   "outputs": [],
   "source": [
    "client = MongoClient()\n",
    "db = client.QuoteAPI"
   ]
  },
  {
   "cell_type": "code",
   "execution_count": 28,
   "id": "offshore-maximum",
   "metadata": {},
   "outputs": [],
   "source": [
    "biology =  db.Biology\n",
    "philosophy =  db.Philosophy\n",
    "literature =  db.Literature"
   ]
  },
  {
   "cell_type": "code",
   "execution_count": 29,
   "id": "transsexual-carroll",
   "metadata": {
    "scrolled": true
   },
   "outputs": [
    {
     "data": {
      "text/plain": [
       "<pymongo.results.InsertManyResult at 0x7fdaa453b7c0>"
      ]
     },
     "execution_count": 29,
     "metadata": {},
     "output_type": "execute_result"
    }
   ],
   "source": [
    "db.Biology.insert_many(data)\n",
    "db.Philosophy.insert_many(phil)\n",
    "db.Literature.insert_many(lit)    "
   ]
  },
  {
   "cell_type": "code",
   "execution_count": 30,
   "id": "fluid-device",
   "metadata": {},
   "outputs": [],
   "source": [
    "#Para combinar todas las collecciones en una sola, donde solo tengamos la informacion de las frases y los autores\n",
    "y = db.Biology.aggregate( [\n",
    "   { '$unionWith': \"Philosophy\"},\n",
    "   { '$unionWith': \"Literature\"},   \n",
    "   { '$project': { '_id': 1, \"Quote\":1, \"Author\":1, \"Category\":1}},\n",
    "   { '$out' : \"Quote_Author\" } ])"
   ]
  },
  {
   "cell_type": "code",
   "execution_count": null,
   "id": "emerging-tonight",
   "metadata": {},
   "outputs": [],
   "source": []
  }
 ],
 "metadata": {
  "kernelspec": {
   "display_name": "Python 3",
   "language": "python",
   "name": "python3"
  },
  "language_info": {
   "codemirror_mode": {
    "name": "ipython",
    "version": 3
   },
   "file_extension": ".py",
   "mimetype": "text/x-python",
   "name": "python",
   "nbconvert_exporter": "python",
   "pygments_lexer": "ipython3",
   "version": "3.8.5"
  },
  "toc": {
   "base_numbering": 1,
   "nav_menu": {},
   "number_sections": true,
   "sideBar": true,
   "skip_h1_title": false,
   "title_cell": "Table of Contents",
   "title_sidebar": "Contents",
   "toc_cell": false,
   "toc_position": {},
   "toc_section_display": true,
   "toc_window_display": false
  },
  "varInspector": {
   "cols": {
    "lenName": 16,
    "lenType": 16,
    "lenVar": 40
   },
   "kernels_config": {
    "python": {
     "delete_cmd_postfix": "",
     "delete_cmd_prefix": "del ",
     "library": "var_list.py",
     "varRefreshCmd": "print(var_dic_list())"
    },
    "r": {
     "delete_cmd_postfix": ") ",
     "delete_cmd_prefix": "rm(",
     "library": "var_list.r",
     "varRefreshCmd": "cat(var_dic_list()) "
    }
   },
   "types_to_exclude": [
    "module",
    "function",
    "builtin_function_or_method",
    "instance",
    "_Feature"
   ],
   "window_display": false
  }
 },
 "nbformat": 4,
 "nbformat_minor": 5
}
