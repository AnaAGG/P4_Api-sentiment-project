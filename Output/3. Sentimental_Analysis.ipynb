{
 "cells": [
  {
   "cell_type": "markdown",
   "id": "natural-maximum",
   "metadata": {
    "toc": true
   },
   "source": [
    "<h1>Table of Contents<span class=\"tocSkip\"></span></h1>\n",
    "<div class=\"toc\"><ul class=\"toc-item\"><li><span><a href=\"#Libraries\" data-toc-modified-id=\"Libraries-1\"><span class=\"toc-item-num\">1&nbsp;&nbsp;</span>Libraries</a></span></li><li><span><a href=\"#Get-the-information-from-the-QUOTEAPI\" data-toc-modified-id=\"Get-the-information-from-the-QUOTEAPI-2\"><span class=\"toc-item-num\">2&nbsp;&nbsp;</span>Get the information from the QUOTEAPI</a></span></li><li><span><a href=\"#Tokenization\" data-toc-modified-id=\"Tokenization-3\"><span class=\"toc-item-num\">3&nbsp;&nbsp;</span>Tokenization</a></span></li><li><span><a href=\"#Translating\" data-toc-modified-id=\"Translating-4\"><span class=\"toc-item-num\">4&nbsp;&nbsp;</span>Translating</a></span></li><li><span><a href=\"#Stop-words\" data-toc-modified-id=\"Stop-words-5\"><span class=\"toc-item-num\">5&nbsp;&nbsp;</span>Stop words</a></span></li><li><span><a href=\"#Sentiment-Analysis\" data-toc-modified-id=\"Sentiment-Analysis-6\"><span class=\"toc-item-num\">6&nbsp;&nbsp;</span>Sentiment Analysis</a></span></li></ul></div>"
   ]
  },
  {
   "cell_type": "markdown",
   "id": "dried-argument",
   "metadata": {},
   "source": [
    "## Libraries"
   ]
  },
  {
   "cell_type": "code",
   "execution_count": 1,
   "id": "dutch-infrared",
   "metadata": {},
   "outputs": [
    {
     "name": "stderr",
     "output_type": "stream",
     "text": [
      "/home/anagarcia/anaconda3/envs/ironhack/lib/python3.8/site-packages/nltk/twitter/__init__.py:20: UserWarning: The twython library has not been installed. Some functionality from the twitter package will not be available.\n",
      "  warnings.warn(\"The twython library has not been installed. \"\n"
     ]
    }
   ],
   "source": [
    "import pandas as pd\n",
    "import requests\n",
    "#NLTK\n",
    "import nltk\n",
    "from nltk.sentiment.vader import SentimentIntensityAnalyzer\n",
    "from nltk.tokenize import RegexpTokenizer\n",
    "from nltk.corpus import stopwords\n",
    "\n",
    "#TextBlob\n",
    "from textblob import TextBlob\n",
    "\n",
    "#SpaCy\n",
    "import spacy\n",
    "from spacy import displacy\n",
    "\n",
    "from langdetect import detect\n",
    "import seaborn as sns"
   ]
  },
  {
   "cell_type": "markdown",
   "id": "single-premiere",
   "metadata": {},
   "source": [
    "## Get the information from the QUOTEAPI "
   ]
  },
  {
   "cell_type": "code",
   "execution_count": 2,
   "id": "smoking-surname",
   "metadata": {},
   "outputs": [],
   "source": [
    "url = (\"http://127.0.0.1:5000/Data\")"
   ]
  },
  {
   "cell_type": "code",
   "execution_count": 3,
   "id": "mexican-depression",
   "metadata": {},
   "outputs": [
    {
     "data": {
      "text/plain": [
       "200"
      ]
     },
     "execution_count": 3,
     "metadata": {},
     "output_type": "execute_result"
    }
   ],
   "source": [
    "all_aut =  requests.get(url)\n",
    "all_aut.status_code"
   ]
  },
  {
   "cell_type": "code",
   "execution_count": 4,
   "id": "architectural-monthly",
   "metadata": {},
   "outputs": [],
   "source": [
    "data = all_aut.json()"
   ]
  },
  {
   "cell_type": "code",
   "execution_count": 5,
   "id": "unsigned-wednesday",
   "metadata": {},
   "outputs": [
    {
     "data": {
      "text/html": [
       "<div>\n",
       "<style scoped>\n",
       "    .dataframe tbody tr th:only-of-type {\n",
       "        vertical-align: middle;\n",
       "    }\n",
       "\n",
       "    .dataframe tbody tr th {\n",
       "        vertical-align: top;\n",
       "    }\n",
       "\n",
       "    .dataframe thead th {\n",
       "        text-align: right;\n",
       "    }\n",
       "</style>\n",
       "<table border=\"1\" class=\"dataframe\">\n",
       "  <thead>\n",
       "    <tr style=\"text-align: right;\">\n",
       "      <th></th>\n",
       "      <th>Author</th>\n",
       "      <th>Category</th>\n",
       "      <th>Gender</th>\n",
       "      <th>Quote</th>\n",
       "    </tr>\n",
       "  </thead>\n",
       "  <tbody>\n",
       "    <tr>\n",
       "      <th>0</th>\n",
       "      <td>Antonie van Leeuwenhoek</td>\n",
       "      <td>science</td>\n",
       "      <td>M</td>\n",
       "      <td>I believe that thirty million of these animalc...</td>\n",
       "    </tr>\n",
       "    <tr>\n",
       "      <th>1</th>\n",
       "      <td>Richard Dawkins</td>\n",
       "      <td>science</td>\n",
       "      <td>M</td>\n",
       "      <td>Biology is the study of the complex things in ...</td>\n",
       "    </tr>\n",
       "    <tr>\n",
       "      <th>2</th>\n",
       "      <td>J. B. S. Haldane</td>\n",
       "      <td>science</td>\n",
       "      <td>M</td>\n",
       "      <td>If physics and biology one day meet, and one o...</td>\n",
       "    </tr>\n",
       "    <tr>\n",
       "      <th>3</th>\n",
       "      <td>Aristotle</td>\n",
       "      <td>science</td>\n",
       "      <td>M</td>\n",
       "      <td>By �life,� we mean a thing that can nourish it...</td>\n",
       "    </tr>\n",
       "    <tr>\n",
       "      <th>4</th>\n",
       "      <td>Har Gobind Khorana</td>\n",
       "      <td>science</td>\n",
       "      <td>M</td>\n",
       "      <td>Everything that human beings or living animals...</td>\n",
       "    </tr>\n",
       "    <tr>\n",
       "      <th>...</th>\n",
       "      <td>...</td>\n",
       "      <td>...</td>\n",
       "      <td>...</td>\n",
       "      <td>...</td>\n",
       "    </tr>\n",
       "    <tr>\n",
       "      <th>195</th>\n",
       "      <td>Chimamanda Ngozi Adichie</td>\n",
       "      <td>literature</td>\n",
       "      <td>F</td>\n",
       "      <td>How easy it was to lie to strangers, to create...</td>\n",
       "    </tr>\n",
       "    <tr>\n",
       "      <th>196</th>\n",
       "      <td>Madeleine L�Engle</td>\n",
       "      <td>literature</td>\n",
       "      <td>F</td>\n",
       "      <td>Life, with its rules, its obligations, and its...</td>\n",
       "    </tr>\n",
       "    <tr>\n",
       "      <th>197</th>\n",
       "      <td>Alice Walker</td>\n",
       "      <td>literature</td>\n",
       "      <td>F</td>\n",
       "      <td>Time moves slowly, but passes quickly</td>\n",
       "    </tr>\n",
       "    <tr>\n",
       "      <th>198</th>\n",
       "      <td>Amy Tan</td>\n",
       "      <td>literature</td>\n",
       "      <td>F</td>\n",
       "      <td>Then you must teach my daughter this same less...</td>\n",
       "    </tr>\n",
       "    <tr>\n",
       "      <th>199</th>\n",
       "      <td>Suzanne Collins</td>\n",
       "      <td>literature</td>\n",
       "      <td>F</td>\n",
       "      <td>And may the odds be ever in your favor.</td>\n",
       "    </tr>\n",
       "  </tbody>\n",
       "</table>\n",
       "<p>200 rows × 4 columns</p>\n",
       "</div>"
      ],
      "text/plain": [
       "                       Author    Category Gender  \\\n",
       "0     Antonie van Leeuwenhoek     science      M   \n",
       "1             Richard Dawkins     science      M   \n",
       "2            J. B. S. Haldane     science      M   \n",
       "3                   Aristotle     science      M   \n",
       "4          Har Gobind Khorana     science      M   \n",
       "..                        ...         ...    ...   \n",
       "195  Chimamanda Ngozi Adichie  literature      F   \n",
       "196         Madeleine L�Engle  literature      F   \n",
       "197              Alice Walker  literature      F   \n",
       "198                   Amy Tan  literature      F   \n",
       "199           Suzanne Collins  literature      F   \n",
       "\n",
       "                                                 Quote  \n",
       "0    I believe that thirty million of these animalc...  \n",
       "1    Biology is the study of the complex things in ...  \n",
       "2    If physics and biology one day meet, and one o...  \n",
       "3    By �life,� we mean a thing that can nourish it...  \n",
       "4    Everything that human beings or living animals...  \n",
       "..                                                 ...  \n",
       "195  How easy it was to lie to strangers, to create...  \n",
       "196  Life, with its rules, its obligations, and its...  \n",
       "197              Time moves slowly, but passes quickly  \n",
       "198  Then you must teach my daughter this same less...  \n",
       "199            And may the odds be ever in your favor.  \n",
       "\n",
       "[200 rows x 4 columns]"
      ]
     },
     "execution_count": 5,
     "metadata": {},
     "output_type": "execute_result"
    }
   ],
   "source": [
    "df = pd.DataFrame(data)\n",
    "df"
   ]
  },
  {
   "cell_type": "markdown",
   "id": "respiratory-storm",
   "metadata": {},
   "source": [
    "## Tokenization "
   ]
  },
  {
   "cell_type": "code",
   "execution_count": 6,
   "id": "ahead-mumbai",
   "metadata": {},
   "outputs": [],
   "source": [
    "def tokenize (string):\n",
    "    tokenizer = RegexpTokenizer(r'\\w+')\n",
    "    tokens = tokenizer.tokenize(string)\n",
    "    return tokens"
   ]
  },
  {
   "cell_type": "code",
   "execution_count": 7,
   "id": "deluxe-damage",
   "metadata": {},
   "outputs": [],
   "source": [
    "df[\"Quote_tok\"] = df[\"Quote\"].apply(tokenize)"
   ]
  },
  {
   "cell_type": "code",
   "execution_count": 8,
   "id": "matched-curtis",
   "metadata": {},
   "outputs": [
    {
     "data": {
      "text/html": [
       "<div>\n",
       "<style scoped>\n",
       "    .dataframe tbody tr th:only-of-type {\n",
       "        vertical-align: middle;\n",
       "    }\n",
       "\n",
       "    .dataframe tbody tr th {\n",
       "        vertical-align: top;\n",
       "    }\n",
       "\n",
       "    .dataframe thead th {\n",
       "        text-align: right;\n",
       "    }\n",
       "</style>\n",
       "<table border=\"1\" class=\"dataframe\">\n",
       "  <thead>\n",
       "    <tr style=\"text-align: right;\">\n",
       "      <th></th>\n",
       "      <th>Author</th>\n",
       "      <th>Category</th>\n",
       "      <th>Gender</th>\n",
       "      <th>Quote</th>\n",
       "      <th>Quote_tok</th>\n",
       "    </tr>\n",
       "  </thead>\n",
       "  <tbody>\n",
       "    <tr>\n",
       "      <th>0</th>\n",
       "      <td>Antonie van Leeuwenhoek</td>\n",
       "      <td>science</td>\n",
       "      <td>M</td>\n",
       "      <td>I believe that thirty million of these animalc...</td>\n",
       "      <td>[I, believe, that, thirty, million, of, these,...</td>\n",
       "    </tr>\n",
       "    <tr>\n",
       "      <th>1</th>\n",
       "      <td>Richard Dawkins</td>\n",
       "      <td>science</td>\n",
       "      <td>M</td>\n",
       "      <td>Biology is the study of the complex things in ...</td>\n",
       "      <td>[Biology, is, the, study, of, the, complex, th...</td>\n",
       "    </tr>\n",
       "    <tr>\n",
       "      <th>2</th>\n",
       "      <td>J. B. S. Haldane</td>\n",
       "      <td>science</td>\n",
       "      <td>M</td>\n",
       "      <td>If physics and biology one day meet, and one o...</td>\n",
       "      <td>[If, physics, and, biology, one, day, meet, an...</td>\n",
       "    </tr>\n",
       "    <tr>\n",
       "      <th>3</th>\n",
       "      <td>Aristotle</td>\n",
       "      <td>science</td>\n",
       "      <td>M</td>\n",
       "      <td>By �life,� we mean a thing that can nourish it...</td>\n",
       "      <td>[By, life, we, mean, a, thing, that, can, nour...</td>\n",
       "    </tr>\n",
       "    <tr>\n",
       "      <th>4</th>\n",
       "      <td>Har Gobind Khorana</td>\n",
       "      <td>science</td>\n",
       "      <td>M</td>\n",
       "      <td>Everything that human beings or living animals...</td>\n",
       "      <td>[Everything, that, human, beings, or, living, ...</td>\n",
       "    </tr>\n",
       "  </tbody>\n",
       "</table>\n",
       "</div>"
      ],
      "text/plain": [
       "                    Author Category Gender  \\\n",
       "0  Antonie van Leeuwenhoek  science      M   \n",
       "1          Richard Dawkins  science      M   \n",
       "2         J. B. S. Haldane  science      M   \n",
       "3                Aristotle  science      M   \n",
       "4       Har Gobind Khorana  science      M   \n",
       "\n",
       "                                               Quote  \\\n",
       "0  I believe that thirty million of these animalc...   \n",
       "1  Biology is the study of the complex things in ...   \n",
       "2  If physics and biology one day meet, and one o...   \n",
       "3  By �life,� we mean a thing that can nourish it...   \n",
       "4  Everything that human beings or living animals...   \n",
       "\n",
       "                                           Quote_tok  \n",
       "0  [I, believe, that, thirty, million, of, these,...  \n",
       "1  [Biology, is, the, study, of, the, complex, th...  \n",
       "2  [If, physics, and, biology, one, day, meet, an...  \n",
       "3  [By, life, we, mean, a, thing, that, can, nour...  \n",
       "4  [Everything, that, human, beings, or, living, ...  "
      ]
     },
     "execution_count": 8,
     "metadata": {},
     "output_type": "execute_result"
    }
   ],
   "source": [
    "df.head()"
   ]
  },
  {
   "cell_type": "code",
   "execution_count": 9,
   "id": "realistic-interaction",
   "metadata": {},
   "outputs": [
    {
     "data": {
      "text/html": [
       "<div>\n",
       "<style scoped>\n",
       "    .dataframe tbody tr th:only-of-type {\n",
       "        vertical-align: middle;\n",
       "    }\n",
       "\n",
       "    .dataframe tbody tr th {\n",
       "        vertical-align: top;\n",
       "    }\n",
       "\n",
       "    .dataframe thead th {\n",
       "        text-align: right;\n",
       "    }\n",
       "</style>\n",
       "<table border=\"1\" class=\"dataframe\">\n",
       "  <thead>\n",
       "    <tr style=\"text-align: right;\">\n",
       "      <th></th>\n",
       "      <th>Author</th>\n",
       "      <th>Category</th>\n",
       "      <th>Gender</th>\n",
       "      <th>Quote</th>\n",
       "      <th>Quote_tok</th>\n",
       "    </tr>\n",
       "  </thead>\n",
       "  <tbody>\n",
       "    <tr>\n",
       "      <th>0</th>\n",
       "      <td>Antonie van Leeuwenhoek</td>\n",
       "      <td>science</td>\n",
       "      <td>M</td>\n",
       "      <td>I believe that thirty million of these animalc...</td>\n",
       "      <td>I believe that thirty million of these animalc...</td>\n",
       "    </tr>\n",
       "    <tr>\n",
       "      <th>1</th>\n",
       "      <td>Richard Dawkins</td>\n",
       "      <td>science</td>\n",
       "      <td>M</td>\n",
       "      <td>Biology is the study of the complex things in ...</td>\n",
       "      <td>Biology is the study of the complex things in ...</td>\n",
       "    </tr>\n",
       "    <tr>\n",
       "      <th>2</th>\n",
       "      <td>J. B. S. Haldane</td>\n",
       "      <td>science</td>\n",
       "      <td>M</td>\n",
       "      <td>If physics and biology one day meet, and one o...</td>\n",
       "      <td>If physics and biology one day meet and one of...</td>\n",
       "    </tr>\n",
       "    <tr>\n",
       "      <th>3</th>\n",
       "      <td>Aristotle</td>\n",
       "      <td>science</td>\n",
       "      <td>M</td>\n",
       "      <td>By �life,� we mean a thing that can nourish it...</td>\n",
       "      <td>By life we mean a thing that can nourish itsel...</td>\n",
       "    </tr>\n",
       "    <tr>\n",
       "      <th>4</th>\n",
       "      <td>Har Gobind Khorana</td>\n",
       "      <td>science</td>\n",
       "      <td>M</td>\n",
       "      <td>Everything that human beings or living animals...</td>\n",
       "      <td>Everything that human beings or living animals...</td>\n",
       "    </tr>\n",
       "  </tbody>\n",
       "</table>\n",
       "</div>"
      ],
      "text/plain": [
       "                    Author Category Gender  \\\n",
       "0  Antonie van Leeuwenhoek  science      M   \n",
       "1          Richard Dawkins  science      M   \n",
       "2         J. B. S. Haldane  science      M   \n",
       "3                Aristotle  science      M   \n",
       "4       Har Gobind Khorana  science      M   \n",
       "\n",
       "                                               Quote  \\\n",
       "0  I believe that thirty million of these animalc...   \n",
       "1  Biology is the study of the complex things in ...   \n",
       "2  If physics and biology one day meet, and one o...   \n",
       "3  By �life,� we mean a thing that can nourish it...   \n",
       "4  Everything that human beings or living animals...   \n",
       "\n",
       "                                           Quote_tok  \n",
       "0  I believe that thirty million of these animalc...  \n",
       "1  Biology is the study of the complex things in ...  \n",
       "2  If physics and biology one day meet and one of...  \n",
       "3  By life we mean a thing that can nourish itsel...  \n",
       "4  Everything that human beings or living animals...  "
      ]
     },
     "execution_count": 9,
     "metadata": {},
     "output_type": "execute_result"
    }
   ],
   "source": [
    "df['Quote_tok'] = df['Quote_tok'].apply(lambda x: \" \".join(x))\n",
    "df.head()"
   ]
  },
  {
   "cell_type": "markdown",
   "id": "honey-comparative",
   "metadata": {},
   "source": [
    "## Translating"
   ]
  },
  {
   "cell_type": "code",
   "execution_count": 10,
   "id": "upset-context",
   "metadata": {},
   "outputs": [],
   "source": [
    "def intoEnglish(string):\n",
    "    spanish_string = TextBlob(string)\n",
    "    try:\n",
    "        english_blob=spanish_string.translate(from_lang='es',to='en')\n",
    "        return \"\".join(list(english_blob))\n",
    "    except:\n",
    "        return string"
   ]
  },
  {
   "cell_type": "code",
   "execution_count": 11,
   "id": "affecting-textbook",
   "metadata": {},
   "outputs": [],
   "source": [
    "df['Quote_tok'] = df[\"Quote_tok\"].apply(intoEnglish)"
   ]
  },
  {
   "cell_type": "code",
   "execution_count": 12,
   "id": "addressed-kinase",
   "metadata": {},
   "outputs": [
    {
     "data": {
      "text/html": [
       "<div>\n",
       "<style scoped>\n",
       "    .dataframe tbody tr th:only-of-type {\n",
       "        vertical-align: middle;\n",
       "    }\n",
       "\n",
       "    .dataframe tbody tr th {\n",
       "        vertical-align: top;\n",
       "    }\n",
       "\n",
       "    .dataframe thead th {\n",
       "        text-align: right;\n",
       "    }\n",
       "</style>\n",
       "<table border=\"1\" class=\"dataframe\">\n",
       "  <thead>\n",
       "    <tr style=\"text-align: right;\">\n",
       "      <th></th>\n",
       "      <th>Author</th>\n",
       "      <th>Category</th>\n",
       "      <th>Gender</th>\n",
       "      <th>Quote</th>\n",
       "      <th>Quote_tok</th>\n",
       "    </tr>\n",
       "  </thead>\n",
       "  <tbody>\n",
       "    <tr>\n",
       "      <th>0</th>\n",
       "      <td>Antonie van Leeuwenhoek</td>\n",
       "      <td>science</td>\n",
       "      <td>M</td>\n",
       "      <td>I believe that thirty million of these animalc...</td>\n",
       "      <td>I believe that thirty million of these animalc...</td>\n",
       "    </tr>\n",
       "    <tr>\n",
       "      <th>1</th>\n",
       "      <td>Richard Dawkins</td>\n",
       "      <td>science</td>\n",
       "      <td>M</td>\n",
       "      <td>Biology is the study of the complex things in ...</td>\n",
       "      <td>Biology is the study of the complex things in ...</td>\n",
       "    </tr>\n",
       "    <tr>\n",
       "      <th>2</th>\n",
       "      <td>J. B. S. Haldane</td>\n",
       "      <td>science</td>\n",
       "      <td>M</td>\n",
       "      <td>If physics and biology one day meet, and one o...</td>\n",
       "      <td>If physics and biology one day meet and one of...</td>\n",
       "    </tr>\n",
       "    <tr>\n",
       "      <th>3</th>\n",
       "      <td>Aristotle</td>\n",
       "      <td>science</td>\n",
       "      <td>M</td>\n",
       "      <td>By �life,� we mean a thing that can nourish it...</td>\n",
       "      <td>By life we mean a thing that can nourish itsel...</td>\n",
       "    </tr>\n",
       "    <tr>\n",
       "      <th>4</th>\n",
       "      <td>Har Gobind Khorana</td>\n",
       "      <td>science</td>\n",
       "      <td>M</td>\n",
       "      <td>Everything that human beings or living animals...</td>\n",
       "      <td>Everything that human beings or living animals...</td>\n",
       "    </tr>\n",
       "  </tbody>\n",
       "</table>\n",
       "</div>"
      ],
      "text/plain": [
       "                    Author Category Gender  \\\n",
       "0  Antonie van Leeuwenhoek  science      M   \n",
       "1          Richard Dawkins  science      M   \n",
       "2         J. B. S. Haldane  science      M   \n",
       "3                Aristotle  science      M   \n",
       "4       Har Gobind Khorana  science      M   \n",
       "\n",
       "                                               Quote  \\\n",
       "0  I believe that thirty million of these animalc...   \n",
       "1  Biology is the study of the complex things in ...   \n",
       "2  If physics and biology one day meet, and one o...   \n",
       "3  By �life,� we mean a thing that can nourish it...   \n",
       "4  Everything that human beings or living animals...   \n",
       "\n",
       "                                           Quote_tok  \n",
       "0  I believe that thirty million of these animalc...  \n",
       "1  Biology is the study of the complex things in ...  \n",
       "2  If physics and biology one day meet and one of...  \n",
       "3  By life we mean a thing that can nourish itsel...  \n",
       "4  Everything that human beings or living animals...  "
      ]
     },
     "execution_count": 12,
     "metadata": {},
     "output_type": "execute_result"
    }
   ],
   "source": [
    "df.head()"
   ]
  },
  {
   "cell_type": "markdown",
   "id": "professional-chamber",
   "metadata": {},
   "source": [
    "## Stop words"
   ]
  },
  {
   "cell_type": "code",
   "execution_count": 13,
   "id": "separated-karaoke",
   "metadata": {
    "scrolled": true
   },
   "outputs": [
    {
     "name": "stdout",
     "output_type": "stream",
     "text": [
      "[nltk_data] Downloading package stopwords to\n",
      "[nltk_data]     /home/anagarcia/nltk_data...\n",
      "[nltk_data]   Package stopwords is already up-to-date!\n"
     ]
    },
    {
     "data": {
      "text/plain": [
       "True"
      ]
     },
     "execution_count": 13,
     "metadata": {},
     "output_type": "execute_result"
    }
   ],
   "source": [
    "nltk.download('stopwords')"
   ]
  },
  {
   "cell_type": "code",
   "execution_count": 14,
   "id": "superior-calendar",
   "metadata": {},
   "outputs": [
    {
     "name": "stdout",
     "output_type": "stream",
     "text": [
      "[nltk_data] Downloading package vader_lexicon to\n",
      "[nltk_data]     /home/anagarcia/nltk_data...\n",
      "[nltk_data]   Package vader_lexicon is already up-to-date!\n"
     ]
    },
    {
     "data": {
      "text/plain": [
       "True"
      ]
     },
     "execution_count": 14,
     "metadata": {},
     "output_type": "execute_result"
    }
   ],
   "source": [
    "nltk.downloader.download('vader_lexicon')"
   ]
  },
  {
   "cell_type": "code",
   "execution_count": 15,
   "id": "brutal-shelf",
   "metadata": {},
   "outputs": [],
   "source": [
    "stop_words = set(stopwords.words('english'))"
   ]
  },
  {
   "cell_type": "code",
   "execution_count": 16,
   "id": "neither-hamilton",
   "metadata": {},
   "outputs": [],
   "source": [
    "df[\"Quote_tok\"] = df[\"Quote_tok\"].apply(lambda x: x.split(\" \"))"
   ]
  },
  {
   "cell_type": "code",
   "execution_count": 17,
   "id": "accomplished-minnesota",
   "metadata": {},
   "outputs": [],
   "source": [
    "def stop_words (lista):\n",
    "    stop_words = set(stopwords.words('english'))\n",
    "    nueva_lista = []\n",
    "    for string in lista:\n",
    "        if string not in stop_words:\n",
    "            nueva_lista.append(string)\n",
    "    return \" \".join(nueva_lista)"
   ]
  },
  {
   "cell_type": "code",
   "execution_count": 18,
   "id": "consistent-equity",
   "metadata": {},
   "outputs": [],
   "source": [
    "df[\"Quote_tok\"] = df[\"Quote_tok\"].apply(stop_words)"
   ]
  },
  {
   "cell_type": "code",
   "execution_count": 19,
   "id": "resident-shift",
   "metadata": {},
   "outputs": [
    {
     "data": {
      "text/html": [
       "<div>\n",
       "<style scoped>\n",
       "    .dataframe tbody tr th:only-of-type {\n",
       "        vertical-align: middle;\n",
       "    }\n",
       "\n",
       "    .dataframe tbody tr th {\n",
       "        vertical-align: top;\n",
       "    }\n",
       "\n",
       "    .dataframe thead th {\n",
       "        text-align: right;\n",
       "    }\n",
       "</style>\n",
       "<table border=\"1\" class=\"dataframe\">\n",
       "  <thead>\n",
       "    <tr style=\"text-align: right;\">\n",
       "      <th></th>\n",
       "      <th>Author</th>\n",
       "      <th>Category</th>\n",
       "      <th>Gender</th>\n",
       "      <th>Quote</th>\n",
       "      <th>Quote_tok</th>\n",
       "    </tr>\n",
       "  </thead>\n",
       "  <tbody>\n",
       "    <tr>\n",
       "      <th>0</th>\n",
       "      <td>Antonie van Leeuwenhoek</td>\n",
       "      <td>science</td>\n",
       "      <td>M</td>\n",
       "      <td>I believe that thirty million of these animalc...</td>\n",
       "      <td>I believe thirty million animalcules together ...</td>\n",
       "    </tr>\n",
       "    <tr>\n",
       "      <th>1</th>\n",
       "      <td>Richard Dawkins</td>\n",
       "      <td>science</td>\n",
       "      <td>M</td>\n",
       "      <td>Biology is the study of the complex things in ...</td>\n",
       "      <td>Biology study complex things Universe Physics ...</td>\n",
       "    </tr>\n",
       "    <tr>\n",
       "      <th>2</th>\n",
       "      <td>J. B. S. Haldane</td>\n",
       "      <td>science</td>\n",
       "      <td>M</td>\n",
       "      <td>If physics and biology one day meet, and one o...</td>\n",
       "      <td>If physics biology one day meet one two swallo...</td>\n",
       "    </tr>\n",
       "    <tr>\n",
       "      <th>3</th>\n",
       "      <td>Aristotle</td>\n",
       "      <td>science</td>\n",
       "      <td>M</td>\n",
       "      <td>By �life,� we mean a thing that can nourish it...</td>\n",
       "      <td>By life mean thing nourish grow decay</td>\n",
       "    </tr>\n",
       "    <tr>\n",
       "      <th>4</th>\n",
       "      <td>Har Gobind Khorana</td>\n",
       "      <td>science</td>\n",
       "      <td>M</td>\n",
       "      <td>Everything that human beings or living animals...</td>\n",
       "      <td>Everything human beings living animals done pr...</td>\n",
       "    </tr>\n",
       "  </tbody>\n",
       "</table>\n",
       "</div>"
      ],
      "text/plain": [
       "                    Author Category Gender  \\\n",
       "0  Antonie van Leeuwenhoek  science      M   \n",
       "1          Richard Dawkins  science      M   \n",
       "2         J. B. S. Haldane  science      M   \n",
       "3                Aristotle  science      M   \n",
       "4       Har Gobind Khorana  science      M   \n",
       "\n",
       "                                               Quote  \\\n",
       "0  I believe that thirty million of these animalc...   \n",
       "1  Biology is the study of the complex things in ...   \n",
       "2  If physics and biology one day meet, and one o...   \n",
       "3  By �life,� we mean a thing that can nourish it...   \n",
       "4  Everything that human beings or living animals...   \n",
       "\n",
       "                                           Quote_tok  \n",
       "0  I believe thirty million animalcules together ...  \n",
       "1  Biology study complex things Universe Physics ...  \n",
       "2  If physics biology one day meet one two swallo...  \n",
       "3              By life mean thing nourish grow decay  \n",
       "4  Everything human beings living animals done pr...  "
      ]
     },
     "execution_count": 19,
     "metadata": {},
     "output_type": "execute_result"
    }
   ],
   "source": [
    "df.head()"
   ]
  },
  {
   "cell_type": "markdown",
   "id": "silver-bruce",
   "metadata": {},
   "source": [
    "## Sentiment Analysis"
   ]
  },
  {
   "cell_type": "code",
   "execution_count": 20,
   "id": "artificial-extreme",
   "metadata": {},
   "outputs": [],
   "source": [
    "def sentimentAnalysis(sentence):\n",
    "    sia = SentimentIntensityAnalyzer()\n",
    "    polarity = sia.polarity_scores(sentence)\n",
    "    pol = polarity['compound']\n",
    "    return pol"
   ]
  },
  {
   "cell_type": "code",
   "execution_count": 21,
   "id": "intellectual-hypothetical",
   "metadata": {},
   "outputs": [
    {
     "data": {
      "text/html": [
       "<div>\n",
       "<style scoped>\n",
       "    .dataframe tbody tr th:only-of-type {\n",
       "        vertical-align: middle;\n",
       "    }\n",
       "\n",
       "    .dataframe tbody tr th {\n",
       "        vertical-align: top;\n",
       "    }\n",
       "\n",
       "    .dataframe thead th {\n",
       "        text-align: right;\n",
       "    }\n",
       "</style>\n",
       "<table border=\"1\" class=\"dataframe\">\n",
       "  <thead>\n",
       "    <tr style=\"text-align: right;\">\n",
       "      <th></th>\n",
       "      <th>Author</th>\n",
       "      <th>Category</th>\n",
       "      <th>Gender</th>\n",
       "      <th>Quote</th>\n",
       "      <th>Quote_tok</th>\n",
       "      <th>SA</th>\n",
       "    </tr>\n",
       "  </thead>\n",
       "  <tbody>\n",
       "    <tr>\n",
       "      <th>0</th>\n",
       "      <td>Antonie van Leeuwenhoek</td>\n",
       "      <td>science</td>\n",
       "      <td>M</td>\n",
       "      <td>I believe that thirty million of these animalc...</td>\n",
       "      <td>I believe thirty million animalcules together ...</td>\n",
       "      <td>0.0000</td>\n",
       "    </tr>\n",
       "    <tr>\n",
       "      <th>1</th>\n",
       "      <td>Richard Dawkins</td>\n",
       "      <td>science</td>\n",
       "      <td>M</td>\n",
       "      <td>Biology is the study of the complex things in ...</td>\n",
       "      <td>Biology study complex things Universe Physics ...</td>\n",
       "      <td>0.0000</td>\n",
       "    </tr>\n",
       "    <tr>\n",
       "      <th>2</th>\n",
       "      <td>J. B. S. Haldane</td>\n",
       "      <td>science</td>\n",
       "      <td>M</td>\n",
       "      <td>If physics and biology one day meet, and one o...</td>\n",
       "      <td>If physics biology one day meet one two swallo...</td>\n",
       "      <td>0.0000</td>\n",
       "    </tr>\n",
       "    <tr>\n",
       "      <th>3</th>\n",
       "      <td>Aristotle</td>\n",
       "      <td>science</td>\n",
       "      <td>M</td>\n",
       "      <td>By �life,� we mean a thing that can nourish it...</td>\n",
       "      <td>By life mean thing nourish grow decay</td>\n",
       "      <td>-0.4019</td>\n",
       "    </tr>\n",
       "    <tr>\n",
       "      <th>4</th>\n",
       "      <td>Har Gobind Khorana</td>\n",
       "      <td>science</td>\n",
       "      <td>M</td>\n",
       "      <td>Everything that human beings or living animals...</td>\n",
       "      <td>Everything human beings living animals done pr...</td>\n",
       "      <td>0.7964</td>\n",
       "    </tr>\n",
       "    <tr>\n",
       "      <th>...</th>\n",
       "      <td>...</td>\n",
       "      <td>...</td>\n",
       "      <td>...</td>\n",
       "      <td>...</td>\n",
       "      <td>...</td>\n",
       "      <td>...</td>\n",
       "    </tr>\n",
       "    <tr>\n",
       "      <th>195</th>\n",
       "      <td>Chimamanda Ngozi Adichie</td>\n",
       "      <td>literature</td>\n",
       "      <td>F</td>\n",
       "      <td>How easy it was to lie to strangers, to create...</td>\n",
       "      <td>How easy lie strangers create strangers versio...</td>\n",
       "      <td>0.6124</td>\n",
       "    </tr>\n",
       "    <tr>\n",
       "      <th>196</th>\n",
       "      <td>Madeleine L�Engle</td>\n",
       "      <td>literature</td>\n",
       "      <td>F</td>\n",
       "      <td>Life, with its rules, its obligations, and its...</td>\n",
       "      <td>Life rules obligations freedoms like sonnet Yo...</td>\n",
       "      <td>0.5719</td>\n",
       "    </tr>\n",
       "    <tr>\n",
       "      <th>197</th>\n",
       "      <td>Alice Walker</td>\n",
       "      <td>literature</td>\n",
       "      <td>F</td>\n",
       "      <td>Time moves slowly, but passes quickly</td>\n",
       "      <td>Time moves slowly passes quickly</td>\n",
       "      <td>0.0000</td>\n",
       "    </tr>\n",
       "    <tr>\n",
       "      <th>198</th>\n",
       "      <td>Amy Tan</td>\n",
       "      <td>literature</td>\n",
       "      <td>F</td>\n",
       "      <td>Then you must teach my daughter this same less...</td>\n",
       "      <td>Then must teach daughter lesson How lose innoc...</td>\n",
       "      <td>0.7506</td>\n",
       "    </tr>\n",
       "    <tr>\n",
       "      <th>199</th>\n",
       "      <td>Suzanne Collins</td>\n",
       "      <td>literature</td>\n",
       "      <td>F</td>\n",
       "      <td>And may the odds be ever in your favor.</td>\n",
       "      <td>And may odds ever favor</td>\n",
       "      <td>0.4019</td>\n",
       "    </tr>\n",
       "  </tbody>\n",
       "</table>\n",
       "<p>200 rows × 6 columns</p>\n",
       "</div>"
      ],
      "text/plain": [
       "                       Author    Category Gender  \\\n",
       "0     Antonie van Leeuwenhoek     science      M   \n",
       "1             Richard Dawkins     science      M   \n",
       "2            J. B. S. Haldane     science      M   \n",
       "3                   Aristotle     science      M   \n",
       "4          Har Gobind Khorana     science      M   \n",
       "..                        ...         ...    ...   \n",
       "195  Chimamanda Ngozi Adichie  literature      F   \n",
       "196         Madeleine L�Engle  literature      F   \n",
       "197              Alice Walker  literature      F   \n",
       "198                   Amy Tan  literature      F   \n",
       "199           Suzanne Collins  literature      F   \n",
       "\n",
       "                                                 Quote  \\\n",
       "0    I believe that thirty million of these animalc...   \n",
       "1    Biology is the study of the complex things in ...   \n",
       "2    If physics and biology one day meet, and one o...   \n",
       "3    By �life,� we mean a thing that can nourish it...   \n",
       "4    Everything that human beings or living animals...   \n",
       "..                                                 ...   \n",
       "195  How easy it was to lie to strangers, to create...   \n",
       "196  Life, with its rules, its obligations, and its...   \n",
       "197              Time moves slowly, but passes quickly   \n",
       "198  Then you must teach my daughter this same less...   \n",
       "199            And may the odds be ever in your favor.   \n",
       "\n",
       "                                             Quote_tok      SA  \n",
       "0    I believe thirty million animalcules together ...  0.0000  \n",
       "1    Biology study complex things Universe Physics ...  0.0000  \n",
       "2    If physics biology one day meet one two swallo...  0.0000  \n",
       "3                By life mean thing nourish grow decay -0.4019  \n",
       "4    Everything human beings living animals done pr...  0.7964  \n",
       "..                                                 ...     ...  \n",
       "195  How easy lie strangers create strangers versio...  0.6124  \n",
       "196  Life rules obligations freedoms like sonnet Yo...  0.5719  \n",
       "197                   Time moves slowly passes quickly  0.0000  \n",
       "198  Then must teach daughter lesson How lose innoc...  0.7506  \n",
       "199                            And may odds ever favor  0.4019  \n",
       "\n",
       "[200 rows x 6 columns]"
      ]
     },
     "execution_count": 21,
     "metadata": {},
     "output_type": "execute_result"
    }
   ],
   "source": [
    "df['SA'] = df[\"Quote_tok\"].apply(sentimentAnalysis)\n",
    "df"
   ]
  },
  {
   "cell_type": "code",
   "execution_count": 22,
   "id": "detected-hammer",
   "metadata": {},
   "outputs": [],
   "source": [
    "df_sentimental = df.groupby([\"Category\"]).mean()"
   ]
  },
  {
   "cell_type": "markdown",
   "id": "documented-douglas",
   "metadata": {},
   "source": [
    "Puedo seleccionar los que mas se repiten y hacer el sentiment analysis de esos"
   ]
  },
  {
   "cell_type": "code",
   "execution_count": 37,
   "id": "increasing-thompson",
   "metadata": {},
   "outputs": [
    {
     "ename": "TypeError",
     "evalue": "'>' not supported between instances of 'method' and 'int'",
     "output_type": "error",
     "traceback": [
      "\u001b[0;31m---------------------------------------------------------------------------\u001b[0m",
      "\u001b[0;31mTypeError\u001b[0m                                 Traceback (most recent call last)",
      "\u001b[0;32m<ipython-input-37-70447148365f>\u001b[0m in \u001b[0;36m<module>\u001b[0;34m\u001b[0m\n\u001b[0;32m----> 1\u001b[0;31m \u001b[0mdf\u001b[0m\u001b[0;34m[\u001b[0m\u001b[0mdf\u001b[0m\u001b[0;34m.\u001b[0m\u001b[0mAuthor\u001b[0m\u001b[0;34m.\u001b[0m\u001b[0mvalue_counts\u001b[0m \u001b[0;34m>\u001b[0m \u001b[0;36m2\u001b[0m\u001b[0;34m]\u001b[0m\u001b[0;34m\u001b[0m\u001b[0;34m\u001b[0m\u001b[0m\n\u001b[0m",
      "\u001b[0;31mTypeError\u001b[0m: '>' not supported between instances of 'method' and 'int'"
     ]
    }
   ],
   "source": [
    "df[df.Author.value_counts > 2]"
   ]
  },
  {
   "cell_type": "code",
   "execution_count": 23,
   "id": "silver-orchestra",
   "metadata": {},
   "outputs": [
    {
     "data": {
      "text/html": [
       "<div>\n",
       "<style scoped>\n",
       "    .dataframe tbody tr th:only-of-type {\n",
       "        vertical-align: middle;\n",
       "    }\n",
       "\n",
       "    .dataframe tbody tr th {\n",
       "        vertical-align: top;\n",
       "    }\n",
       "\n",
       "    .dataframe thead th {\n",
       "        text-align: right;\n",
       "    }\n",
       "</style>\n",
       "<table border=\"1\" class=\"dataframe\">\n",
       "  <thead>\n",
       "    <tr style=\"text-align: right;\">\n",
       "      <th></th>\n",
       "      <th>Category</th>\n",
       "      <th>SA</th>\n",
       "    </tr>\n",
       "  </thead>\n",
       "  <tbody>\n",
       "    <tr>\n",
       "      <th>0</th>\n",
       "      <td>literature</td>\n",
       "      <td>0.138402</td>\n",
       "    </tr>\n",
       "    <tr>\n",
       "      <th>1</th>\n",
       "      <td>philosophy</td>\n",
       "      <td>0.114833</td>\n",
       "    </tr>\n",
       "    <tr>\n",
       "      <th>2</th>\n",
       "      <td>science</td>\n",
       "      <td>0.186021</td>\n",
       "    </tr>\n",
       "  </tbody>\n",
       "</table>\n",
       "</div>"
      ],
      "text/plain": [
       "     Category        SA\n",
       "0  literature  0.138402\n",
       "1  philosophy  0.114833\n",
       "2     science  0.186021"
      ]
     },
     "execution_count": 23,
     "metadata": {},
     "output_type": "execute_result"
    }
   ],
   "source": [
    "df_sentimental.reset_index()"
   ]
  },
  {
   "cell_type": "code",
   "execution_count": 24,
   "id": "opponent-disability",
   "metadata": {},
   "outputs": [
    {
     "data": {
      "text/html": [
       "<div>\n",
       "<style scoped>\n",
       "    .dataframe tbody tr th:only-of-type {\n",
       "        vertical-align: middle;\n",
       "    }\n",
       "\n",
       "    .dataframe tbody tr th {\n",
       "        vertical-align: top;\n",
       "    }\n",
       "\n",
       "    .dataframe thead th {\n",
       "        text-align: right;\n",
       "    }\n",
       "</style>\n",
       "<table border=\"1\" class=\"dataframe\">\n",
       "  <thead>\n",
       "    <tr style=\"text-align: right;\">\n",
       "      <th></th>\n",
       "      <th>Category</th>\n",
       "      <th>Author</th>\n",
       "      <th>SA</th>\n",
       "    </tr>\n",
       "  </thead>\n",
       "  <tbody>\n",
       "    <tr>\n",
       "      <th>0</th>\n",
       "      <td>literature</td>\n",
       "      <td>Albert Camus</td>\n",
       "      <td>0.00000</td>\n",
       "    </tr>\n",
       "    <tr>\n",
       "      <th>1</th>\n",
       "      <td>literature</td>\n",
       "      <td>Aldous Huxley</td>\n",
       "      <td>-0.42150</td>\n",
       "    </tr>\n",
       "    <tr>\n",
       "      <th>2</th>\n",
       "      <td>literature</td>\n",
       "      <td>Alice Walker</td>\n",
       "      <td>0.00000</td>\n",
       "    </tr>\n",
       "    <tr>\n",
       "      <th>3</th>\n",
       "      <td>literature</td>\n",
       "      <td>Amy Tan</td>\n",
       "      <td>0.75060</td>\n",
       "    </tr>\n",
       "    <tr>\n",
       "      <th>4</th>\n",
       "      <td>literature</td>\n",
       "      <td>Angie Thomas</td>\n",
       "      <td>-0.34000</td>\n",
       "    </tr>\n",
       "    <tr>\n",
       "      <th>...</th>\n",
       "      <td>...</td>\n",
       "      <td>...</td>\n",
       "      <td>...</td>\n",
       "    </tr>\n",
       "    <tr>\n",
       "      <th>136</th>\n",
       "      <td>science</td>\n",
       "      <td>Shinya Yamanaka</td>\n",
       "      <td>0.00000</td>\n",
       "    </tr>\n",
       "    <tr>\n",
       "      <th>137</th>\n",
       "      <td>science</td>\n",
       "      <td>Stan Ulam</td>\n",
       "      <td>0.34000</td>\n",
       "    </tr>\n",
       "    <tr>\n",
       "      <th>138</th>\n",
       "      <td>science</td>\n",
       "      <td>Stephen Jay Gould</td>\n",
       "      <td>0.36345</td>\n",
       "    </tr>\n",
       "    <tr>\n",
       "      <th>139</th>\n",
       "      <td>science</td>\n",
       "      <td>Susumu Ohno</td>\n",
       "      <td>0.81760</td>\n",
       "    </tr>\n",
       "    <tr>\n",
       "      <th>140</th>\n",
       "      <td>science</td>\n",
       "      <td>Svante Arrhenius</td>\n",
       "      <td>-0.82710</td>\n",
       "    </tr>\n",
       "  </tbody>\n",
       "</table>\n",
       "<p>141 rows × 3 columns</p>\n",
       "</div>"
      ],
      "text/plain": [
       "       Category             Author       SA\n",
       "0    literature       Albert Camus  0.00000\n",
       "1    literature      Aldous Huxley -0.42150\n",
       "2    literature       Alice Walker  0.00000\n",
       "3    literature            Amy Tan  0.75060\n",
       "4    literature       Angie Thomas -0.34000\n",
       "..          ...                ...      ...\n",
       "136     science    Shinya Yamanaka  0.00000\n",
       "137     science          Stan Ulam  0.34000\n",
       "138     science  Stephen Jay Gould  0.36345\n",
       "139     science        Susumu Ohno  0.81760\n",
       "140     science   Svante Arrhenius -0.82710\n",
       "\n",
       "[141 rows x 3 columns]"
      ]
     },
     "execution_count": 24,
     "metadata": {},
     "output_type": "execute_result"
    }
   ],
   "source": [
    "df_group = df.groupby(['Category','Author'], as_index=False)['SA'].mean()\n",
    "df_group"
   ]
  },
  {
   "cell_type": "code",
   "execution_count": 25,
   "id": "enormous-beginning",
   "metadata": {},
   "outputs": [],
   "source": [
    "df_sentimental = df.groupby([\"Author\"]).mean()"
   ]
  },
  {
   "cell_type": "code",
   "execution_count": 26,
   "id": "welcome-commercial",
   "metadata": {},
   "outputs": [
    {
     "data": {
      "text/html": [
       "<div>\n",
       "<style scoped>\n",
       "    .dataframe tbody tr th:only-of-type {\n",
       "        vertical-align: middle;\n",
       "    }\n",
       "\n",
       "    .dataframe tbody tr th {\n",
       "        vertical-align: top;\n",
       "    }\n",
       "\n",
       "    .dataframe thead th {\n",
       "        text-align: right;\n",
       "    }\n",
       "</style>\n",
       "<table border=\"1\" class=\"dataframe\">\n",
       "  <thead>\n",
       "    <tr style=\"text-align: right;\">\n",
       "      <th></th>\n",
       "      <th>Author</th>\n",
       "      <th>SA</th>\n",
       "    </tr>\n",
       "  </thead>\n",
       "  <tbody>\n",
       "    <tr>\n",
       "      <th>0</th>\n",
       "      <td>Albert Camus</td>\n",
       "      <td>-0.680800</td>\n",
       "    </tr>\n",
       "    <tr>\n",
       "      <th>1</th>\n",
       "      <td>Anaxagoras</td>\n",
       "      <td>0.296000</td>\n",
       "    </tr>\n",
       "    <tr>\n",
       "      <th>2</th>\n",
       "      <td>Aristotle</td>\n",
       "      <td>0.646825</td>\n",
       "    </tr>\n",
       "    <tr>\n",
       "      <th>3</th>\n",
       "      <td>Baruch Spinoza</td>\n",
       "      <td>0.624900</td>\n",
       "    </tr>\n",
       "    <tr>\n",
       "      <th>4</th>\n",
       "      <td>Bertrand Russell</td>\n",
       "      <td>-0.083025</td>\n",
       "    </tr>\n",
       "    <tr>\n",
       "      <th>...</th>\n",
       "      <td>...</td>\n",
       "      <td>...</td>\n",
       "    </tr>\n",
       "    <tr>\n",
       "      <th>140</th>\n",
       "      <td>William Makepeace Thackeray</td>\n",
       "      <td>-0.025800</td>\n",
       "    </tr>\n",
       "    <tr>\n",
       "      <th>141</th>\n",
       "      <td>William Shakespeare</td>\n",
       "      <td>0.612400</td>\n",
       "    </tr>\n",
       "    <tr>\n",
       "      <th>142</th>\n",
       "      <td>Zora Neale Hurston</td>\n",
       "      <td>-0.675650</td>\n",
       "    </tr>\n",
       "    <tr>\n",
       "      <th>143</th>\n",
       "      <td>�Donna Tartt</td>\n",
       "      <td>0.750600</td>\n",
       "    </tr>\n",
       "    <tr>\n",
       "      <th>144</th>\n",
       "      <td>�milie Marquise du Ch�telet</td>\n",
       "      <td>0.612400</td>\n",
       "    </tr>\n",
       "  </tbody>\n",
       "</table>\n",
       "<p>145 rows × 2 columns</p>\n",
       "</div>"
      ],
      "text/plain": [
       "                          Author        SA\n",
       "0                   Albert Camus -0.680800\n",
       "1                     Anaxagoras  0.296000\n",
       "2                      Aristotle  0.646825\n",
       "3                 Baruch Spinoza  0.624900\n",
       "4               Bertrand Russell -0.083025\n",
       "..                           ...       ...\n",
       "140  William Makepeace Thackeray -0.025800\n",
       "141          William Shakespeare  0.612400\n",
       "142           Zora Neale Hurston -0.675650\n",
       "143                 �Donna Tartt  0.750600\n",
       "144  �milie Marquise du Ch�telet  0.612400\n",
       "\n",
       "[145 rows x 2 columns]"
      ]
     },
     "execution_count": 26,
     "metadata": {},
     "output_type": "execute_result"
    }
   ],
   "source": [
    "df_sentimental.reset_index()"
   ]
  },
  {
   "cell_type": "code",
   "execution_count": 27,
   "id": "resistant-conditions",
   "metadata": {},
   "outputs": [
    {
     "data": {
      "text/html": [
       "<div>\n",
       "<style scoped>\n",
       "    .dataframe tbody tr th:only-of-type {\n",
       "        vertical-align: middle;\n",
       "    }\n",
       "\n",
       "    .dataframe tbody tr th {\n",
       "        vertical-align: top;\n",
       "    }\n",
       "\n",
       "    .dataframe thead th {\n",
       "        text-align: right;\n",
       "    }\n",
       "</style>\n",
       "<table border=\"1\" class=\"dataframe\">\n",
       "  <thead>\n",
       "    <tr style=\"text-align: right;\">\n",
       "      <th></th>\n",
       "      <th>Category</th>\n",
       "      <th>Gender</th>\n",
       "      <th>SA</th>\n",
       "    </tr>\n",
       "  </thead>\n",
       "  <tbody>\n",
       "    <tr>\n",
       "      <th>0</th>\n",
       "      <td>literature</td>\n",
       "      <td>F</td>\n",
       "      <td>0.285043</td>\n",
       "    </tr>\n",
       "    <tr>\n",
       "      <th>1</th>\n",
       "      <td>literature</td>\n",
       "      <td>M</td>\n",
       "      <td>0.004513</td>\n",
       "    </tr>\n",
       "    <tr>\n",
       "      <th>2</th>\n",
       "      <td>philosophy</td>\n",
       "      <td>F</td>\n",
       "      <td>-0.057160</td>\n",
       "    </tr>\n",
       "    <tr>\n",
       "      <th>3</th>\n",
       "      <td>philosophy</td>\n",
       "      <td>M</td>\n",
       "      <td>0.139058</td>\n",
       "    </tr>\n",
       "    <tr>\n",
       "      <th>4</th>\n",
       "      <td>science</td>\n",
       "      <td>F</td>\n",
       "      <td>0.114700</td>\n",
       "    </tr>\n",
       "    <tr>\n",
       "      <th>5</th>\n",
       "      <td>science</td>\n",
       "      <td>M</td>\n",
       "      <td>0.192505</td>\n",
       "    </tr>\n",
       "  </tbody>\n",
       "</table>\n",
       "</div>"
      ],
      "text/plain": [
       "     Category Gender        SA\n",
       "0  literature      F  0.285043\n",
       "1  literature      M  0.004513\n",
       "2  philosophy      F -0.057160\n",
       "3  philosophy      M  0.139058\n",
       "4     science      F  0.114700\n",
       "5     science      M  0.192505"
      ]
     },
     "execution_count": 27,
     "metadata": {},
     "output_type": "execute_result"
    }
   ],
   "source": [
    "df2 = df.groupby(['Category','Gender'], as_index=False).mean()\n",
    "df2"
   ]
  },
  {
   "cell_type": "code",
   "execution_count": 28,
   "id": "composed-stake",
   "metadata": {},
   "outputs": [
    {
     "data": {
      "image/png": "[encoded data removed]",
      "text/plain": [
       "<Figure size 404.875x360 with 1 Axes>"
      ]
     },
     "metadata": {
      "needs_background": "light"
     },
     "output_type": "display_data"
    }
   ],
   "source": [
    "fig = sns.catplot(x=\"Category\", y=\"SA\", hue=\"Gender\", kind=\"bar\", palette = \"viridis\", data=df2)"
   ]
  },
  {
   "cell_type": "code",
   "execution_count": 29,
   "id": "sealed-question",
   "metadata": {},
   "outputs": [],
   "source": [
    "fig.savefig(\"Sentimental_Analysis.png\")"
   ]
  },
  {
   "cell_type": "code",
   "execution_count": null,
   "id": "perceived-sleeping",
   "metadata": {},
   "outputs": [],
   "source": []
  }
 ],
 "metadata": {
  "kernelspec": {
   "display_name": "Python 3",
   "language": "python",
   "name": "python3"
  },
  "language_info": {
   "codemirror_mode": {
    "name": "ipython",
    "version": 3
   },
   "file_extension": ".py",
   "mimetype": "text/x-python",
   "name": "python",
   "nbconvert_exporter": "python",
   "pygments_lexer": "ipython3",
   "version": "3.8.5"
  },
  "toc": {
   "base_numbering": 1,
   "nav_menu": {},
   "number_sections": true,
   "sideBar": true,
   "skip_h1_title": false,
   "title_cell": "Table of Contents",
   "title_sidebar": "Contents",
   "toc_cell": true,
   "toc_position": {},
   "toc_section_display": true,
   "toc_window_display": false
  },
  "varInspector": {
   "cols": {
    "lenName": 16,
    "lenType": 16,
    "lenVar": 40
   },
   "kernels_config": {
    "python": {
     "delete_cmd_postfix": "",
     "delete_cmd_prefix": "del ",
     "library": "var_list.py",
     "varRefreshCmd": "print(var_dic_list())"
    },
    "r": {
     "delete_cmd_postfix": ") ",
     "delete_cmd_prefix": "rm(",
     "library": "var_list.r",
     "varRefreshCmd": "cat(var_dic_list()) "
    }
   },
   "types_to_exclude": [
    "module",
    "function",
    "builtin_function_or_method",
    "instance",
    "_Feature"
   ],
   "window_display": false
  }
 },
 "nbformat": 4,
 "nbformat_minor": 5
}
