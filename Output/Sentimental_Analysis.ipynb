{
 "cells": [
  {
   "cell_type": "markdown",
   "id": "dried-argument",
   "metadata": {},
   "source": [
    "## Libraries"
   ]
  },
  {
   "cell_type": "code",
   "execution_count": 1,
   "id": "dutch-infrared",
   "metadata": {},
   "outputs": [
    {
     "name": "stderr",
     "output_type": "stream",
     "text": [
      "/home/anagarcia/anaconda3/envs/ironhack/lib/python3.8/site-packages/nltk/twitter/__init__.py:20: UserWarning: The twython library has not been installed. Some functionality from the twitter package will not be available.\n",
      "  warnings.warn(\"The twython library has not been installed. \"\n"
     ]
    }
   ],
   "source": [
    "import pandas as pd\n",
    "import requests\n",
    "#NLTK\n",
    "import nltk\n",
    "from nltk.sentiment.vader import SentimentIntensityAnalyzer\n",
    "from nltk.tokenize import RegexpTokenizer\n",
    "from nltk.corpus import stopwords\n",
    "\n",
    "#TextBlob\n",
    "from textblob import TextBlob\n",
    "\n",
    "#SpaCy\n",
    "import spacy\n",
    "from spacy import displacy\n",
    "\n",
    "from langdetect import detect\n",
    "import seaborn as sns"
   ]
  },
  {
   "cell_type": "markdown",
   "id": "single-premiere",
   "metadata": {},
   "source": [
    "## Get the information from the QUOTEAPI "
   ]
  },
  {
   "cell_type": "code",
   "execution_count": 2,
   "id": "smoking-surname",
   "metadata": {},
   "outputs": [],
   "source": [
    "url = (\"http://127.0.0.1:5000/Data\")"
   ]
  },
  {
   "cell_type": "code",
   "execution_count": 3,
   "id": "mexican-depression",
   "metadata": {},
   "outputs": [
    {
     "data": {
      "text/plain": [
       "200"
      ]
     },
     "execution_count": 3,
     "metadata": {},
     "output_type": "execute_result"
    }
   ],
   "source": [
    "all_aut =  requests.get(url)\n",
    "all_aut.status_code"
   ]
  },
  {
   "cell_type": "code",
   "execution_count": 4,
   "id": "architectural-monthly",
   "metadata": {},
   "outputs": [],
   "source": [
    "data = all_aut.json()"
   ]
  },
  {
   "cell_type": "code",
   "execution_count": 5,
   "id": "unsigned-wednesday",
   "metadata": {},
   "outputs": [
    {
     "data": {
      "text/html": [
       "<div>\n",
       "<style scoped>\n",
       "    .dataframe tbody tr th:only-of-type {\n",
       "        vertical-align: middle;\n",
       "    }\n",
       "\n",
       "    .dataframe tbody tr th {\n",
       "        vertical-align: top;\n",
       "    }\n",
       "\n",
       "    .dataframe thead th {\n",
       "        text-align: right;\n",
       "    }\n",
       "</style>\n",
       "<table border=\"1\" class=\"dataframe\">\n",
       "  <thead>\n",
       "    <tr style=\"text-align: right;\">\n",
       "      <th></th>\n",
       "      <th>Author</th>\n",
       "      <th>Category</th>\n",
       "      <th>Gender</th>\n",
       "      <th>Quote</th>\n",
       "    </tr>\n",
       "  </thead>\n",
       "  <tbody>\n",
       "    <tr>\n",
       "      <th>0</th>\n",
       "      <td>Antonie van Leeuwenhoek</td>\n",
       "      <td>science</td>\n",
       "      <td>M</td>\n",
       "      <td>I believe that thirty million of these animalc...</td>\n",
       "    </tr>\n",
       "    <tr>\n",
       "      <th>1</th>\n",
       "      <td>Richard Dawkins</td>\n",
       "      <td>science</td>\n",
       "      <td>M</td>\n",
       "      <td>Biology is the study of the complex things in ...</td>\n",
       "    </tr>\n",
       "    <tr>\n",
       "      <th>2</th>\n",
       "      <td>J. B. S. Haldane</td>\n",
       "      <td>science</td>\n",
       "      <td>M</td>\n",
       "      <td>If physics and biology one day meet, and one o...</td>\n",
       "    </tr>\n",
       "    <tr>\n",
       "      <th>3</th>\n",
       "      <td>Aristotle</td>\n",
       "      <td>science</td>\n",
       "      <td>M</td>\n",
       "      <td>By �life,� we mean a thing that can nourish it...</td>\n",
       "    </tr>\n",
       "    <tr>\n",
       "      <th>4</th>\n",
       "      <td>Har Gobind Khorana</td>\n",
       "      <td>science</td>\n",
       "      <td>M</td>\n",
       "      <td>Everything that human beings or living animals...</td>\n",
       "    </tr>\n",
       "  </tbody>\n",
       "</table>\n",
       "</div>"
      ],
      "text/plain": [
       "                    Author Category Gender  \\\n",
       "0  Antonie van Leeuwenhoek  science      M   \n",
       "1          Richard Dawkins  science      M   \n",
       "2         J. B. S. Haldane  science      M   \n",
       "3                Aristotle  science      M   \n",
       "4       Har Gobind Khorana  science      M   \n",
       "\n",
       "                                               Quote  \n",
       "0  I believe that thirty million of these animalc...  \n",
       "1  Biology is the study of the complex things in ...  \n",
       "2  If physics and biology one day meet, and one o...  \n",
       "3  By �life,� we mean a thing that can nourish it...  \n",
       "4  Everything that human beings or living animals...  "
      ]
     },
     "execution_count": 5,
     "metadata": {},
     "output_type": "execute_result"
    }
   ],
   "source": [
    "df = pd.DataFrame(data)\n",
    "df.head()"
   ]
  },
  {
   "cell_type": "markdown",
   "id": "respiratory-storm",
   "metadata": {},
   "source": [
    "## Tokenization "
   ]
  },
  {
   "cell_type": "code",
   "execution_count": 6,
   "id": "ahead-mumbai",
   "metadata": {},
   "outputs": [],
   "source": [
    "def tokenize (string):\n",
    "    tokenizer = RegexpTokenizer(r'\\w+')\n",
    "    tokens = tokenizer.tokenize(string)\n",
    "    return tokens"
   ]
  },
  {
   "cell_type": "code",
   "execution_count": 7,
   "id": "deluxe-damage",
   "metadata": {},
   "outputs": [],
   "source": [
    "df[\"Quote_tok\"] = df[\"Quote\"].apply(tokenize)"
   ]
  },
  {
   "cell_type": "code",
   "execution_count": 8,
   "id": "matched-curtis",
   "metadata": {},
   "outputs": [
    {
     "data": {
      "text/html": [
       "<div>\n",
       "<style scoped>\n",
       "    .dataframe tbody tr th:only-of-type {\n",
       "        vertical-align: middle;\n",
       "    }\n",
       "\n",
       "    .dataframe tbody tr th {\n",
       "        vertical-align: top;\n",
       "    }\n",
       "\n",
       "    .dataframe thead th {\n",
       "        text-align: right;\n",
       "    }\n",
       "</style>\n",
       "<table border=\"1\" class=\"dataframe\">\n",
       "  <thead>\n",
       "    <tr style=\"text-align: right;\">\n",
       "      <th></th>\n",
       "      <th>Author</th>\n",
       "      <th>Category</th>\n",
       "      <th>Gender</th>\n",
       "      <th>Quote</th>\n",
       "      <th>Quote_tok</th>\n",
       "    </tr>\n",
       "  </thead>\n",
       "  <tbody>\n",
       "    <tr>\n",
       "      <th>0</th>\n",
       "      <td>Antonie van Leeuwenhoek</td>\n",
       "      <td>science</td>\n",
       "      <td>M</td>\n",
       "      <td>I believe that thirty million of these animalc...</td>\n",
       "      <td>[I, believe, that, thirty, million, of, these,...</td>\n",
       "    </tr>\n",
       "    <tr>\n",
       "      <th>1</th>\n",
       "      <td>Richard Dawkins</td>\n",
       "      <td>science</td>\n",
       "      <td>M</td>\n",
       "      <td>Biology is the study of the complex things in ...</td>\n",
       "      <td>[Biology, is, the, study, of, the, complex, th...</td>\n",
       "    </tr>\n",
       "    <tr>\n",
       "      <th>2</th>\n",
       "      <td>J. B. S. Haldane</td>\n",
       "      <td>science</td>\n",
       "      <td>M</td>\n",
       "      <td>If physics and biology one day meet, and one o...</td>\n",
       "      <td>[If, physics, and, biology, one, day, meet, an...</td>\n",
       "    </tr>\n",
       "    <tr>\n",
       "      <th>3</th>\n",
       "      <td>Aristotle</td>\n",
       "      <td>science</td>\n",
       "      <td>M</td>\n",
       "      <td>By �life,� we mean a thing that can nourish it...</td>\n",
       "      <td>[By, life, we, mean, a, thing, that, can, nour...</td>\n",
       "    </tr>\n",
       "    <tr>\n",
       "      <th>4</th>\n",
       "      <td>Har Gobind Khorana</td>\n",
       "      <td>science</td>\n",
       "      <td>M</td>\n",
       "      <td>Everything that human beings or living animals...</td>\n",
       "      <td>[Everything, that, human, beings, or, living, ...</td>\n",
       "    </tr>\n",
       "  </tbody>\n",
       "</table>\n",
       "</div>"
      ],
      "text/plain": [
       "                    Author Category Gender  \\\n",
       "0  Antonie van Leeuwenhoek  science      M   \n",
       "1          Richard Dawkins  science      M   \n",
       "2         J. B. S. Haldane  science      M   \n",
       "3                Aristotle  science      M   \n",
       "4       Har Gobind Khorana  science      M   \n",
       "\n",
       "                                               Quote  \\\n",
       "0  I believe that thirty million of these animalc...   \n",
       "1  Biology is the study of the complex things in ...   \n",
       "2  If physics and biology one day meet, and one o...   \n",
       "3  By �life,� we mean a thing that can nourish it...   \n",
       "4  Everything that human beings or living animals...   \n",
       "\n",
       "                                           Quote_tok  \n",
       "0  [I, believe, that, thirty, million, of, these,...  \n",
       "1  [Biology, is, the, study, of, the, complex, th...  \n",
       "2  [If, physics, and, biology, one, day, meet, an...  \n",
       "3  [By, life, we, mean, a, thing, that, can, nour...  \n",
       "4  [Everything, that, human, beings, or, living, ...  "
      ]
     },
     "execution_count": 8,
     "metadata": {},
     "output_type": "execute_result"
    }
   ],
   "source": [
    "df.head()"
   ]
  },
  {
   "cell_type": "code",
   "execution_count": 9,
   "id": "realistic-interaction",
   "metadata": {},
   "outputs": [
    {
     "data": {
      "text/html": [
       "<div>\n",
       "<style scoped>\n",
       "    .dataframe tbody tr th:only-of-type {\n",
       "        vertical-align: middle;\n",
       "    }\n",
       "\n",
       "    .dataframe tbody tr th {\n",
       "        vertical-align: top;\n",
       "    }\n",
       "\n",
       "    .dataframe thead th {\n",
       "        text-align: right;\n",
       "    }\n",
       "</style>\n",
       "<table border=\"1\" class=\"dataframe\">\n",
       "  <thead>\n",
       "    <tr style=\"text-align: right;\">\n",
       "      <th></th>\n",
       "      <th>Author</th>\n",
       "      <th>Category</th>\n",
       "      <th>Gender</th>\n",
       "      <th>Quote</th>\n",
       "      <th>Quote_tok</th>\n",
       "    </tr>\n",
       "  </thead>\n",
       "  <tbody>\n",
       "    <tr>\n",
       "      <th>0</th>\n",
       "      <td>Antonie van Leeuwenhoek</td>\n",
       "      <td>science</td>\n",
       "      <td>M</td>\n",
       "      <td>I believe that thirty million of these animalc...</td>\n",
       "      <td>I believe that thirty million of these animalc...</td>\n",
       "    </tr>\n",
       "    <tr>\n",
       "      <th>1</th>\n",
       "      <td>Richard Dawkins</td>\n",
       "      <td>science</td>\n",
       "      <td>M</td>\n",
       "      <td>Biology is the study of the complex things in ...</td>\n",
       "      <td>Biology is the study of the complex things in ...</td>\n",
       "    </tr>\n",
       "    <tr>\n",
       "      <th>2</th>\n",
       "      <td>J. B. S. Haldane</td>\n",
       "      <td>science</td>\n",
       "      <td>M</td>\n",
       "      <td>If physics and biology one day meet, and one o...</td>\n",
       "      <td>If physics and biology one day meet and one of...</td>\n",
       "    </tr>\n",
       "    <tr>\n",
       "      <th>3</th>\n",
       "      <td>Aristotle</td>\n",
       "      <td>science</td>\n",
       "      <td>M</td>\n",
       "      <td>By �life,� we mean a thing that can nourish it...</td>\n",
       "      <td>By life we mean a thing that can nourish itsel...</td>\n",
       "    </tr>\n",
       "    <tr>\n",
       "      <th>4</th>\n",
       "      <td>Har Gobind Khorana</td>\n",
       "      <td>science</td>\n",
       "      <td>M</td>\n",
       "      <td>Everything that human beings or living animals...</td>\n",
       "      <td>Everything that human beings or living animals...</td>\n",
       "    </tr>\n",
       "  </tbody>\n",
       "</table>\n",
       "</div>"
      ],
      "text/plain": [
       "                    Author Category Gender  \\\n",
       "0  Antonie van Leeuwenhoek  science      M   \n",
       "1          Richard Dawkins  science      M   \n",
       "2         J. B. S. Haldane  science      M   \n",
       "3                Aristotle  science      M   \n",
       "4       Har Gobind Khorana  science      M   \n",
       "\n",
       "                                               Quote  \\\n",
       "0  I believe that thirty million of these animalc...   \n",
       "1  Biology is the study of the complex things in ...   \n",
       "2  If physics and biology one day meet, and one o...   \n",
       "3  By �life,� we mean a thing that can nourish it...   \n",
       "4  Everything that human beings or living animals...   \n",
       "\n",
       "                                           Quote_tok  \n",
       "0  I believe that thirty million of these animalc...  \n",
       "1  Biology is the study of the complex things in ...  \n",
       "2  If physics and biology one day meet and one of...  \n",
       "3  By life we mean a thing that can nourish itsel...  \n",
       "4  Everything that human beings or living animals...  "
      ]
     },
     "execution_count": 9,
     "metadata": {},
     "output_type": "execute_result"
    }
   ],
   "source": [
    "df['Quote_tok'] = df['Quote_tok'].apply(lambda x: \" \".join(x))\n",
    "df.head()"
   ]
  },
  {
   "cell_type": "markdown",
   "id": "honey-comparative",
   "metadata": {},
   "source": [
    "## Translating"
   ]
  },
  {
   "cell_type": "code",
   "execution_count": 10,
   "id": "upset-context",
   "metadata": {},
   "outputs": [],
   "source": [
    "def intoEnglish(string):\n",
    "    spanish_string = TextBlob(string)\n",
    "    try:\n",
    "        english_blob=spanish_string.translate(from_lang='es',to='en')\n",
    "        return \"\".join(list(english_blob))\n",
    "    except:\n",
    "        return string"
   ]
  },
  {
   "cell_type": "code",
   "execution_count": 11,
   "id": "affecting-textbook",
   "metadata": {},
   "outputs": [],
   "source": [
    "df['Quote_tok'] = df[\"Quote_tok\"].apply(intoEnglish)"
   ]
  },
  {
   "cell_type": "code",
   "execution_count": 12,
   "id": "addressed-kinase",
   "metadata": {},
   "outputs": [
    {
     "data": {
      "text/html": [
       "<div>\n",
       "<style scoped>\n",
       "    .dataframe tbody tr th:only-of-type {\n",
       "        vertical-align: middle;\n",
       "    }\n",
       "\n",
       "    .dataframe tbody tr th {\n",
       "        vertical-align: top;\n",
       "    }\n",
       "\n",
       "    .dataframe thead th {\n",
       "        text-align: right;\n",
       "    }\n",
       "</style>\n",
       "<table border=\"1\" class=\"dataframe\">\n",
       "  <thead>\n",
       "    <tr style=\"text-align: right;\">\n",
       "      <th></th>\n",
       "      <th>Author</th>\n",
       "      <th>Category</th>\n",
       "      <th>Gender</th>\n",
       "      <th>Quote</th>\n",
       "      <th>Quote_tok</th>\n",
       "    </tr>\n",
       "  </thead>\n",
       "  <tbody>\n",
       "    <tr>\n",
       "      <th>0</th>\n",
       "      <td>Antonie van Leeuwenhoek</td>\n",
       "      <td>science</td>\n",
       "      <td>M</td>\n",
       "      <td>I believe that thirty million of these animalc...</td>\n",
       "      <td>I believe that thirty million of these animalc...</td>\n",
       "    </tr>\n",
       "    <tr>\n",
       "      <th>1</th>\n",
       "      <td>Richard Dawkins</td>\n",
       "      <td>science</td>\n",
       "      <td>M</td>\n",
       "      <td>Biology is the study of the complex things in ...</td>\n",
       "      <td>Biology is the study of the complex things in ...</td>\n",
       "    </tr>\n",
       "    <tr>\n",
       "      <th>2</th>\n",
       "      <td>J. B. S. Haldane</td>\n",
       "      <td>science</td>\n",
       "      <td>M</td>\n",
       "      <td>If physics and biology one day meet, and one o...</td>\n",
       "      <td>If physics and biology one day meet and one of...</td>\n",
       "    </tr>\n",
       "    <tr>\n",
       "      <th>3</th>\n",
       "      <td>Aristotle</td>\n",
       "      <td>science</td>\n",
       "      <td>M</td>\n",
       "      <td>By �life,� we mean a thing that can nourish it...</td>\n",
       "      <td>By life we ​​mean a thing that can nourish its...</td>\n",
       "    </tr>\n",
       "    <tr>\n",
       "      <th>4</th>\n",
       "      <td>Har Gobind Khorana</td>\n",
       "      <td>science</td>\n",
       "      <td>M</td>\n",
       "      <td>Everything that human beings or living animals...</td>\n",
       "      <td>Everything that human beings or living animals...</td>\n",
       "    </tr>\n",
       "  </tbody>\n",
       "</table>\n",
       "</div>"
      ],
      "text/plain": [
       "                    Author Category Gender  \\\n",
       "0  Antonie van Leeuwenhoek  science      M   \n",
       "1          Richard Dawkins  science      M   \n",
       "2         J. B. S. Haldane  science      M   \n",
       "3                Aristotle  science      M   \n",
       "4       Har Gobind Khorana  science      M   \n",
       "\n",
       "                                               Quote  \\\n",
       "0  I believe that thirty million of these animalc...   \n",
       "1  Biology is the study of the complex things in ...   \n",
       "2  If physics and biology one day meet, and one o...   \n",
       "3  By �life,� we mean a thing that can nourish it...   \n",
       "4  Everything that human beings or living animals...   \n",
       "\n",
       "                                           Quote_tok  \n",
       "0  I believe that thirty million of these animalc...  \n",
       "1  Biology is the study of the complex things in ...  \n",
       "2  If physics and biology one day meet and one of...  \n",
       "3  By life we ​​mean a thing that can nourish its...  \n",
       "4  Everything that human beings or living animals...  "
      ]
     },
     "execution_count": 12,
     "metadata": {},
     "output_type": "execute_result"
    }
   ],
   "source": [
    "df.head()"
   ]
  },
  {
   "cell_type": "markdown",
   "id": "professional-chamber",
   "metadata": {},
   "source": [
    "## Stop words"
   ]
  },
  {
   "cell_type": "code",
   "execution_count": 13,
   "id": "separated-karaoke",
   "metadata": {
    "scrolled": true
   },
   "outputs": [
    {
     "name": "stdout",
     "output_type": "stream",
     "text": [
      "[nltk_data] Downloading package stopwords to\n",
      "[nltk_data]     /home/anagarcia/nltk_data...\n",
      "[nltk_data]   Package stopwords is already up-to-date!\n"
     ]
    },
    {
     "data": {
      "text/plain": [
       "True"
      ]
     },
     "execution_count": 13,
     "metadata": {},
     "output_type": "execute_result"
    }
   ],
   "source": [
    "nltk.download('stopwords')"
   ]
  },
  {
   "cell_type": "code",
   "execution_count": 14,
   "id": "superior-calendar",
   "metadata": {},
   "outputs": [
    {
     "name": "stdout",
     "output_type": "stream",
     "text": [
      "[nltk_data] Downloading package vader_lexicon to\n",
      "[nltk_data]     /home/anagarcia/nltk_data...\n",
      "[nltk_data]   Package vader_lexicon is already up-to-date!\n"
     ]
    },
    {
     "data": {
      "text/plain": [
       "True"
      ]
     },
     "execution_count": 14,
     "metadata": {},
     "output_type": "execute_result"
    }
   ],
   "source": [
    "nltk.downloader.download('vader_lexicon')"
   ]
  },
  {
   "cell_type": "code",
   "execution_count": 15,
   "id": "brutal-shelf",
   "metadata": {},
   "outputs": [],
   "source": [
    "stop_words = set(stopwords.words('english'))"
   ]
  },
  {
   "cell_type": "code",
   "execution_count": 16,
   "id": "neither-hamilton",
   "metadata": {},
   "outputs": [],
   "source": [
    "df[\"Quote_tok\"] = df[\"Quote_tok\"].apply(lambda x: x.split(\" \"))"
   ]
  },
  {
   "cell_type": "code",
   "execution_count": 17,
   "id": "accomplished-minnesota",
   "metadata": {},
   "outputs": [],
   "source": [
    "def stop_words (lista):\n",
    "    stop_words = set(stopwords.words('english'))\n",
    "    nueva_lista = []\n",
    "    for string in lista:\n",
    "        if string not in stop_words:\n",
    "            nueva_lista.append(string)\n",
    "    return \" \".join(nueva_lista)"
   ]
  },
  {
   "cell_type": "code",
   "execution_count": 18,
   "id": "consistent-equity",
   "metadata": {},
   "outputs": [],
   "source": [
    "df[\"Quote_tok\"] = df[\"Quote_tok\"].apply(stop_words)"
   ]
  },
  {
   "cell_type": "code",
   "execution_count": 19,
   "id": "resident-shift",
   "metadata": {},
   "outputs": [
    {
     "data": {
      "text/html": [
       "<div>\n",
       "<style scoped>\n",
       "    .dataframe tbody tr th:only-of-type {\n",
       "        vertical-align: middle;\n",
       "    }\n",
       "\n",
       "    .dataframe tbody tr th {\n",
       "        vertical-align: top;\n",
       "    }\n",
       "\n",
       "    .dataframe thead th {\n",
       "        text-align: right;\n",
       "    }\n",
       "</style>\n",
       "<table border=\"1\" class=\"dataframe\">\n",
       "  <thead>\n",
       "    <tr style=\"text-align: right;\">\n",
       "      <th></th>\n",
       "      <th>Author</th>\n",
       "      <th>Category</th>\n",
       "      <th>Gender</th>\n",
       "      <th>Quote</th>\n",
       "      <th>Quote_tok</th>\n",
       "    </tr>\n",
       "  </thead>\n",
       "  <tbody>\n",
       "    <tr>\n",
       "      <th>0</th>\n",
       "      <td>Antonie van Leeuwenhoek</td>\n",
       "      <td>science</td>\n",
       "      <td>M</td>\n",
       "      <td>I believe that thirty million of these animalc...</td>\n",
       "      <td>I believe thirty million animalcules together ...</td>\n",
       "    </tr>\n",
       "    <tr>\n",
       "      <th>1</th>\n",
       "      <td>Richard Dawkins</td>\n",
       "      <td>science</td>\n",
       "      <td>M</td>\n",
       "      <td>Biology is the study of the complex things in ...</td>\n",
       "      <td>Biology study complex things Universe Physics ...</td>\n",
       "    </tr>\n",
       "    <tr>\n",
       "      <th>2</th>\n",
       "      <td>J. B. S. Haldane</td>\n",
       "      <td>science</td>\n",
       "      <td>M</td>\n",
       "      <td>If physics and biology one day meet, and one o...</td>\n",
       "      <td>If physics biology one day meet one two swallo...</td>\n",
       "    </tr>\n",
       "    <tr>\n",
       "      <th>3</th>\n",
       "      <td>Aristotle</td>\n",
       "      <td>science</td>\n",
       "      <td>M</td>\n",
       "      <td>By �life,� we mean a thing that can nourish it...</td>\n",
       "      <td>By life ​​mean thing nourish grow decay</td>\n",
       "    </tr>\n",
       "    <tr>\n",
       "      <th>4</th>\n",
       "      <td>Har Gobind Khorana</td>\n",
       "      <td>science</td>\n",
       "      <td>M</td>\n",
       "      <td>Everything that human beings or living animals...</td>\n",
       "      <td>Everything human beings living animals done pr...</td>\n",
       "    </tr>\n",
       "  </tbody>\n",
       "</table>\n",
       "</div>"
      ],
      "text/plain": [
       "                    Author Category Gender  \\\n",
       "0  Antonie van Leeuwenhoek  science      M   \n",
       "1          Richard Dawkins  science      M   \n",
       "2         J. B. S. Haldane  science      M   \n",
       "3                Aristotle  science      M   \n",
       "4       Har Gobind Khorana  science      M   \n",
       "\n",
       "                                               Quote  \\\n",
       "0  I believe that thirty million of these animalc...   \n",
       "1  Biology is the study of the complex things in ...   \n",
       "2  If physics and biology one day meet, and one o...   \n",
       "3  By �life,� we mean a thing that can nourish it...   \n",
       "4  Everything that human beings or living animals...   \n",
       "\n",
       "                                           Quote_tok  \n",
       "0  I believe thirty million animalcules together ...  \n",
       "1  Biology study complex things Universe Physics ...  \n",
       "2  If physics biology one day meet one two swallo...  \n",
       "3            By life ​​mean thing nourish grow decay  \n",
       "4  Everything human beings living animals done pr...  "
      ]
     },
     "execution_count": 19,
     "metadata": {},
     "output_type": "execute_result"
    }
   ],
   "source": [
    "df.head()"
   ]
  },
  {
   "cell_type": "markdown",
   "id": "silver-bruce",
   "metadata": {},
   "source": [
    "## Sentiment Analysis"
   ]
  },
  {
   "cell_type": "code",
   "execution_count": 20,
   "id": "artificial-extreme",
   "metadata": {},
   "outputs": [],
   "source": [
    "def sentimentAnalysis(sentence):\n",
    "    sia = SentimentIntensityAnalyzer()\n",
    "    polarity = sia.polarity_scores(sentence)\n",
    "    pol = polarity['compound']\n",
    "    return pol"
   ]
  },
  {
   "cell_type": "code",
   "execution_count": 21,
   "id": "intellectual-hypothetical",
   "metadata": {},
   "outputs": [
    {
     "data": {
      "text/html": [
       "<div>\n",
       "<style scoped>\n",
       "    .dataframe tbody tr th:only-of-type {\n",
       "        vertical-align: middle;\n",
       "    }\n",
       "\n",
       "    .dataframe tbody tr th {\n",
       "        vertical-align: top;\n",
       "    }\n",
       "\n",
       "    .dataframe thead th {\n",
       "        text-align: right;\n",
       "    }\n",
       "</style>\n",
       "<table border=\"1\" class=\"dataframe\">\n",
       "  <thead>\n",
       "    <tr style=\"text-align: right;\">\n",
       "      <th></th>\n",
       "      <th>Author</th>\n",
       "      <th>Category</th>\n",
       "      <th>Gender</th>\n",
       "      <th>Quote</th>\n",
       "      <th>Quote_tok</th>\n",
       "      <th>SA</th>\n",
       "    </tr>\n",
       "  </thead>\n",
       "  <tbody>\n",
       "    <tr>\n",
       "      <th>0</th>\n",
       "      <td>Antonie van Leeuwenhoek</td>\n",
       "      <td>science</td>\n",
       "      <td>M</td>\n",
       "      <td>I believe that thirty million of these animalc...</td>\n",
       "      <td>I believe thirty million animalcules together ...</td>\n",
       "      <td>0.0000</td>\n",
       "    </tr>\n",
       "    <tr>\n",
       "      <th>1</th>\n",
       "      <td>Richard Dawkins</td>\n",
       "      <td>science</td>\n",
       "      <td>M</td>\n",
       "      <td>Biology is the study of the complex things in ...</td>\n",
       "      <td>Biology study complex things Universe Physics ...</td>\n",
       "      <td>0.0000</td>\n",
       "    </tr>\n",
       "    <tr>\n",
       "      <th>2</th>\n",
       "      <td>J. B. S. Haldane</td>\n",
       "      <td>science</td>\n",
       "      <td>M</td>\n",
       "      <td>If physics and biology one day meet, and one o...</td>\n",
       "      <td>If physics biology one day meet one two swallo...</td>\n",
       "      <td>0.0000</td>\n",
       "    </tr>\n",
       "    <tr>\n",
       "      <th>3</th>\n",
       "      <td>Aristotle</td>\n",
       "      <td>science</td>\n",
       "      <td>M</td>\n",
       "      <td>By �life,� we mean a thing that can nourish it...</td>\n",
       "      <td>By life ​​mean thing nourish grow decay</td>\n",
       "      <td>-0.4019</td>\n",
       "    </tr>\n",
       "    <tr>\n",
       "      <th>4</th>\n",
       "      <td>Har Gobind Khorana</td>\n",
       "      <td>science</td>\n",
       "      <td>M</td>\n",
       "      <td>Everything that human beings or living animals...</td>\n",
       "      <td>Everything human beings living animals done pr...</td>\n",
       "      <td>0.7964</td>\n",
       "    </tr>\n",
       "    <tr>\n",
       "      <th>...</th>\n",
       "      <td>...</td>\n",
       "      <td>...</td>\n",
       "      <td>...</td>\n",
       "      <td>...</td>\n",
       "      <td>...</td>\n",
       "      <td>...</td>\n",
       "    </tr>\n",
       "    <tr>\n",
       "      <th>179</th>\n",
       "      <td>Mary Wollstonecraft</td>\n",
       "      <td>philosophy</td>\n",
       "      <td>F</td>\n",
       "      <td>No deseo que las mujeres tengan poder sobre lo...</td>\n",
       "      <td>I want women power men</td>\n",
       "      <td>0.0772</td>\n",
       "    </tr>\n",
       "    <tr>\n",
       "      <th>180</th>\n",
       "      <td>Lou Andreas-Salom�</td>\n",
       "      <td>philosophy</td>\n",
       "      <td>F</td>\n",
       "      <td>No puedo vivir conforme a ejemplos ni voy a re...</td>\n",
       "      <td>I cannot live examples I ever represent exampl...</td>\n",
       "      <td>0.0000</td>\n",
       "    </tr>\n",
       "    <tr>\n",
       "      <th>181</th>\n",
       "      <td>Hannah Arendt</td>\n",
       "      <td>philosophy</td>\n",
       "      <td>F</td>\n",
       "      <td>No hay pensamientos peligrosos; el pensamiento...</td>\n",
       "      <td>There dangerous thoughts thought dangerous</td>\n",
       "      <td>-0.7351</td>\n",
       "    </tr>\n",
       "    <tr>\n",
       "      <th>182</th>\n",
       "      <td>Simone de Beauvoir</td>\n",
       "      <td>philosophy</td>\n",
       "      <td>F</td>\n",
       "      <td>No se nace mujer, se llega a serlo</td>\n",
       "      <td>You born woman, become one</td>\n",
       "      <td>0.0000</td>\n",
       "    </tr>\n",
       "    <tr>\n",
       "      <th>183</th>\n",
       "      <td>Simone Weil</td>\n",
       "      <td>philosophy</td>\n",
       "      <td>F</td>\n",
       "      <td>Hay que realizar lo posible para alcanzar lo i...</td>\n",
       "      <td>You achieve impossible</td>\n",
       "      <td>0.0000</td>\n",
       "    </tr>\n",
       "  </tbody>\n",
       "</table>\n",
       "<p>184 rows × 6 columns</p>\n",
       "</div>"
      ],
      "text/plain": [
       "                      Author    Category Gender  \\\n",
       "0    Antonie van Leeuwenhoek     science      M   \n",
       "1            Richard Dawkins     science      M   \n",
       "2           J. B. S. Haldane     science      M   \n",
       "3                  Aristotle     science      M   \n",
       "4         Har Gobind Khorana     science      M   \n",
       "..                       ...         ...    ...   \n",
       "179      Mary Wollstonecraft  philosophy      F   \n",
       "180       Lou Andreas-Salom�  philosophy      F   \n",
       "181            Hannah Arendt  philosophy      F   \n",
       "182       Simone de Beauvoir  philosophy      F   \n",
       "183              Simone Weil  philosophy      F   \n",
       "\n",
       "                                                 Quote  \\\n",
       "0    I believe that thirty million of these animalc...   \n",
       "1    Biology is the study of the complex things in ...   \n",
       "2    If physics and biology one day meet, and one o...   \n",
       "3    By �life,� we mean a thing that can nourish it...   \n",
       "4    Everything that human beings or living animals...   \n",
       "..                                                 ...   \n",
       "179  No deseo que las mujeres tengan poder sobre lo...   \n",
       "180  No puedo vivir conforme a ejemplos ni voy a re...   \n",
       "181  No hay pensamientos peligrosos; el pensamiento...   \n",
       "182                 No se nace mujer, se llega a serlo   \n",
       "183  Hay que realizar lo posible para alcanzar lo i...   \n",
       "\n",
       "                                             Quote_tok      SA  \n",
       "0    I believe thirty million animalcules together ...  0.0000  \n",
       "1    Biology study complex things Universe Physics ...  0.0000  \n",
       "2    If physics biology one day meet one two swallo...  0.0000  \n",
       "3              By life ​​mean thing nourish grow decay -0.4019  \n",
       "4    Everything human beings living animals done pr...  0.7964  \n",
       "..                                                 ...     ...  \n",
       "179                             I want women power men  0.0772  \n",
       "180  I cannot live examples I ever represent exampl...  0.0000  \n",
       "181         There dangerous thoughts thought dangerous -0.7351  \n",
       "182                         You born woman, become one  0.0000  \n",
       "183                             You achieve impossible  0.0000  \n",
       "\n",
       "[184 rows x 6 columns]"
      ]
     },
     "execution_count": 21,
     "metadata": {},
     "output_type": "execute_result"
    }
   ],
   "source": [
    "df['SA'] = df[\"Quote_tok\"].apply(sentimentAnalysis)\n",
    "df"
   ]
  },
  {
   "cell_type": "code",
   "execution_count": 22,
   "id": "detected-hammer",
   "metadata": {},
   "outputs": [],
   "source": [
    "df_sentimental = df.groupby([\"Category\"]).mean()"
   ]
  },
  {
   "cell_type": "code",
   "execution_count": 23,
   "id": "silver-orchestra",
   "metadata": {},
   "outputs": [
    {
     "data": {
      "text/html": [
       "<div>\n",
       "<style scoped>\n",
       "    .dataframe tbody tr th:only-of-type {\n",
       "        vertical-align: middle;\n",
       "    }\n",
       "\n",
       "    .dataframe tbody tr th {\n",
       "        vertical-align: top;\n",
       "    }\n",
       "\n",
       "    .dataframe thead th {\n",
       "        text-align: right;\n",
       "    }\n",
       "</style>\n",
       "<table border=\"1\" class=\"dataframe\">\n",
       "  <thead>\n",
       "    <tr style=\"text-align: right;\">\n",
       "      <th></th>\n",
       "      <th>Category</th>\n",
       "      <th>SA</th>\n",
       "    </tr>\n",
       "  </thead>\n",
       "  <tbody>\n",
       "    <tr>\n",
       "      <th>0</th>\n",
       "      <td>literature</td>\n",
       "      <td>0.055934</td>\n",
       "    </tr>\n",
       "    <tr>\n",
       "      <th>1</th>\n",
       "      <td>philosophy</td>\n",
       "      <td>0.142016</td>\n",
       "    </tr>\n",
       "    <tr>\n",
       "      <th>2</th>\n",
       "      <td>science</td>\n",
       "      <td>0.186021</td>\n",
       "    </tr>\n",
       "  </tbody>\n",
       "</table>\n",
       "</div>"
      ],
      "text/plain": [
       "     Category        SA\n",
       "0  literature  0.055934\n",
       "1  philosophy  0.142016\n",
       "2     science  0.186021"
      ]
     },
     "execution_count": 23,
     "metadata": {},
     "output_type": "execute_result"
    }
   ],
   "source": [
    "df_sentimental.reset_index()"
   ]
  },
  {
   "cell_type": "code",
   "execution_count": 24,
   "id": "opponent-disability",
   "metadata": {},
   "outputs": [
    {
     "data": {
      "text/html": [
       "<div>\n",
       "<style scoped>\n",
       "    .dataframe tbody tr th:only-of-type {\n",
       "        vertical-align: middle;\n",
       "    }\n",
       "\n",
       "    .dataframe tbody tr th {\n",
       "        vertical-align: top;\n",
       "    }\n",
       "\n",
       "    .dataframe thead th {\n",
       "        text-align: right;\n",
       "    }\n",
       "</style>\n",
       "<table border=\"1\" class=\"dataframe\">\n",
       "  <thead>\n",
       "    <tr style=\"text-align: right;\">\n",
       "      <th></th>\n",
       "      <th>Category</th>\n",
       "      <th>Author</th>\n",
       "      <th>SA</th>\n",
       "    </tr>\n",
       "  </thead>\n",
       "  <tbody>\n",
       "    <tr>\n",
       "      <th>0</th>\n",
       "      <td>literature</td>\n",
       "      <td>Albert Camus</td>\n",
       "      <td>0.00000</td>\n",
       "    </tr>\n",
       "    <tr>\n",
       "      <th>1</th>\n",
       "      <td>literature</td>\n",
       "      <td>Aldous Huxley</td>\n",
       "      <td>-0.42150</td>\n",
       "    </tr>\n",
       "    <tr>\n",
       "      <th>2</th>\n",
       "      <td>literature</td>\n",
       "      <td>Charles Dickens</td>\n",
       "      <td>0.84020</td>\n",
       "    </tr>\n",
       "    <tr>\n",
       "      <th>3</th>\n",
       "      <td>literature</td>\n",
       "      <td>Charlotte Bront�</td>\n",
       "      <td>0.88340</td>\n",
       "    </tr>\n",
       "    <tr>\n",
       "      <th>4</th>\n",
       "      <td>literature</td>\n",
       "      <td>D. H. Lawrence</td>\n",
       "      <td>0.35920</td>\n",
       "    </tr>\n",
       "    <tr>\n",
       "      <th>...</th>\n",
       "      <td>...</td>\n",
       "      <td>...</td>\n",
       "      <td>...</td>\n",
       "    </tr>\n",
       "    <tr>\n",
       "      <th>117</th>\n",
       "      <td>science</td>\n",
       "      <td>Shinya Yamanaka</td>\n",
       "      <td>0.00000</td>\n",
       "    </tr>\n",
       "    <tr>\n",
       "      <th>118</th>\n",
       "      <td>science</td>\n",
       "      <td>Stan Ulam</td>\n",
       "      <td>0.34000</td>\n",
       "    </tr>\n",
       "    <tr>\n",
       "      <th>119</th>\n",
       "      <td>science</td>\n",
       "      <td>Stephen Jay Gould</td>\n",
       "      <td>0.36345</td>\n",
       "    </tr>\n",
       "    <tr>\n",
       "      <th>120</th>\n",
       "      <td>science</td>\n",
       "      <td>Susumu Ohno</td>\n",
       "      <td>0.81760</td>\n",
       "    </tr>\n",
       "    <tr>\n",
       "      <th>121</th>\n",
       "      <td>science</td>\n",
       "      <td>Svante Arrhenius</td>\n",
       "      <td>-0.82710</td>\n",
       "    </tr>\n",
       "  </tbody>\n",
       "</table>\n",
       "<p>122 rows × 3 columns</p>\n",
       "</div>"
      ],
      "text/plain": [
       "       Category             Author       SA\n",
       "0    literature       Albert Camus  0.00000\n",
       "1    literature      Aldous Huxley -0.42150\n",
       "2    literature    Charles Dickens  0.84020\n",
       "3    literature   Charlotte Bront�  0.88340\n",
       "4    literature     D. H. Lawrence  0.35920\n",
       "..          ...                ...      ...\n",
       "117     science    Shinya Yamanaka  0.00000\n",
       "118     science          Stan Ulam  0.34000\n",
       "119     science  Stephen Jay Gould  0.36345\n",
       "120     science        Susumu Ohno  0.81760\n",
       "121     science   Svante Arrhenius -0.82710\n",
       "\n",
       "[122 rows x 3 columns]"
      ]
     },
     "execution_count": 24,
     "metadata": {},
     "output_type": "execute_result"
    }
   ],
   "source": [
    "df_group = df.groupby(['Category','Author'], as_index=False)['SA'].mean()\n",
    "df_group"
   ]
  },
  {
   "cell_type": "code",
   "execution_count": 25,
   "id": "amino-charles",
   "metadata": {},
   "outputs": [
    {
     "data": {
      "text/plain": [
       "<seaborn.axisgrid.FacetGrid at 0x7f4808ef07c0>"
      ]
     },
     "execution_count": 25,
     "metadata": {},
     "output_type": "execute_result"
    },
    {
     "data": {
      "image/png": "[encoded data removed]",
      "text/plain": [
       "<Figure size 450.125x360 with 1 Axes>"
      ]
     },
     "metadata": {
      "needs_background": "light"
     },
     "output_type": "display_data"
    }
   ],
   "source": [
    "sns.catplot(x=\"Author\", y=\"SA\", hue=\"Category\", kind=\"bar\", data=df_group)"
   ]
  },
  {
   "cell_type": "code",
   "execution_count": 26,
   "id": "enormous-beginning",
   "metadata": {},
   "outputs": [],
   "source": [
    "df_sentimental = df.groupby([\"Author\"]).mean()"
   ]
  },
  {
   "cell_type": "code",
   "execution_count": 27,
   "id": "welcome-commercial",
   "metadata": {},
   "outputs": [
    {
     "data": {
      "text/html": [
       "<div>\n",
       "<style scoped>\n",
       "    .dataframe tbody tr th:only-of-type {\n",
       "        vertical-align: middle;\n",
       "    }\n",
       "\n",
       "    .dataframe tbody tr th {\n",
       "        vertical-align: top;\n",
       "    }\n",
       "\n",
       "    .dataframe thead th {\n",
       "        text-align: right;\n",
       "    }\n",
       "</style>\n",
       "<table border=\"1\" class=\"dataframe\">\n",
       "  <thead>\n",
       "    <tr style=\"text-align: right;\">\n",
       "      <th></th>\n",
       "      <th>Author</th>\n",
       "      <th>SA</th>\n",
       "    </tr>\n",
       "  </thead>\n",
       "  <tbody>\n",
       "    <tr>\n",
       "      <th>0</th>\n",
       "      <td>Albert Camus</td>\n",
       "      <td>-0.680800</td>\n",
       "    </tr>\n",
       "    <tr>\n",
       "      <th>1</th>\n",
       "      <td>Anaxagoras</td>\n",
       "      <td>0.296000</td>\n",
       "    </tr>\n",
       "    <tr>\n",
       "      <th>2</th>\n",
       "      <td>Aristotle</td>\n",
       "      <td>0.646825</td>\n",
       "    </tr>\n",
       "    <tr>\n",
       "      <th>3</th>\n",
       "      <td>Baruch Spinoza</td>\n",
       "      <td>0.624900</td>\n",
       "    </tr>\n",
       "    <tr>\n",
       "      <th>4</th>\n",
       "      <td>Bertrand Russell</td>\n",
       "      <td>-0.083025</td>\n",
       "    </tr>\n",
       "    <tr>\n",
       "      <th>...</th>\n",
       "      <td>...</td>\n",
       "      <td>...</td>\n",
       "    </tr>\n",
       "    <tr>\n",
       "      <th>122</th>\n",
       "      <td>William Golding</td>\n",
       "      <td>0.128000</td>\n",
       "    </tr>\n",
       "    <tr>\n",
       "      <th>123</th>\n",
       "      <td>William Makepeace Thackeray</td>\n",
       "      <td>-0.025800</td>\n",
       "    </tr>\n",
       "    <tr>\n",
       "      <th>124</th>\n",
       "      <td>William Shakespeare</td>\n",
       "      <td>0.612400</td>\n",
       "    </tr>\n",
       "    <tr>\n",
       "      <th>125</th>\n",
       "      <td>Zora Neale Hurston</td>\n",
       "      <td>-0.680800</td>\n",
       "    </tr>\n",
       "    <tr>\n",
       "      <th>126</th>\n",
       "      <td>�milie Marquise du Ch�telet</td>\n",
       "      <td>0.938200</td>\n",
       "    </tr>\n",
       "  </tbody>\n",
       "</table>\n",
       "<p>127 rows × 2 columns</p>\n",
       "</div>"
      ],
      "text/plain": [
       "                          Author        SA\n",
       "0                   Albert Camus -0.680800\n",
       "1                     Anaxagoras  0.296000\n",
       "2                      Aristotle  0.646825\n",
       "3                 Baruch Spinoza  0.624900\n",
       "4               Bertrand Russell -0.083025\n",
       "..                           ...       ...\n",
       "122              William Golding  0.128000\n",
       "123  William Makepeace Thackeray -0.025800\n",
       "124          William Shakespeare  0.612400\n",
       "125           Zora Neale Hurston -0.680800\n",
       "126  �milie Marquise du Ch�telet  0.938200\n",
       "\n",
       "[127 rows x 2 columns]"
      ]
     },
     "execution_count": 27,
     "metadata": {},
     "output_type": "execute_result"
    }
   ],
   "source": [
    "df_sentimental.reset_index()"
   ]
  },
  {
   "cell_type": "code",
   "execution_count": 28,
   "id": "resistant-conditions",
   "metadata": {},
   "outputs": [
    {
     "data": {
      "text/html": [
       "<div>\n",
       "<style scoped>\n",
       "    .dataframe tbody tr th:only-of-type {\n",
       "        vertical-align: middle;\n",
       "    }\n",
       "\n",
       "    .dataframe tbody tr th {\n",
       "        vertical-align: top;\n",
       "    }\n",
       "\n",
       "    .dataframe thead th {\n",
       "        text-align: right;\n",
       "    }\n",
       "</style>\n",
       "<table border=\"1\" class=\"dataframe\">\n",
       "  <thead>\n",
       "    <tr style=\"text-align: right;\">\n",
       "      <th></th>\n",
       "      <th>Category</th>\n",
       "      <th>Gender</th>\n",
       "      <th>SA</th>\n",
       "    </tr>\n",
       "  </thead>\n",
       "  <tbody>\n",
       "    <tr>\n",
       "      <th>0</th>\n",
       "      <td>literature</td>\n",
       "      <td>F</td>\n",
       "      <td>0.230853</td>\n",
       "    </tr>\n",
       "    <tr>\n",
       "      <th>1</th>\n",
       "      <td>literature</td>\n",
       "      <td>M</td>\n",
       "      <td>-0.001104</td>\n",
       "    </tr>\n",
       "    <tr>\n",
       "      <th>2</th>\n",
       "      <td>philosophy</td>\n",
       "      <td>F</td>\n",
       "      <td>0.160350</td>\n",
       "    </tr>\n",
       "    <tr>\n",
       "      <th>3</th>\n",
       "      <td>philosophy</td>\n",
       "      <td>M</td>\n",
       "      <td>0.136852</td>\n",
       "    </tr>\n",
       "    <tr>\n",
       "      <th>4</th>\n",
       "      <td>science</td>\n",
       "      <td>F</td>\n",
       "      <td>0.114700</td>\n",
       "    </tr>\n",
       "    <tr>\n",
       "      <th>5</th>\n",
       "      <td>science</td>\n",
       "      <td>M</td>\n",
       "      <td>0.192505</td>\n",
       "    </tr>\n",
       "  </tbody>\n",
       "</table>\n",
       "</div>"
      ],
      "text/plain": [
       "     Category Gender        SA\n",
       "0  literature      F  0.230853\n",
       "1  literature      M -0.001104\n",
       "2  philosophy      F  0.160350\n",
       "3  philosophy      M  0.136852\n",
       "4     science      F  0.114700\n",
       "5     science      M  0.192505"
      ]
     },
     "execution_count": 28,
     "metadata": {},
     "output_type": "execute_result"
    }
   ],
   "source": [
    "df2 = df.groupby(['Category','Gender'], as_index=False).mean()\n",
    "df2"
   ]
  },
  {
   "cell_type": "code",
   "execution_count": 29,
   "id": "composed-stake",
   "metadata": {},
   "outputs": [
    {
     "data": {
      "text/plain": [
       "<seaborn.axisgrid.FacetGrid at 0x7f4808ca5910>"
      ]
     },
     "execution_count": 29,
     "metadata": {},
     "output_type": "execute_result"
    },
    {
     "data": {
      "image/png": "[encoded data removed]",
      "text/plain": [
       "<Figure size 404.875x360 with 1 Axes>"
      ]
     },
     "metadata": {
      "needs_background": "light"
     },
     "output_type": "display_data"
    }
   ],
   "source": [
    "sns.catplot(x=\"Category\", y=\"SA\", hue=\"Gender\", kind=\"bar\", data=df2)"
   ]
  },
  {
   "cell_type": "code",
   "execution_count": null,
   "id": "sealed-question",
   "metadata": {},
   "outputs": [],
   "source": []
  }
 ],
 "metadata": {
  "kernelspec": {
   "display_name": "Python 3",
   "language": "python",
   "name": "python3"
  },
  "language_info": {
   "codemirror_mode": {
    "name": "ipython",
    "version": 3
   },
   "file_extension": ".py",
   "mimetype": "text/x-python",
   "name": "python",
   "nbconvert_exporter": "python",
   "pygments_lexer": "ipython3",
   "version": "3.8.5"
  },
  "toc": {
   "base_numbering": 1,
   "nav_menu": {},
   "number_sections": true,
   "sideBar": true,
   "skip_h1_title": false,
   "title_cell": "Table of Contents",
   "title_sidebar": "Contents",
   "toc_cell": false,
   "toc_position": {},
   "toc_section_display": true,
   "toc_window_display": false
  },
  "varInspector": {
   "cols": {
    "lenName": 16,
    "lenType": 16,
    "lenVar": 40
   },
   "kernels_config": {
    "python": {
     "delete_cmd_postfix": "",
     "delete_cmd_prefix": "del ",
     "library": "var_list.py",
     "varRefreshCmd": "print(var_dic_list())"
    },
    "r": {
     "delete_cmd_postfix": ") ",
     "delete_cmd_prefix": "rm(",
     "library": "var_list.r",
     "varRefreshCmd": "cat(var_dic_list()) "
    }
   },
   "types_to_exclude": [
    "module",
    "function",
    "builtin_function_or_method",
    "instance",
    "_Feature"
   ],
   "window_display": false
  }
 },
 "nbformat": 4,
 "nbformat_minor": 5
}
