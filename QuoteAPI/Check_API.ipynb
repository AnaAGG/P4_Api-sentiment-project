{
 "cells": [
  {
   "cell_type": "markdown",
   "id": "secret-recovery",
   "metadata": {
    "toc": true
   },
   "source": [
    "<h1>Table of Contents<span class=\"tocSkip\"></span></h1>\n",
    "<div class=\"toc\"><ul class=\"toc-item\"><li><span><a href=\"#Libraries\" data-toc-modified-id=\"Libraries-1\"><span class=\"toc-item-num\">1&nbsp;&nbsp;</span>Libraries</a></span></li><li><span><a href=\"#Cheking-the-endpoints\" data-toc-modified-id=\"Cheking-the-endpoints-2\"><span class=\"toc-item-num\">2&nbsp;&nbsp;</span>Cheking the endpoints</a></span><ul class=\"toc-item\"><li><span><a href=\"#Home-API\" data-toc-modified-id=\"Home-API-2.1\"><span class=\"toc-item-num\">2.1&nbsp;&nbsp;</span>Home API</a></span></li><li><span><a href=\"#All-Data\" data-toc-modified-id=\"All-Data-2.2\"><span class=\"toc-item-num\">2.2&nbsp;&nbsp;</span>All Data</a></span></li><li><span><a href=\"#All-Authors-in-the-DDBB\" data-toc-modified-id=\"All-Authors-in-the-DDBB-2.3\"><span class=\"toc-item-num\">2.3&nbsp;&nbsp;</span>All Authors in the DDBB</a></span></li><li><span><a href=\"#All-Quotes-in-the-DDBB\" data-toc-modified-id=\"All-Quotes-in-the-DDBB-2.4\"><span class=\"toc-item-num\">2.4&nbsp;&nbsp;</span>All Quotes in the DDBB</a></span></li><li><span><a href=\"#Quotes-for-each-collection\" data-toc-modified-id=\"Quotes-for-each-collection-2.5\"><span class=\"toc-item-num\">2.5&nbsp;&nbsp;</span>Quotes for each collection</a></span><ul class=\"toc-item\"><li><span><a href=\"#Biology\" data-toc-modified-id=\"Biology-2.5.1\"><span class=\"toc-item-num\">2.5.1&nbsp;&nbsp;</span>Biology</a></span></li><li><span><a href=\"#Literature\" data-toc-modified-id=\"Literature-2.5.2\"><span class=\"toc-item-num\">2.5.2&nbsp;&nbsp;</span>Literature</a></span></li></ul></li><li><span><a href=\"#Author-per-collection\" data-toc-modified-id=\"Author-per-collection-2.6\"><span class=\"toc-item-num\">2.6&nbsp;&nbsp;</span>Author per collection</a></span><ul class=\"toc-item\"><li><span><a href=\"#Biology\" data-toc-modified-id=\"Biology-2.6.1\"><span class=\"toc-item-num\">2.6.1&nbsp;&nbsp;</span>Biology</a></span></li><li><span><a href=\"#Literature\" data-toc-modified-id=\"Literature-2.6.2\"><span class=\"toc-item-num\">2.6.2&nbsp;&nbsp;</span>Literature</a></span></li></ul></li><li><span><a href=\"#Delete-objects-in-each-collection\" data-toc-modified-id=\"Delete-objects-in-each-collection-2.7\"><span class=\"toc-item-num\">2.7&nbsp;&nbsp;</span>Delete objects in each collection</a></span><ul class=\"toc-item\"><li><span><a href=\"#Biology\" data-toc-modified-id=\"Biology-2.7.1\"><span class=\"toc-item-num\">2.7.1&nbsp;&nbsp;</span>Biology</a></span></li><li><span><a href=\"#Literature\" data-toc-modified-id=\"Literature-2.7.2\"><span class=\"toc-item-num\">2.7.2&nbsp;&nbsp;</span>Literature</a></span></li></ul></li><li><span><a href=\"#Insert-objects-in-each-collection\" data-toc-modified-id=\"Insert-objects-in-each-collection-2.8\"><span class=\"toc-item-num\">2.8&nbsp;&nbsp;</span>Insert objects in each collection</a></span><ul class=\"toc-item\"><li><span><a href=\"#Biology\" data-toc-modified-id=\"Biology-2.8.1\"><span class=\"toc-item-num\">2.8.1&nbsp;&nbsp;</span>Biology</a></span></li><li><span><a href=\"#Literature\" data-toc-modified-id=\"Literature-2.8.2\"><span class=\"toc-item-num\">2.8.2&nbsp;&nbsp;</span>Literature</a></span></li></ul></li><li><span><a href=\"#Update-object-in-each-collection\" data-toc-modified-id=\"Update-object-in-each-collection-2.9\"><span class=\"toc-item-num\">2.9&nbsp;&nbsp;</span>Update object in each collection</a></span><ul class=\"toc-item\"><li><span><a href=\"#Biology\" data-toc-modified-id=\"Biology-2.9.1\"><span class=\"toc-item-num\">2.9.1&nbsp;&nbsp;</span>Biology</a></span></li></ul></li></ul></li></ul></div>"
   ]
  },
  {
   "cell_type": "markdown",
   "id": "incorrect-circle",
   "metadata": {},
   "source": [
    "##  Libraries"
   ]
  },
  {
   "cell_type": "code",
   "execution_count": 1,
   "id": "linear-buffer",
   "metadata": {},
   "outputs": [],
   "source": [
    "import sys\n",
    "sys.path.append('../')"
   ]
  },
  {
   "cell_type": "code",
   "execution_count": 2,
   "id": "harmful-viking",
   "metadata": {},
   "outputs": [],
   "source": [
    "from flask import Flask, request, jsonify\n",
    "import requests\n",
    "import pandas as pd"
   ]
  },
  {
   "cell_type": "markdown",
   "id": "sexual-fitness",
   "metadata": {},
   "source": [
    "##  Cheking the endpoints"
   ]
  },
  {
   "cell_type": "markdown",
   "id": "hazardous-combat",
   "metadata": {},
   "source": [
    "### Home API "
   ]
  },
  {
   "cell_type": "code",
   "execution_count": 3,
   "id": "informative-stress",
   "metadata": {},
   "outputs": [],
   "source": [
    "url = (\"http://127.0.0.1:5000/\")"
   ]
  },
  {
   "cell_type": "code",
   "execution_count": 4,
   "id": "literary-withdrawal",
   "metadata": {},
   "outputs": [
    {
     "data": {
      "text/plain": [
       "200"
      ]
     },
     "execution_count": 4,
     "metadata": {},
     "output_type": "execute_result"
    }
   ],
   "source": [
    "response = requests.get(url)\n",
    "response.status_code"
   ]
  },
  {
   "cell_type": "code",
   "execution_count": 5,
   "id": "entire-vision",
   "metadata": {},
   "outputs": [
    {
     "data": {
      "text/plain": [
       "<bound method Response.json of <Response [200]>>"
      ]
     },
     "execution_count": 5,
     "metadata": {},
     "output_type": "execute_result"
    }
   ],
   "source": [
    "response.json"
   ]
  },
  {
   "cell_type": "markdown",
   "id": "sporting-fashion",
   "metadata": {},
   "source": [
    "### All Data"
   ]
  },
  {
   "cell_type": "code",
   "execution_count": 6,
   "id": "silent-evolution",
   "metadata": {},
   "outputs": [],
   "source": [
    "url_data = (\"http://127.0.0.1:5000/Data\")"
   ]
  },
  {
   "cell_type": "code",
   "execution_count": 7,
   "id": "annoying-mapping",
   "metadata": {},
   "outputs": [
    {
     "data": {
      "text/plain": [
       "200"
      ]
     },
     "execution_count": 7,
     "metadata": {},
     "output_type": "execute_result"
    }
   ],
   "source": [
    "res = requests.get(url_data)\n",
    "res.status_code"
   ]
  },
  {
   "cell_type": "code",
   "execution_count": 8,
   "id": "meaning-access",
   "metadata": {},
   "outputs": [
    {
     "data": {
      "text/plain": [
       "[{'Author': 'Antonie van Leeuwenhoek',\n",
       "  'Category': 'science',\n",
       "  'Gender': 'M',\n",
       "  'Quote': 'I believe that thirty million of these animalcules together would not take up as much room, or be as big, as a coarse grain of sand'},\n",
       " {'Author': 'Richard Dawkins',\n",
       "  'Category': 'science',\n",
       "  'Gender': 'M',\n",
       "  'Quote': 'Biology is the study of the complex things in the Universe. Physics is the study of the simple ones'}]"
      ]
     },
     "execution_count": 8,
     "metadata": {},
     "output_type": "execute_result"
    }
   ],
   "source": [
    "res.json()[:2]"
   ]
  },
  {
   "cell_type": "markdown",
   "id": "pharmaceutical-constant",
   "metadata": {},
   "source": [
    "### All Authors in the DDBB"
   ]
  },
  {
   "cell_type": "code",
   "execution_count": 69,
   "id": "tropical-census",
   "metadata": {},
   "outputs": [],
   "source": [
    "auth= (\"http://127.0.0.1:5000/Authors/Quote_Author\")"
   ]
  },
  {
   "cell_type": "code",
   "execution_count": 70,
   "id": "placed-senate",
   "metadata": {},
   "outputs": [
    {
     "data": {
      "text/plain": [
       "200"
      ]
     },
     "execution_count": 70,
     "metadata": {},
     "output_type": "execute_result"
    }
   ],
   "source": [
    "all_aut =  requests.get(auth)\n",
    "all_aut.status_code"
   ]
  },
  {
   "cell_type": "code",
   "execution_count": 73,
   "id": "american-beaver",
   "metadata": {},
   "outputs": [
    {
     "data": {
      "text/plain": [
       "[{'Author': 'Rachel Carson'},\n",
       " {'Author': 'Bertrand Russell'},\n",
       " {'Author': 'Edmund Beecher Wilson'},\n",
       " {'Author': 'Alfred Russel Wallace'},\n",
       " {'Author': 'Susumu Ohno'}]"
      ]
     },
     "execution_count": 73,
     "metadata": {},
     "output_type": "execute_result"
    }
   ],
   "source": [
    "all_aut.json()[10:15]"
   ]
  },
  {
   "cell_type": "markdown",
   "id": "special-residence",
   "metadata": {},
   "source": [
    "###  All Quotes in the DDBB"
   ]
  },
  {
   "cell_type": "code",
   "execution_count": 64,
   "id": "disturbed-conversion",
   "metadata": {},
   "outputs": [],
   "source": [
    "quot= (\"http://127.0.0.1:5000/Quotes/Quote_Author\")"
   ]
  },
  {
   "cell_type": "code",
   "execution_count": 65,
   "id": "endless-organ",
   "metadata": {},
   "outputs": [
    {
     "data": {
      "text/plain": [
       "200"
      ]
     },
     "execution_count": 65,
     "metadata": {},
     "output_type": "execute_result"
    }
   ],
   "source": [
    "all_quot= requests.get(quot)\n",
    "all_quot.status_code"
   ]
  },
  {
   "cell_type": "code",
   "execution_count": 68,
   "id": "creative-cotton",
   "metadata": {},
   "outputs": [
    {
     "data": {
      "text/plain": [
       "[{'Quote': 'The time however has arrived when biology must, like the other sciences, make a fresh start in a purely speculative direction, free from all entanglement with medical or any other art'},\n",
       " {'Quote': 'Although the alternate �wax and wane� cycles are the rule rather than the exception in all fields of human endeavor, in that of biological sciences the �wane� is all too often indicative of a justified loss of faith in the rational and methodical approach that had at first raised so much hope'},\n",
       " {'Quote': 'I believe that new mathematical schemata, new systems of axioms, certainly new systems of mathematical structures will be suggested by the study of the living world\\n'},\n",
       " {'Quote': 'Dr. Ikemoto repeatedly told me that we should not perform research that simply reproduced somebody else�s results. Rather, we should do something unique and new'},\n",
       " {'Quote': 'Evolution is one of the half-dozen shattering ideas that science has developed to overturn past hopes and assumptions, and to enlighten our current thoughts.'}]"
      ]
     },
     "execution_count": 68,
     "metadata": {},
     "output_type": "execute_result"
    }
   ],
   "source": [
    "all_quot.json()[15:20]"
   ]
  },
  {
   "cell_type": "markdown",
   "id": "invalid-message",
   "metadata": {},
   "source": [
    "### Quotes for each collection"
   ]
  },
  {
   "cell_type": "markdown",
   "id": "sophisticated-right",
   "metadata": {},
   "source": [
    "#### Biology "
   ]
  },
  {
   "cell_type": "code",
   "execution_count": 13,
   "id": "compound-message",
   "metadata": {},
   "outputs": [],
   "source": [
    "url_bio_quot = (\"http://127.0.0.1:5000/Quotes/Biology\")"
   ]
  },
  {
   "cell_type": "code",
   "execution_count": 14,
   "id": "stuck-syndication",
   "metadata": {},
   "outputs": [
    {
     "data": {
      "text/plain": [
       "200"
      ]
     },
     "execution_count": 14,
     "metadata": {},
     "output_type": "execute_result"
    }
   ],
   "source": [
    "bio_quot= requests.get(url_bio_quot)\n",
    "bio_quot.status_code"
   ]
  },
  {
   "cell_type": "code",
   "execution_count": 15,
   "id": "similar-outside",
   "metadata": {},
   "outputs": [
    {
     "data": {
      "text/plain": [
       "[{'Quote': 'Our thoughts, visions and fantasies have a physical reality. A thought is made of hundreds of electrochemical impulses'},\n",
       " {'Quote': 'Botany consists in the gathering of plants, and the dismembering of them, in connection with the use of a complicated terminology. That is the beginning and end of botany as it is understood by the majority'},\n",
       " {'Quote': 'It is thus probable that germs of the lowest organisms known to us are continually being carried away from the earth and the other planets upon which they exist. As seeds in general, so most of these spores, thus carried away, will no doubt meet death in the cold infinite space of the universe. Yet a small number of spores will fall on some other world, and may there be able to spread life, if conditions be suitable\\n'},\n",
       " {'Quote': 'La mujer ocupará en el mundo científico el puesto que le corresponda de acuerdo con su capacidad, y no necesitaremos cuotas ni nada de eso'},\n",
       " {'Quote': 'Si los jóvenes se van de España, su vuelta es casi imposible'}]"
      ]
     },
     "execution_count": 15,
     "metadata": {},
     "output_type": "execute_result"
    }
   ],
   "source": [
    "bio_quot.json()[-5:]"
   ]
  },
  {
   "cell_type": "markdown",
   "id": "floating-douglas",
   "metadata": {},
   "source": [
    "#### Literature"
   ]
  },
  {
   "cell_type": "code",
   "execution_count": 16,
   "id": "aggregate-probe",
   "metadata": {},
   "outputs": [],
   "source": [
    "url_lit_quot = (\"http://127.0.0.1:5000/Quotes/Literature\")"
   ]
  },
  {
   "cell_type": "code",
   "execution_count": 17,
   "id": "previous-darkness",
   "metadata": {},
   "outputs": [
    {
     "data": {
      "text/plain": [
       "200"
      ]
     },
     "execution_count": 17,
     "metadata": {},
     "output_type": "execute_result"
    }
   ],
   "source": [
    "lit_quot = requests.get(url_lit_quot)\n",
    "lit_quot.status_code"
   ]
  },
  {
   "cell_type": "code",
   "execution_count": 18,
   "id": "advanced-techno",
   "metadata": {},
   "outputs": [
    {
     "data": {
      "text/plain": [
       "[{'Quote': 'Six months ago I had never been to England, and, certainly, I had never sounded the depths of an English heart. I had known the shallows.'},\n",
       " {'Quote': 'The whole mad swirl of everything that was to come began then.'},\n",
       " {'Quote': 'In his Petersburg world, all people were divided into two completely opposite sorts. One was the inferior sort: the banal, stupid and, above all, ridiculous people who believed that one husband should live with one wife, whom he has married in a church, that a girl should be innocent, a woman modest, a man manly, temperate and firm, that one should raise children, earn one�s bread, pay one�s debts, and other such stupidities. This was an old-fashioned and ridiculous sort of people. But there was another sort of people, the real ones, to which they all belonged, and for whom one had, above all, to be elegant, handsome, magnanimous, bold, gay, to give oneself to every passion without blushing and laugh at everything else.'},\n",
       " {'Quote': 'I prefer unlucky things. Luck is vulgar. Who wants what luck would bring? I don�t.'},\n",
       " {'Quote': 'Human speech is like a cracked kettle on which we tap crude rhythms for bears to dance to, while we long to make music that will melt the stars.'}]"
      ]
     },
     "execution_count": 18,
     "metadata": {},
     "output_type": "execute_result"
    }
   ],
   "source": [
    "lit_quot.json()[:5]"
   ]
  },
  {
   "cell_type": "markdown",
   "id": "purple-vulnerability",
   "metadata": {},
   "source": [
    "### Author per collection"
   ]
  },
  {
   "cell_type": "markdown",
   "id": "charged-option",
   "metadata": {},
   "source": [
    "#### Biology"
   ]
  },
  {
   "cell_type": "code",
   "execution_count": 19,
   "id": "smooth-explanation",
   "metadata": {},
   "outputs": [],
   "source": [
    "url_bio_aut = (\"http://127.0.0.1:5000/Authors/Biology\")"
   ]
  },
  {
   "cell_type": "code",
   "execution_count": 20,
   "id": "ancient-closer",
   "metadata": {},
   "outputs": [
    {
     "data": {
      "text/plain": [
       "200"
      ]
     },
     "execution_count": 20,
     "metadata": {},
     "output_type": "execute_result"
    }
   ],
   "source": [
    "bio_aut = requests.get(url_bio_aut)\n",
    "bio_aut.status_code"
   ]
  },
  {
   "cell_type": "code",
   "execution_count": 21,
   "id": "wicked-climb",
   "metadata": {},
   "outputs": [
    {
     "data": {
      "text/plain": [
       "[{'Author': 'J. B. S. Haldane'},\n",
       " {'Author': 'Aristotle'},\n",
       " {'Author': 'Har Gobind Khorana'},\n",
       " {'Author': 'Fred Hoyle'},\n",
       " {'Author': 'James Watson'}]"
      ]
     },
     "execution_count": 21,
     "metadata": {},
     "output_type": "execute_result"
    }
   ],
   "source": [
    "bio_aut.json()[2:7]"
   ]
  },
  {
   "cell_type": "markdown",
   "id": "irish-camping",
   "metadata": {},
   "source": [
    "#### Literature"
   ]
  },
  {
   "cell_type": "code",
   "execution_count": 22,
   "id": "dried-words",
   "metadata": {},
   "outputs": [],
   "source": [
    "url_lit_aut = (\"http://127.0.0.1:5000/Authors/Literature\")"
   ]
  },
  {
   "cell_type": "code",
   "execution_count": 23,
   "id": "specific-serum",
   "metadata": {},
   "outputs": [
    {
     "data": {
      "text/plain": [
       "200"
      ]
     },
     "execution_count": 23,
     "metadata": {},
     "output_type": "execute_result"
    }
   ],
   "source": [
    "lit_aut = requests.get(url_lit_aut)\n",
    "lit_aut.status_code"
   ]
  },
  {
   "cell_type": "code",
   "execution_count": 24,
   "id": "current-circulation",
   "metadata": {},
   "outputs": [
    {
     "data": {
      "text/plain": [
       "[{'Author': 'Ford Madox Ford'},\n",
       " {'Author': 'Jack Kerouac'},\n",
       " {'Author': 'Leo Tolstoy'},\n",
       " {'Author': 'D. H. Lawrence'},\n",
       " {'Author': 'Gustave Flaubert'}]"
      ]
     },
     "execution_count": 24,
     "metadata": {},
     "output_type": "execute_result"
    }
   ],
   "source": [
    "lit_aut.json()[:5]"
   ]
  },
  {
   "cell_type": "markdown",
   "id": "medium-beast",
   "metadata": {},
   "source": [
    "### Delete objects in each collection\n"
   ]
  },
  {
   "cell_type": "markdown",
   "id": "proud-antique",
   "metadata": {},
   "source": [
    "#### Biology"
   ]
  },
  {
   "cell_type": "code",
   "execution_count": 25,
   "id": "innocent-running",
   "metadata": {},
   "outputs": [],
   "source": [
    "url_del_bio = (\"http://127.0.0.1:5000/Biology/delete?id=6033b97d14687f7bb0232fa4\")"
   ]
  },
  {
   "cell_type": "code",
   "execution_count": 26,
   "id": "honest-coach",
   "metadata": {},
   "outputs": [
    {
     "data": {
      "text/plain": [
       "200"
      ]
     },
     "execution_count": 26,
     "metadata": {},
     "output_type": "execute_result"
    }
   ],
   "source": [
    "bio_del = requests.get(url_del_bio)\n",
    "bio_del.status_code"
   ]
  },
  {
   "cell_type": "code",
   "execution_count": 27,
   "id": "breathing-jerusalem",
   "metadata": {},
   "outputs": [
    {
     "data": {
      "text/plain": [
       "[' Bad Request: with given id does not exist']"
      ]
     },
     "execution_count": 27,
     "metadata": {},
     "output_type": "execute_result"
    }
   ],
   "source": [
    "bio_del.json()"
   ]
  },
  {
   "cell_type": "markdown",
   "id": "minus-assurance",
   "metadata": {},
   "source": [
    "#### Literature"
   ]
  },
  {
   "cell_type": "code",
   "execution_count": 29,
   "id": "quick-cookbook",
   "metadata": {},
   "outputs": [],
   "source": [
    "url_del_lit = (\"http://127.0.0.1:5000/Literature/delete?id=6033b97d14687f7bb0233005\")"
   ]
  },
  {
   "cell_type": "code",
   "execution_count": 30,
   "id": "considered-given",
   "metadata": {},
   "outputs": [
    {
     "data": {
      "text/plain": [
       "200"
      ]
     },
     "execution_count": 30,
     "metadata": {},
     "output_type": "execute_result"
    }
   ],
   "source": [
    "lit_del = requests.get(url_del_lit)\n",
    "lit_del.status_code"
   ]
  },
  {
   "cell_type": "code",
   "execution_count": 31,
   "id": "silent-start",
   "metadata": {},
   "outputs": [
    {
     "data": {
      "text/plain": [
       "[' Bad Request: with given id does not exist']"
      ]
     },
     "execution_count": 31,
     "metadata": {},
     "output_type": "execute_result"
    }
   ],
   "source": [
    "lit_del.json()"
   ]
  },
  {
   "cell_type": "markdown",
   "id": "olive-mission",
   "metadata": {},
   "source": [
    "### Insert objects in each collection"
   ]
  },
  {
   "cell_type": "markdown",
   "id": "informational-crack",
   "metadata": {},
   "source": [
    "To be able to enter a lot of data at the same time to check the API, I have generated the insert function. As an example the following cells. To use this function you can start from a data frame that we will convert to a dictionary. This dictionary will be the one we use to introduce it in the function"
   ]
  },
  {
   "cell_type": "code",
   "execution_count": 54,
   "id": "polished-microphone",
   "metadata": {
    "scrolled": true
   },
   "outputs": [],
   "source": [
    "res = pd.read_csv(\"fil2.csv\", sep=';')\n",
    "x = res.to_dict('records')"
   ]
  },
  {
   "cell_type": "code",
   "execution_count": 55,
   "id": "trying-shipping",
   "metadata": {},
   "outputs": [
    {
     "data": {
      "text/plain": [
       "[{'Quote': 'Happiness is the feeling that power increases � that resistance is being overcome.',\n",
       "  'Author': 'Friedrich Nietzsche',\n",
       "  'Gender': 'M',\n",
       "  'Category': 'Philosophy'},\n",
       " {'Quote': \"The opposite of love is not hate, it's indifference. The opposite of art is not ugliness, it's indifference. The opposite of faith is not heresy, it's indifference. And the opposite of life is not death, it's indifference.\",\n",
       "  'Author': 'Elie Wiesel',\n",
       "  'Gender': 'F',\n",
       "  'Category': 'Philosophy'},\n",
       " {'Quote': 'It does not do to dwell on dreams and forget to live',\n",
       "  'Author': 'J.K. Rowling',\n",
       "  'Gender': 'F',\n",
       "  'Category': 'Philosophy'},\n",
       " {'Quote': 'If you ask me what I came to do in this world, I, an artist, will answer you: I am here to live out loud',\n",
       "  'Author': 'Emile Zola',\n",
       "  'Gender': 'F',\n",
       "  'Category': 'Philosophy'}]"
      ]
     },
     "execution_count": 55,
     "metadata": {},
     "output_type": "execute_result"
    }
   ],
   "source": [
    "x"
   ]
  },
  {
   "cell_type": "code",
   "execution_count": 56,
   "id": "spatial-little",
   "metadata": {},
   "outputs": [],
   "source": [
    "def insert_data(x, url):\n",
    "    count = 0\n",
    "    while count < len(x):\n",
    "        for i in x:\n",
    "            ins = requests.get(url , params = i)\n",
    "            ins.status_code\n",
    "            print(ins.json())\n",
    "            count+=1\n",
    "    return \"Nice!\"\n"
   ]
  },
  {
   "cell_type": "code",
   "execution_count": 57,
   "id": "prescription-philadelphia",
   "metadata": {},
   "outputs": [
    {
     "name": "stdout",
     "output_type": "stream",
     "text": [
      "['Quote successfully inserted']\n",
      "['Quote successfully inserted']\n",
      "['Quote successfully inserted']\n",
      "['Quote successfully inserted']\n"
     ]
    },
    {
     "data": {
      "text/plain": [
       "'Nice!'"
      ]
     },
     "execution_count": 57,
     "metadata": {},
     "output_type": "execute_result"
    }
   ],
   "source": [
    "insert_data(x, \"http://127.0.0.1:5000/Philosophy/new\")"
   ]
  },
  {
   "cell_type": "markdown",
   "id": "consistent-weekend",
   "metadata": {},
   "source": [
    "#### Biology"
   ]
  },
  {
   "cell_type": "code",
   "execution_count": 43,
   "id": "geographic-healing",
   "metadata": {},
   "outputs": [],
   "source": [
    "quote = {\"Author\": \"Margarita Salas\", \n",
    "         \"Quote\": \"Lo importante es no tener arrugas en el cerebro\", \n",
    "        \"Gender\": \"F\"}"
   ]
  },
  {
   "cell_type": "code",
   "execution_count": 44,
   "id": "considered-sullivan",
   "metadata": {},
   "outputs": [],
   "source": [
    "req = requests.get(\"http://127.0.0.1:5000/Biology/new\", params = quote)\n",
    "req.status_code"
   ]
  },
  {
   "cell_type": "code",
   "execution_count": 46,
   "id": "wrong-hurricane",
   "metadata": {},
   "outputs": [
    {
     "data": {
      "text/plain": [
       "['Author successfully inserted']"
      ]
     },
     "execution_count": 46,
     "metadata": {},
     "output_type": "execute_result"
    }
   ],
   "source": [
    "req.json()"
   ]
  },
  {
   "cell_type": "markdown",
   "id": "wanted-yugoslavia",
   "metadata": {},
   "source": [
    "#### Literature "
   ]
  },
  {
   "cell_type": "code",
   "execution_count": 47,
   "id": "charged-louisiana",
   "metadata": {},
   "outputs": [],
   "source": [
    "lit = {\"Author\": \"Hipatia de Alejandría\", \n",
    "         \"Quote\": \"Defiende tu derecho a pensar, porque incluso pensar de manera errónea es mejor que no pensar\", \n",
    "        \"Gender\": \"F\"}"
   ]
  },
  {
   "cell_type": "code",
   "execution_count": 49,
   "id": "lightweight-assessment",
   "metadata": {},
   "outputs": [],
   "source": [
    "url_ins_lit = (\"http://127.0.0.1:5000/Literature/new\")"
   ]
  },
  {
   "cell_type": "code",
   "execution_count": 51,
   "id": "better-multiple",
   "metadata": {},
   "outputs": [
    {
     "data": {
      "text/plain": [
       "200"
      ]
     },
     "execution_count": 51,
     "metadata": {},
     "output_type": "execute_result"
    }
   ],
   "source": [
    "lit_ins = requests.get(url_ins_lit , params = lit)\n",
    "lit_ins.status_code"
   ]
  },
  {
   "cell_type": "code",
   "execution_count": 52,
   "id": "retained-child",
   "metadata": {},
   "outputs": [
    {
     "data": {
      "text/plain": [
       "['Author successfully inserted']"
      ]
     },
     "execution_count": 52,
     "metadata": {},
     "output_type": "execute_result"
    }
   ],
   "source": [
    "lit_ins.json()"
   ]
  },
  {
   "cell_type": "code",
   "execution_count": 59,
   "id": "vertical-particular",
   "metadata": {},
   "outputs": [
    {
     "name": "stdout",
     "output_type": "stream",
     "text": [
      "['Quote successfully inserted']\n",
      "['Quote successfully inserted']\n",
      "['Quote successfully inserted']\n",
      "['Quote successfully inserted']\n",
      "['Quote successfully inserted']\n",
      "['Quote successfully inserted']\n",
      "['Quote successfully inserted']\n",
      "['Quote successfully inserted']\n",
      "['Quote successfully inserted']\n",
      "['Quote successfully inserted']\n",
      "['Quote successfully inserted']\n",
      "['Quote successfully inserted']\n",
      "['Quote successfully inserted']\n",
      "['Quote successfully inserted']\n",
      "['Quote successfully inserted']\n",
      "['Quote successfully inserted']\n",
      "['Quote successfully inserted']\n",
      "['Quote successfully inserted']\n",
      "['Quote successfully inserted']\n",
      "['Quote successfully inserted']\n",
      "['Quote successfully inserted']\n",
      "['Quote successfully inserted']\n",
      "['Quote successfully inserted']\n",
      "['Quote successfully inserted']\n",
      "['Quote successfully inserted']\n",
      "['Quote successfully inserted']\n",
      "['Quote successfully inserted']\n",
      "['Quote successfully inserted']\n",
      "['Quote successfully inserted']\n"
     ]
    },
    {
     "data": {
      "text/plain": [
       "'Nice!'"
      ]
     },
     "execution_count": 59,
     "metadata": {},
     "output_type": "execute_result"
    }
   ],
   "source": [
    "resp = pd.read_csv(\"lit.csv\", sep=';')\n",
    "y = resp.to_dict('records')\n",
    "insert_data(y, \"http://127.0.0.1:5000/Literature/new\")"
   ]
  },
  {
   "cell_type": "markdown",
   "id": "apart-challenge",
   "metadata": {},
   "source": [
    "### Update object in each collection"
   ]
  },
  {
   "cell_type": "markdown",
   "id": "regulation-balance",
   "metadata": {},
   "source": [
    "#### Biology"
   ]
  },
  {
   "cell_type": "code",
   "execution_count": 35,
   "id": "copyrighted-oakland",
   "metadata": {},
   "outputs": [],
   "source": [
    "marg = {\"id\" : \"6033d61706c54227329688fd\",\n",
    "        \"Author\": \"Margarita Salas\", \n",
    "        \"Quote\": \"De joven era discriminada por ser mujer; hoy por ser mayor\", \n",
    "        \"Gender\": \"F\"}\n",
    "\n"
   ]
  },
  {
   "cell_type": "code",
   "execution_count": 36,
   "id": "industrial-budget",
   "metadata": {},
   "outputs": [],
   "source": [
    "url_upd_lit = (\"http://127.0.0.1:5000/Biology/update\")"
   ]
  },
  {
   "cell_type": "code",
   "execution_count": 37,
   "id": "reverse-mother",
   "metadata": {},
   "outputs": [
    {
     "data": {
      "text/plain": [
       "200"
      ]
     },
     "execution_count": 37,
     "metadata": {},
     "output_type": "execute_result"
    }
   ],
   "source": [
    "lit_upd = requests.get(url_upd_lit , params = marg)\n",
    "lit_upd.status_code"
   ]
  },
  {
   "cell_type": "code",
   "execution_count": 38,
   "id": "proof-jungle",
   "metadata": {},
   "outputs": [
    {
     "data": {
      "text/plain": [
       "{'response': 400, 'message': 'Bad Request: there is already this quote'}"
      ]
     },
     "execution_count": 38,
     "metadata": {},
     "output_type": "execute_result"
    }
   ],
   "source": [
    "lit_upd.json()"
   ]
  },
  {
   "cell_type": "code",
   "execution_count": null,
   "id": "electoral-jerusalem",
   "metadata": {},
   "outputs": [],
   "source": []
  }
 ],
 "metadata": {
  "kernelspec": {
   "display_name": "Python 3",
   "language": "python",
   "name": "python3"
  },
  "language_info": {
   "codemirror_mode": {
    "name": "ipython",
    "version": 3
   },
   "file_extension": ".py",
   "mimetype": "text/x-python",
   "name": "python",
   "nbconvert_exporter": "python",
   "pygments_lexer": "ipython3",
   "version": "3.8.5"
  },
  "toc": {
   "base_numbering": 1,
   "nav_menu": {},
   "number_sections": true,
   "sideBar": true,
   "skip_h1_title": false,
   "title_cell": "Table of Contents",
   "title_sidebar": "Contents",
   "toc_cell": true,
   "toc_position": {
    "height": "calc(100% - 180px)",
    "left": "10px",
    "top": "150px",
    "width": "384px"
   },
   "toc_section_display": true,
   "toc_window_display": false
  },
  "varInspector": {
   "cols": {
    "lenName": 16,
    "lenType": 16,
    "lenVar": 40
   },
   "kernels_config": {
    "python": {
     "delete_cmd_postfix": "",
     "delete_cmd_prefix": "del ",
     "library": "var_list.py",
     "varRefreshCmd": "print(var_dic_list())"
    },
    "r": {
     "delete_cmd_postfix": ") ",
     "delete_cmd_prefix": "rm(",
     "library": "var_list.r",
     "varRefreshCmd": "cat(var_dic_list()) "
    }
   },
   "types_to_exclude": [
    "module",
    "function",
    "builtin_function_or_method",
    "instance",
    "_Feature"
   ],
   "window_display": false
  }
 },
 "nbformat": 4,
 "nbformat_minor": 5
}
