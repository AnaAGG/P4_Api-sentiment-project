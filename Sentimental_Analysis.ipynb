{
 "cells": [
  {
   "cell_type": "markdown",
   "id": "dried-argument",
   "metadata": {},
   "source": [
    "## Libraries"
   ]
  },
  {
   "cell_type": "code",
   "execution_count": 1,
   "id": "dutch-infrared",
   "metadata": {},
   "outputs": [
    {
     "name": "stderr",
     "output_type": "stream",
     "text": [
      "/home/anagarcia/anaconda3/envs/ironhack/lib/python3.8/site-packages/nltk/twitter/__init__.py:20: UserWarning: The twython library has not been installed. Some functionality from the twitter package will not be available.\n",
      "  warnings.warn(\"The twython library has not been installed. \"\n"
     ]
    }
   ],
   "source": [
    "import pandas as pd\n",
    "import requests\n",
    "#NLTK\n",
    "import nltk\n",
    "from nltk.sentiment.vader import SentimentIntensityAnalyzer\n",
    "from nltk.tokenize import RegexpTokenizer\n",
    "from nltk.corpus import stopwords\n",
    "\n",
    "#TextBlob\n",
    "from textblob import TextBlob\n",
    "\n",
    "#SpaCy\n",
    "import spacy\n",
    "from spacy import displacy\n",
    "\n",
    "from langdetect import detect"
   ]
  },
  {
   "cell_type": "markdown",
   "id": "single-premiere",
   "metadata": {},
   "source": [
    "## Get the information from the QUOTEAPI "
   ]
  },
  {
   "cell_type": "code",
   "execution_count": 2,
   "id": "smoking-surname",
   "metadata": {},
   "outputs": [],
   "source": [
    "url = (\"http://127.0.0.1:5000/Data\")"
   ]
  },
  {
   "cell_type": "code",
   "execution_count": 3,
   "id": "mexican-depression",
   "metadata": {},
   "outputs": [
    {
     "data": {
      "text/plain": [
       "200"
      ]
     },
     "execution_count": 3,
     "metadata": {},
     "output_type": "execute_result"
    }
   ],
   "source": [
    "all_aut =  requests.get(url)\n",
    "all_aut.status_code"
   ]
  },
  {
   "cell_type": "code",
   "execution_count": 4,
   "id": "architectural-monthly",
   "metadata": {},
   "outputs": [],
   "source": [
    "data = all_aut.json()"
   ]
  },
  {
   "cell_type": "code",
   "execution_count": 5,
   "id": "unsigned-wednesday",
   "metadata": {},
   "outputs": [
    {
     "data": {
      "text/html": [
       "<div>\n",
       "<style scoped>\n",
       "    .dataframe tbody tr th:only-of-type {\n",
       "        vertical-align: middle;\n",
       "    }\n",
       "\n",
       "    .dataframe tbody tr th {\n",
       "        vertical-align: top;\n",
       "    }\n",
       "\n",
       "    .dataframe thead th {\n",
       "        text-align: right;\n",
       "    }\n",
       "</style>\n",
       "<table border=\"1\" class=\"dataframe\">\n",
       "  <thead>\n",
       "    <tr style=\"text-align: right;\">\n",
       "      <th></th>\n",
       "      <th>Author</th>\n",
       "      <th>Category</th>\n",
       "      <th>Quote</th>\n",
       "    </tr>\n",
       "  </thead>\n",
       "  <tbody>\n",
       "    <tr>\n",
       "      <th>0</th>\n",
       "      <td>Victor Scheffer, 1906 to 2011</td>\n",
       "      <td>science</td>\n",
       "      <td>Although Nature needs thousands or millions of...</td>\n",
       "    </tr>\n",
       "    <tr>\n",
       "      <th>1</th>\n",
       "      <td>Antonie van Leeuwenhoek, 1632 to 1723</td>\n",
       "      <td>science</td>\n",
       "      <td>I believe that thirty million of these animalc...</td>\n",
       "    </tr>\n",
       "    <tr>\n",
       "      <th>2</th>\n",
       "      <td>Richard Dawkins, 1941 – present</td>\n",
       "      <td>science</td>\n",
       "      <td>Biology is the study of the complex things in ...</td>\n",
       "    </tr>\n",
       "    <tr>\n",
       "      <th>3</th>\n",
       "      <td>J. B. S. Haldane, 1892 to 1964</td>\n",
       "      <td>science</td>\n",
       "      <td>If physics and biology one day meet, and one o...</td>\n",
       "    </tr>\n",
       "    <tr>\n",
       "      <th>4</th>\n",
       "      <td>Aristotle, 384 BC to 322 BC</td>\n",
       "      <td>science</td>\n",
       "      <td>By ‘life,’ we mean a thing that can nourish it...</td>\n",
       "    </tr>\n",
       "  </tbody>\n",
       "</table>\n",
       "</div>"
      ],
      "text/plain": [
       "                                  Author Category  \\\n",
       "0          Victor Scheffer, 1906 to 2011  science   \n",
       "1  Antonie van Leeuwenhoek, 1632 to 1723  science   \n",
       "2        Richard Dawkins, 1941 – present  science   \n",
       "3         J. B. S. Haldane, 1892 to 1964  science   \n",
       "4           Aristotle, 384 BC to 322 BC   science   \n",
       "\n",
       "                                               Quote  \n",
       "0  Although Nature needs thousands or millions of...  \n",
       "1  I believe that thirty million of these animalc...  \n",
       "2  Biology is the study of the complex things in ...  \n",
       "3  If physics and biology one day meet, and one o...  \n",
       "4  By ‘life,’ we mean a thing that can nourish it...  "
      ]
     },
     "execution_count": 5,
     "metadata": {},
     "output_type": "execute_result"
    }
   ],
   "source": [
    "df = pd.DataFrame(data)\n",
    "df.head()"
   ]
  },
  {
   "cell_type": "markdown",
   "id": "respiratory-storm",
   "metadata": {},
   "source": [
    "## Tokenization "
   ]
  },
  {
   "cell_type": "code",
   "execution_count": 6,
   "id": "ahead-mumbai",
   "metadata": {},
   "outputs": [],
   "source": [
    "def tokenize (string):\n",
    "    tokenizer = RegexpTokenizer(r'\\w+')\n",
    "    tokens = tokenizer.tokenize(string)\n",
    "    return tokens"
   ]
  },
  {
   "cell_type": "code",
   "execution_count": 7,
   "id": "deluxe-damage",
   "metadata": {},
   "outputs": [],
   "source": [
    "df[\"Quote_tok\"] = df[\"Quote\"].apply(tokenize)"
   ]
  },
  {
   "cell_type": "code",
   "execution_count": 8,
   "id": "matched-curtis",
   "metadata": {},
   "outputs": [
    {
     "data": {
      "text/html": [
       "<div>\n",
       "<style scoped>\n",
       "    .dataframe tbody tr th:only-of-type {\n",
       "        vertical-align: middle;\n",
       "    }\n",
       "\n",
       "    .dataframe tbody tr th {\n",
       "        vertical-align: top;\n",
       "    }\n",
       "\n",
       "    .dataframe thead th {\n",
       "        text-align: right;\n",
       "    }\n",
       "</style>\n",
       "<table border=\"1\" class=\"dataframe\">\n",
       "  <thead>\n",
       "    <tr style=\"text-align: right;\">\n",
       "      <th></th>\n",
       "      <th>Author</th>\n",
       "      <th>Category</th>\n",
       "      <th>Quote</th>\n",
       "      <th>Quote_tok</th>\n",
       "    </tr>\n",
       "  </thead>\n",
       "  <tbody>\n",
       "    <tr>\n",
       "      <th>0</th>\n",
       "      <td>Victor Scheffer, 1906 to 2011</td>\n",
       "      <td>science</td>\n",
       "      <td>Although Nature needs thousands or millions of...</td>\n",
       "      <td>[Although, Nature, needs, thousands, or, milli...</td>\n",
       "    </tr>\n",
       "    <tr>\n",
       "      <th>1</th>\n",
       "      <td>Antonie van Leeuwenhoek, 1632 to 1723</td>\n",
       "      <td>science</td>\n",
       "      <td>I believe that thirty million of these animalc...</td>\n",
       "      <td>[I, believe, that, thirty, million, of, these,...</td>\n",
       "    </tr>\n",
       "    <tr>\n",
       "      <th>2</th>\n",
       "      <td>Richard Dawkins, 1941 – present</td>\n",
       "      <td>science</td>\n",
       "      <td>Biology is the study of the complex things in ...</td>\n",
       "      <td>[Biology, is, the, study, of, the, complex, th...</td>\n",
       "    </tr>\n",
       "    <tr>\n",
       "      <th>3</th>\n",
       "      <td>J. B. S. Haldane, 1892 to 1964</td>\n",
       "      <td>science</td>\n",
       "      <td>If physics and biology one day meet, and one o...</td>\n",
       "      <td>[If, physics, and, biology, one, day, meet, an...</td>\n",
       "    </tr>\n",
       "    <tr>\n",
       "      <th>4</th>\n",
       "      <td>Aristotle, 384 BC to 322 BC</td>\n",
       "      <td>science</td>\n",
       "      <td>By ‘life,’ we mean a thing that can nourish it...</td>\n",
       "      <td>[By, life, we, mean, a, thing, that, can, nour...</td>\n",
       "    </tr>\n",
       "  </tbody>\n",
       "</table>\n",
       "</div>"
      ],
      "text/plain": [
       "                                  Author Category  \\\n",
       "0          Victor Scheffer, 1906 to 2011  science   \n",
       "1  Antonie van Leeuwenhoek, 1632 to 1723  science   \n",
       "2        Richard Dawkins, 1941 – present  science   \n",
       "3         J. B. S. Haldane, 1892 to 1964  science   \n",
       "4           Aristotle, 384 BC to 322 BC   science   \n",
       "\n",
       "                                               Quote  \\\n",
       "0  Although Nature needs thousands or millions of...   \n",
       "1  I believe that thirty million of these animalc...   \n",
       "2  Biology is the study of the complex things in ...   \n",
       "3  If physics and biology one day meet, and one o...   \n",
       "4  By ‘life,’ we mean a thing that can nourish it...   \n",
       "\n",
       "                                           Quote_tok  \n",
       "0  [Although, Nature, needs, thousands, or, milli...  \n",
       "1  [I, believe, that, thirty, million, of, these,...  \n",
       "2  [Biology, is, the, study, of, the, complex, th...  \n",
       "3  [If, physics, and, biology, one, day, meet, an...  \n",
       "4  [By, life, we, mean, a, thing, that, can, nour...  "
      ]
     },
     "execution_count": 8,
     "metadata": {},
     "output_type": "execute_result"
    }
   ],
   "source": [
    "df.head()"
   ]
  },
  {
   "cell_type": "code",
   "execution_count": 9,
   "id": "realistic-interaction",
   "metadata": {},
   "outputs": [
    {
     "data": {
      "text/html": [
       "<div>\n",
       "<style scoped>\n",
       "    .dataframe tbody tr th:only-of-type {\n",
       "        vertical-align: middle;\n",
       "    }\n",
       "\n",
       "    .dataframe tbody tr th {\n",
       "        vertical-align: top;\n",
       "    }\n",
       "\n",
       "    .dataframe thead th {\n",
       "        text-align: right;\n",
       "    }\n",
       "</style>\n",
       "<table border=\"1\" class=\"dataframe\">\n",
       "  <thead>\n",
       "    <tr style=\"text-align: right;\">\n",
       "      <th></th>\n",
       "      <th>Author</th>\n",
       "      <th>Category</th>\n",
       "      <th>Quote</th>\n",
       "      <th>Quote_tok</th>\n",
       "    </tr>\n",
       "  </thead>\n",
       "  <tbody>\n",
       "    <tr>\n",
       "      <th>0</th>\n",
       "      <td>Victor Scheffer, 1906 to 2011</td>\n",
       "      <td>science</td>\n",
       "      <td>Although Nature needs thousands or millions of...</td>\n",
       "      <td>Although Nature needs thousands or millions of...</td>\n",
       "    </tr>\n",
       "    <tr>\n",
       "      <th>1</th>\n",
       "      <td>Antonie van Leeuwenhoek, 1632 to 1723</td>\n",
       "      <td>science</td>\n",
       "      <td>I believe that thirty million of these animalc...</td>\n",
       "      <td>I believe that thirty million of these animalc...</td>\n",
       "    </tr>\n",
       "    <tr>\n",
       "      <th>2</th>\n",
       "      <td>Richard Dawkins, 1941 – present</td>\n",
       "      <td>science</td>\n",
       "      <td>Biology is the study of the complex things in ...</td>\n",
       "      <td>Biology is the study of the complex things in ...</td>\n",
       "    </tr>\n",
       "    <tr>\n",
       "      <th>3</th>\n",
       "      <td>J. B. S. Haldane, 1892 to 1964</td>\n",
       "      <td>science</td>\n",
       "      <td>If physics and biology one day meet, and one o...</td>\n",
       "      <td>If physics and biology one day meet and one of...</td>\n",
       "    </tr>\n",
       "    <tr>\n",
       "      <th>4</th>\n",
       "      <td>Aristotle, 384 BC to 322 BC</td>\n",
       "      <td>science</td>\n",
       "      <td>By ‘life,’ we mean a thing that can nourish it...</td>\n",
       "      <td>By life we mean a thing that can nourish itsel...</td>\n",
       "    </tr>\n",
       "  </tbody>\n",
       "</table>\n",
       "</div>"
      ],
      "text/plain": [
       "                                  Author Category  \\\n",
       "0          Victor Scheffer, 1906 to 2011  science   \n",
       "1  Antonie van Leeuwenhoek, 1632 to 1723  science   \n",
       "2        Richard Dawkins, 1941 – present  science   \n",
       "3         J. B. S. Haldane, 1892 to 1964  science   \n",
       "4           Aristotle, 384 BC to 322 BC   science   \n",
       "\n",
       "                                               Quote  \\\n",
       "0  Although Nature needs thousands or millions of...   \n",
       "1  I believe that thirty million of these animalc...   \n",
       "2  Biology is the study of the complex things in ...   \n",
       "3  If physics and biology one day meet, and one o...   \n",
       "4  By ‘life,’ we mean a thing that can nourish it...   \n",
       "\n",
       "                                           Quote_tok  \n",
       "0  Although Nature needs thousands or millions of...  \n",
       "1  I believe that thirty million of these animalc...  \n",
       "2  Biology is the study of the complex things in ...  \n",
       "3  If physics and biology one day meet and one of...  \n",
       "4  By life we mean a thing that can nourish itsel...  "
      ]
     },
     "execution_count": 9,
     "metadata": {},
     "output_type": "execute_result"
    }
   ],
   "source": [
    "df['Quote_tok'] = df['Quote_tok'].apply(lambda x: \" \".join(x))\n",
    "df.head()"
   ]
  },
  {
   "cell_type": "markdown",
   "id": "honey-comparative",
   "metadata": {},
   "source": [
    "## Translating"
   ]
  },
  {
   "cell_type": "code",
   "execution_count": 10,
   "id": "upset-context",
   "metadata": {},
   "outputs": [],
   "source": [
    "def intoEnglish(string):\n",
    "    spanish_string = TextBlob(string)\n",
    "    try:\n",
    "        english_blob=spanish_string.translate(from_lang='es',to='en')\n",
    "        return \"\".join(list(english_blob))\n",
    "    except:\n",
    "        return string"
   ]
  },
  {
   "cell_type": "code",
   "execution_count": 11,
   "id": "affecting-textbook",
   "metadata": {},
   "outputs": [],
   "source": [
    "df['Quote_tok'] = df[\"Quote_tok\"].apply(intoEnglish)"
   ]
  },
  {
   "cell_type": "code",
   "execution_count": 12,
   "id": "addressed-kinase",
   "metadata": {},
   "outputs": [
    {
     "data": {
      "text/html": [
       "<div>\n",
       "<style scoped>\n",
       "    .dataframe tbody tr th:only-of-type {\n",
       "        vertical-align: middle;\n",
       "    }\n",
       "\n",
       "    .dataframe tbody tr th {\n",
       "        vertical-align: top;\n",
       "    }\n",
       "\n",
       "    .dataframe thead th {\n",
       "        text-align: right;\n",
       "    }\n",
       "</style>\n",
       "<table border=\"1\" class=\"dataframe\">\n",
       "  <thead>\n",
       "    <tr style=\"text-align: right;\">\n",
       "      <th></th>\n",
       "      <th>Author</th>\n",
       "      <th>Category</th>\n",
       "      <th>Quote</th>\n",
       "      <th>Quote_tok</th>\n",
       "    </tr>\n",
       "  </thead>\n",
       "  <tbody>\n",
       "    <tr>\n",
       "      <th>0</th>\n",
       "      <td>Victor Scheffer, 1906 to 2011</td>\n",
       "      <td>science</td>\n",
       "      <td>Although Nature needs thousands or millions of...</td>\n",
       "      <td>Although Nature needs thousands or millions of...</td>\n",
       "    </tr>\n",
       "    <tr>\n",
       "      <th>1</th>\n",
       "      <td>Antonie van Leeuwenhoek, 1632 to 1723</td>\n",
       "      <td>science</td>\n",
       "      <td>I believe that thirty million of these animalc...</td>\n",
       "      <td>I believe that thirty million of these animalc...</td>\n",
       "    </tr>\n",
       "    <tr>\n",
       "      <th>2</th>\n",
       "      <td>Richard Dawkins, 1941 – present</td>\n",
       "      <td>science</td>\n",
       "      <td>Biology is the study of the complex things in ...</td>\n",
       "      <td>Biology is the study of the complex things in ...</td>\n",
       "    </tr>\n",
       "    <tr>\n",
       "      <th>3</th>\n",
       "      <td>J. B. S. Haldane, 1892 to 1964</td>\n",
       "      <td>science</td>\n",
       "      <td>If physics and biology one day meet, and one o...</td>\n",
       "      <td>If physics and biology one day meet and one of...</td>\n",
       "    </tr>\n",
       "    <tr>\n",
       "      <th>4</th>\n",
       "      <td>Aristotle, 384 BC to 322 BC</td>\n",
       "      <td>science</td>\n",
       "      <td>By ‘life,’ we mean a thing that can nourish it...</td>\n",
       "      <td>By life we mean a thing that can nourish itsel...</td>\n",
       "    </tr>\n",
       "  </tbody>\n",
       "</table>\n",
       "</div>"
      ],
      "text/plain": [
       "                                  Author Category  \\\n",
       "0          Victor Scheffer, 1906 to 2011  science   \n",
       "1  Antonie van Leeuwenhoek, 1632 to 1723  science   \n",
       "2        Richard Dawkins, 1941 – present  science   \n",
       "3         J. B. S. Haldane, 1892 to 1964  science   \n",
       "4           Aristotle, 384 BC to 322 BC   science   \n",
       "\n",
       "                                               Quote  \\\n",
       "0  Although Nature needs thousands or millions of...   \n",
       "1  I believe that thirty million of these animalc...   \n",
       "2  Biology is the study of the complex things in ...   \n",
       "3  If physics and biology one day meet, and one o...   \n",
       "4  By ‘life,’ we mean a thing that can nourish it...   \n",
       "\n",
       "                                           Quote_tok  \n",
       "0  Although Nature needs thousands or millions of...  \n",
       "1  I believe that thirty million of these animalc...  \n",
       "2  Biology is the study of the complex things in ...  \n",
       "3  If physics and biology one day meet and one of...  \n",
       "4  By life we mean a thing that can nourish itsel...  "
      ]
     },
     "execution_count": 12,
     "metadata": {},
     "output_type": "execute_result"
    }
   ],
   "source": [
    "df.head()"
   ]
  },
  {
   "cell_type": "markdown",
   "id": "professional-chamber",
   "metadata": {},
   "source": [
    "## Stop words"
   ]
  },
  {
   "cell_type": "code",
   "execution_count": 13,
   "id": "separated-karaoke",
   "metadata": {
    "scrolled": true
   },
   "outputs": [
    {
     "name": "stdout",
     "output_type": "stream",
     "text": [
      "[nltk_data] Downloading package stopwords to\n",
      "[nltk_data]     /home/anagarcia/nltk_data...\n",
      "[nltk_data]   Package stopwords is already up-to-date!\n"
     ]
    },
    {
     "data": {
      "text/plain": [
       "True"
      ]
     },
     "execution_count": 13,
     "metadata": {},
     "output_type": "execute_result"
    }
   ],
   "source": [
    "nltk.download('stopwords')"
   ]
  },
  {
   "cell_type": "code",
   "execution_count": 23,
   "id": "superior-calendar",
   "metadata": {},
   "outputs": [
    {
     "name": "stdout",
     "output_type": "stream",
     "text": [
      "[nltk_data] Downloading package vader_lexicon to\n",
      "[nltk_data]     /home/anagarcia/nltk_data...\n",
      "[nltk_data]   Package vader_lexicon is already up-to-date!\n"
     ]
    },
    {
     "data": {
      "text/plain": [
       "True"
      ]
     },
     "execution_count": 23,
     "metadata": {},
     "output_type": "execute_result"
    }
   ],
   "source": [
    "nltk.downloader.download('vader_lexicon')"
   ]
  },
  {
   "cell_type": "code",
   "execution_count": 24,
   "id": "brutal-shelf",
   "metadata": {},
   "outputs": [],
   "source": [
    "stop_words = set(stopwords.words('english'))"
   ]
  },
  {
   "cell_type": "code",
   "execution_count": 25,
   "id": "neither-hamilton",
   "metadata": {},
   "outputs": [],
   "source": [
    "df[\"Quote_tok\"] = df[\"Quote_tok\"].apply(lambda x: x.split(\" \"))"
   ]
  },
  {
   "cell_type": "code",
   "execution_count": 26,
   "id": "accomplished-minnesota",
   "metadata": {},
   "outputs": [],
   "source": [
    "def stop_words (lista):\n",
    "    stop_words = set(stopwords.words('english'))\n",
    "    nueva_lista = []\n",
    "    for string in lista:\n",
    "        if string not in stop_words:\n",
    "            nueva_lista.append(string)\n",
    "    return \" \".join(nueva_lista)"
   ]
  },
  {
   "cell_type": "code",
   "execution_count": 27,
   "id": "consistent-equity",
   "metadata": {},
   "outputs": [],
   "source": [
    "df[\"Quote_tok\"] = df[\"Quote_tok\"].apply(stop_words)"
   ]
  },
  {
   "cell_type": "code",
   "execution_count": 28,
   "id": "resident-shift",
   "metadata": {},
   "outputs": [
    {
     "data": {
      "text/html": [
       "<div>\n",
       "<style scoped>\n",
       "    .dataframe tbody tr th:only-of-type {\n",
       "        vertical-align: middle;\n",
       "    }\n",
       "\n",
       "    .dataframe tbody tr th {\n",
       "        vertical-align: top;\n",
       "    }\n",
       "\n",
       "    .dataframe thead th {\n",
       "        text-align: right;\n",
       "    }\n",
       "</style>\n",
       "<table border=\"1\" class=\"dataframe\">\n",
       "  <thead>\n",
       "    <tr style=\"text-align: right;\">\n",
       "      <th></th>\n",
       "      <th>Author</th>\n",
       "      <th>Category</th>\n",
       "      <th>Quote</th>\n",
       "      <th>Quote_tok</th>\n",
       "    </tr>\n",
       "  </thead>\n",
       "  <tbody>\n",
       "    <tr>\n",
       "      <th>0</th>\n",
       "      <td>Victor Scheffer, 1906 to 2011</td>\n",
       "      <td>science</td>\n",
       "      <td>Although Nature needs thousands or millions of...</td>\n",
       "      <td>Although Nature needs thousands millions years...</td>\n",
       "    </tr>\n",
       "    <tr>\n",
       "      <th>1</th>\n",
       "      <td>Antonie van Leeuwenhoek, 1632 to 1723</td>\n",
       "      <td>science</td>\n",
       "      <td>I believe that thirty million of these animalc...</td>\n",
       "      <td>I believe thirty million animalcules together ...</td>\n",
       "    </tr>\n",
       "    <tr>\n",
       "      <th>2</th>\n",
       "      <td>Richard Dawkins, 1941 – present</td>\n",
       "      <td>science</td>\n",
       "      <td>Biology is the study of the complex things in ...</td>\n",
       "      <td>Biology study complex things Universe Physics ...</td>\n",
       "    </tr>\n",
       "    <tr>\n",
       "      <th>3</th>\n",
       "      <td>J. B. S. Haldane, 1892 to 1964</td>\n",
       "      <td>science</td>\n",
       "      <td>If physics and biology one day meet, and one o...</td>\n",
       "      <td>If physics biology one day meet one two swallo...</td>\n",
       "    </tr>\n",
       "    <tr>\n",
       "      <th>4</th>\n",
       "      <td>Aristotle, 384 BC to 322 BC</td>\n",
       "      <td>science</td>\n",
       "      <td>By ‘life,’ we mean a thing that can nourish it...</td>\n",
       "      <td>By life mean thing nourish grow decay noscript...</td>\n",
       "    </tr>\n",
       "  </tbody>\n",
       "</table>\n",
       "</div>"
      ],
      "text/plain": [
       "                                  Author Category  \\\n",
       "0          Victor Scheffer, 1906 to 2011  science   \n",
       "1  Antonie van Leeuwenhoek, 1632 to 1723  science   \n",
       "2        Richard Dawkins, 1941 – present  science   \n",
       "3         J. B. S. Haldane, 1892 to 1964  science   \n",
       "4           Aristotle, 384 BC to 322 BC   science   \n",
       "\n",
       "                                               Quote  \\\n",
       "0  Although Nature needs thousands or millions of...   \n",
       "1  I believe that thirty million of these animalc...   \n",
       "2  Biology is the study of the complex things in ...   \n",
       "3  If physics and biology one day meet, and one o...   \n",
       "4  By ‘life,’ we mean a thing that can nourish it...   \n",
       "\n",
       "                                           Quote_tok  \n",
       "0  Although Nature needs thousands millions years...  \n",
       "1  I believe thirty million animalcules together ...  \n",
       "2  Biology study complex things Universe Physics ...  \n",
       "3  If physics biology one day meet one two swallo...  \n",
       "4  By life mean thing nourish grow decay noscript...  "
      ]
     },
     "execution_count": 28,
     "metadata": {},
     "output_type": "execute_result"
    }
   ],
   "source": [
    "df.head()"
   ]
  },
  {
   "cell_type": "markdown",
   "id": "silver-bruce",
   "metadata": {},
   "source": [
    "## Sentiment Analysis"
   ]
  },
  {
   "cell_type": "code",
   "execution_count": 29,
   "id": "artificial-extreme",
   "metadata": {},
   "outputs": [],
   "source": [
    "def sentimentAnalysis(sentence):\n",
    "    sia = SentimentIntensityAnalyzer()\n",
    "    polarity = sia.polarity_scores(sentence)\n",
    "    pol = polarity['compound']\n",
    "    return pol"
   ]
  },
  {
   "cell_type": "code",
   "execution_count": 35,
   "id": "intellectual-hypothetical",
   "metadata": {},
   "outputs": [
    {
     "data": {
      "text/html": [
       "<div>\n",
       "<style scoped>\n",
       "    .dataframe tbody tr th:only-of-type {\n",
       "        vertical-align: middle;\n",
       "    }\n",
       "\n",
       "    .dataframe tbody tr th {\n",
       "        vertical-align: top;\n",
       "    }\n",
       "\n",
       "    .dataframe thead th {\n",
       "        text-align: right;\n",
       "    }\n",
       "</style>\n",
       "<table border=\"1\" class=\"dataframe\">\n",
       "  <thead>\n",
       "    <tr style=\"text-align: right;\">\n",
       "      <th></th>\n",
       "      <th>Author</th>\n",
       "      <th>Category</th>\n",
       "      <th>Quote</th>\n",
       "      <th>Quote_tok</th>\n",
       "      <th>SA</th>\n",
       "    </tr>\n",
       "  </thead>\n",
       "  <tbody>\n",
       "    <tr>\n",
       "      <th>0</th>\n",
       "      <td>Victor Scheffer, 1906 to 2011</td>\n",
       "      <td>science</td>\n",
       "      <td>Although Nature needs thousands or millions of...</td>\n",
       "      <td>Although Nature needs thousands millions years...</td>\n",
       "      <td>-0.3400</td>\n",
       "    </tr>\n",
       "    <tr>\n",
       "      <th>1</th>\n",
       "      <td>Antonie van Leeuwenhoek, 1632 to 1723</td>\n",
       "      <td>science</td>\n",
       "      <td>I believe that thirty million of these animalc...</td>\n",
       "      <td>I believe thirty million animalcules together ...</td>\n",
       "      <td>0.0000</td>\n",
       "    </tr>\n",
       "    <tr>\n",
       "      <th>2</th>\n",
       "      <td>Richard Dawkins, 1941 – present</td>\n",
       "      <td>science</td>\n",
       "      <td>Biology is the study of the complex things in ...</td>\n",
       "      <td>Biology study complex things Universe Physics ...</td>\n",
       "      <td>0.0000</td>\n",
       "    </tr>\n",
       "    <tr>\n",
       "      <th>3</th>\n",
       "      <td>J. B. S. Haldane, 1892 to 1964</td>\n",
       "      <td>science</td>\n",
       "      <td>If physics and biology one day meet, and one o...</td>\n",
       "      <td>If physics biology one day meet one two swallo...</td>\n",
       "      <td>0.0000</td>\n",
       "    </tr>\n",
       "    <tr>\n",
       "      <th>4</th>\n",
       "      <td>Aristotle, 384 BC to 322 BC</td>\n",
       "      <td>science</td>\n",
       "      <td>By ‘life,’ we mean a thing that can nourish it...</td>\n",
       "      <td>By life mean thing nourish grow decay noscript...</td>\n",
       "      <td>-0.4019</td>\n",
       "    </tr>\n",
       "    <tr>\n",
       "      <th>...</th>\n",
       "      <td>...</td>\n",
       "      <td>...</td>\n",
       "      <td>...</td>\n",
       "      <td>...</td>\n",
       "      <td>...</td>\n",
       "    </tr>\n",
       "    <tr>\n",
       "      <th>313</th>\n",
       "      <td>Gabriel García Márquez</td>\n",
       "      <td>literature</td>\n",
       "      <td>Time is the River on which the leaves of our t...</td>\n",
       "      <td>Time River leaves thoughts carried oblivion</td>\n",
       "      <td>0.0000</td>\n",
       "    </tr>\n",
       "    <tr>\n",
       "      <th>314</th>\n",
       "      <td>Mark Twain</td>\n",
       "      <td>literature</td>\n",
       "      <td>I told Terry I was leaving. She had been think...</td>\n",
       "      <td>I told Terry I leaving She thinking night resi...</td>\n",
       "      <td>0.7003</td>\n",
       "    </tr>\n",
       "    <tr>\n",
       "      <th>315</th>\n",
       "      <td>George Eliot</td>\n",
       "      <td>literature</td>\n",
       "      <td>Babies, babies, babies. Why did God make so ma...</td>\n",
       "      <td>Babies babies babies Why God make many babies ...</td>\n",
       "      <td>-0.0516</td>\n",
       "    </tr>\n",
       "    <tr>\n",
       "      <th>316</th>\n",
       "      <td>Geoffrey Chaucer</td>\n",
       "      <td>literature</td>\n",
       "      <td>Her heart of compressed ash, which had resiste...</td>\n",
       "      <td>Her heart compressed ash resisted telling blow...</td>\n",
       "      <td>0.0382</td>\n",
       "    </tr>\n",
       "    <tr>\n",
       "      <th>317</th>\n",
       "      <td>Dante Alighieri</td>\n",
       "      <td>literature</td>\n",
       "      <td>Jim said that bees won’t sting idiots, but I d...</td>\n",
       "      <td>Jim said bees sting idiots I believe I tried l...</td>\n",
       "      <td>0.0000</td>\n",
       "    </tr>\n",
       "  </tbody>\n",
       "</table>\n",
       "<p>318 rows × 5 columns</p>\n",
       "</div>"
      ],
      "text/plain": [
       "                                    Author    Category  \\\n",
       "0            Victor Scheffer, 1906 to 2011     science   \n",
       "1    Antonie van Leeuwenhoek, 1632 to 1723     science   \n",
       "2          Richard Dawkins, 1941 – present     science   \n",
       "3           J. B. S. Haldane, 1892 to 1964     science   \n",
       "4             Aristotle, 384 BC to 322 BC      science   \n",
       "..                                     ...         ...   \n",
       "313                 Gabriel García Márquez  literature   \n",
       "314                             Mark Twain  literature   \n",
       "315                           George Eliot  literature   \n",
       "316                       Geoffrey Chaucer  literature   \n",
       "317                        Dante Alighieri  literature   \n",
       "\n",
       "                                                 Quote  \\\n",
       "0    Although Nature needs thousands or millions of...   \n",
       "1    I believe that thirty million of these animalc...   \n",
       "2    Biology is the study of the complex things in ...   \n",
       "3    If physics and biology one day meet, and one o...   \n",
       "4    By ‘life,’ we mean a thing that can nourish it...   \n",
       "..                                                 ...   \n",
       "313  Time is the River on which the leaves of our t...   \n",
       "314  I told Terry I was leaving. She had been think...   \n",
       "315  Babies, babies, babies. Why did God make so ma...   \n",
       "316  Her heart of compressed ash, which had resiste...   \n",
       "317  Jim said that bees won’t sting idiots, but I d...   \n",
       "\n",
       "                                             Quote_tok      SA  \n",
       "0    Although Nature needs thousands millions years... -0.3400  \n",
       "1    I believe thirty million animalcules together ...  0.0000  \n",
       "2    Biology study complex things Universe Physics ...  0.0000  \n",
       "3    If physics biology one day meet one two swallo...  0.0000  \n",
       "4    By life mean thing nourish grow decay noscript... -0.4019  \n",
       "..                                                 ...     ...  \n",
       "313        Time River leaves thoughts carried oblivion  0.0000  \n",
       "314  I told Terry I leaving She thinking night resi...  0.7003  \n",
       "315  Babies babies babies Why God make many babies ... -0.0516  \n",
       "316  Her heart compressed ash resisted telling blow...  0.0382  \n",
       "317  Jim said bees sting idiots I believe I tried l...  0.0000  \n",
       "\n",
       "[318 rows x 5 columns]"
      ]
     },
     "execution_count": 35,
     "metadata": {},
     "output_type": "execute_result"
    }
   ],
   "source": [
    "df['SA'] = df[\"Quote_tok\"].apply(sentimentAnalysis)\n",
    "df"
   ]
  },
  {
   "cell_type": "code",
   "execution_count": 36,
   "id": "starting-norway",
   "metadata": {},
   "outputs": [
    {
     "data": {
      "text/plain": [
       "Author        object\n",
       "Category      object\n",
       "Quote         object\n",
       "Quote_tok     object\n",
       "SA           float64\n",
       "dtype: object"
      ]
     },
     "execution_count": 36,
     "metadata": {},
     "output_type": "execute_result"
    }
   ],
   "source": [
    "df.dtypes"
   ]
  },
  {
   "cell_type": "code",
   "execution_count": 40,
   "id": "detected-hammer",
   "metadata": {},
   "outputs": [],
   "source": [
    "df_sentimental = df.groupby([\"Category\"]).mean()"
   ]
  },
  {
   "cell_type": "code",
   "execution_count": 41,
   "id": "silver-orchestra",
   "metadata": {},
   "outputs": [
    {
     "data": {
      "text/html": [
       "<div>\n",
       "<style scoped>\n",
       "    .dataframe tbody tr th:only-of-type {\n",
       "        vertical-align: middle;\n",
       "    }\n",
       "\n",
       "    .dataframe tbody tr th {\n",
       "        vertical-align: top;\n",
       "    }\n",
       "\n",
       "    .dataframe thead th {\n",
       "        text-align: right;\n",
       "    }\n",
       "</style>\n",
       "<table border=\"1\" class=\"dataframe\">\n",
       "  <thead>\n",
       "    <tr style=\"text-align: right;\">\n",
       "      <th></th>\n",
       "      <th>Category</th>\n",
       "      <th>SA</th>\n",
       "    </tr>\n",
       "  </thead>\n",
       "  <tbody>\n",
       "    <tr>\n",
       "      <th>0</th>\n",
       "      <td>literature</td>\n",
       "      <td>0.046540</td>\n",
       "    </tr>\n",
       "    <tr>\n",
       "      <th>1</th>\n",
       "      <td>philosophy</td>\n",
       "      <td>0.139058</td>\n",
       "    </tr>\n",
       "    <tr>\n",
       "      <th>2</th>\n",
       "      <td>science</td>\n",
       "      <td>0.164980</td>\n",
       "    </tr>\n",
       "  </tbody>\n",
       "</table>\n",
       "</div>"
      ],
      "text/plain": [
       "     Category        SA\n",
       "0  literature  0.046540\n",
       "1  philosophy  0.139058\n",
       "2     science  0.164980"
      ]
     },
     "execution_count": 41,
     "metadata": {},
     "output_type": "execute_result"
    }
   ],
   "source": [
    "df_sentimental.reset_index()"
   ]
  },
  {
   "cell_type": "code",
   "execution_count": null,
   "id": "enormous-beginning",
   "metadata": {},
   "outputs": [],
   "source": []
  }
 ],
 "metadata": {
  "kernelspec": {
   "display_name": "Python 3",
   "language": "python",
   "name": "python3"
  },
  "language_info": {
   "codemirror_mode": {
    "name": "ipython",
    "version": 3
   },
   "file_extension": ".py",
   "mimetype": "text/x-python",
   "name": "python",
   "nbconvert_exporter": "python",
   "pygments_lexer": "ipython3",
   "version": "3.8.5"
  },
  "toc": {
   "base_numbering": 1,
   "nav_menu": {},
   "number_sections": true,
   "sideBar": true,
   "skip_h1_title": false,
   "title_cell": "Table of Contents",
   "title_sidebar": "Contents",
   "toc_cell": false,
   "toc_position": {},
   "toc_section_display": true,
   "toc_window_display": false
  },
  "varInspector": {
   "cols": {
    "lenName": 16,
    "lenType": 16,
    "lenVar": 40
   },
   "kernels_config": {
    "python": {
     "delete_cmd_postfix": "",
     "delete_cmd_prefix": "del ",
     "library": "var_list.py",
     "varRefreshCmd": "print(var_dic_list())"
    },
    "r": {
     "delete_cmd_postfix": ") ",
     "delete_cmd_prefix": "rm(",
     "library": "var_list.r",
     "varRefreshCmd": "cat(var_dic_list()) "
    }
   },
   "types_to_exclude": [
    "module",
    "function",
    "builtin_function_or_method",
    "instance",
    "_Feature"
   ],
   "window_display": false
  }
 },
 "nbformat": 4,
 "nbformat_minor": 5
}
